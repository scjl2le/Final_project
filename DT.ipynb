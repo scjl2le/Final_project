{
 "cells": [
  {
   "cell_type": "code",
   "execution_count": 1,
   "id": "6f880394",
   "metadata": {
    "scrolled": true
   },
   "outputs": [],
   "source": [
    "import numpy as np\n",
    "import pandas as pd\n",
    "import matplotlib.pyplot as plt\n",
    "import time\n",
    "from sklearn.pipeline import Pipeline\n",
    "from sklearn.preprocessing import (StandardScaler, OneHotEncoder)\n",
    "from sklearn.impute import SimpleImputer\n",
    "from sklearn.tree import DecisionTreeClassifier\n",
    "from sklearn import tree\n",
    "from sklearn.model_selection import (GridSearchCV, cross_val_score)\n",
    "from sklearn import metrics\n",
    "import graphviz\n",
    "from joblib import dump, load\n",
    "from sklearn.preprocessing import MinMaxScaler\n",
    "from sklearn.model_selection import cross_val_predict\n",
    "from sklearn.metrics import classification_report, confusion_matrix, ConfusionMatrixDisplay\n",
    "from sklearn.discriminant_analysis import LinearDiscriminantAnalysis\n",
    "from sklearn.decomposition import PCA\n",
    "from sklearn.neighbors import NeighborhoodComponentsAnalysis\n",
    "import uilities"
   ]
  },
  {
   "cell_type": "code",
   "execution_count": 2,
   "id": "f7cdc808",
   "metadata": {},
   "outputs": [],
   "source": [
    "# Windows\n",
    "ROOT = \"C:/Users/weiru/OneDrive - University of Leeds/MSc-Lab/datasets\""
   ]
  },
  {
   "cell_type": "code",
   "execution_count": 3,
   "id": "6fcbe190",
   "metadata": {},
   "outputs": [],
   "source": [
    "dataPath = ROOT + \"/files/dataset1PTHuse1_400.csv\""
   ]
  },
  {
   "cell_type": "code",
   "execution_count": 4,
   "id": "29e42e6a",
   "metadata": {},
   "outputs": [],
   "source": [
    "df = pd.read_csv(dataPath)"
   ]
  },
  {
   "cell_type": "code",
   "execution_count": 5,
   "id": "e45d1962",
   "metadata": {},
   "outputs": [
    {
     "data": {
      "text/html": [
       "<div>\n",
       "<style scoped>\n",
       "    .dataframe tbody tr th:only-of-type {\n",
       "        vertical-align: middle;\n",
       "    }\n",
       "\n",
       "    .dataframe tbody tr th {\n",
       "        vertical-align: top;\n",
       "    }\n",
       "\n",
       "    .dataframe thead th {\n",
       "        text-align: right;\n",
       "    }\n",
       "</style>\n",
       "<table border=\"1\" class=\"dataframe\">\n",
       "  <thead>\n",
       "    <tr style=\"text-align: right;\">\n",
       "      <th></th>\n",
       "      <th>Patient</th>\n",
       "      <th>PTH</th>\n",
       "      <th>Ca</th>\n",
       "      <th>Vit D</th>\n",
       "      <th>Mg</th>\n",
       "      <th>eGFR</th>\n",
       "      <th>Interpretation</th>\n",
       "    </tr>\n",
       "  </thead>\n",
       "  <tbody>\n",
       "    <tr>\n",
       "      <th>0</th>\n",
       "      <td>1</td>\n",
       "      <td>1.1</td>\n",
       "      <td>1.90</td>\n",
       "      <td>72.0</td>\n",
       "      <td>0.1</td>\n",
       "      <td>80</td>\n",
       "      <td>A1</td>\n",
       "    </tr>\n",
       "    <tr>\n",
       "      <th>1</th>\n",
       "      <td>2</td>\n",
       "      <td>15.4</td>\n",
       "      <td>2.85</td>\n",
       "      <td>90.0</td>\n",
       "      <td>0.9</td>\n",
       "      <td>66</td>\n",
       "      <td>I</td>\n",
       "    </tr>\n",
       "    <tr>\n",
       "      <th>2</th>\n",
       "      <td>3</td>\n",
       "      <td>0.7</td>\n",
       "      <td>1.70</td>\n",
       "      <td>89.0</td>\n",
       "      <td>1.0</td>\n",
       "      <td>90</td>\n",
       "      <td>A2</td>\n",
       "    </tr>\n",
       "    <tr>\n",
       "      <th>3</th>\n",
       "      <td>4</td>\n",
       "      <td>2.3</td>\n",
       "      <td>1.90</td>\n",
       "      <td>60.0</td>\n",
       "      <td>0.1</td>\n",
       "      <td>80</td>\n",
       "      <td>B1</td>\n",
       "    </tr>\n",
       "    <tr>\n",
       "      <th>4</th>\n",
       "      <td>5</td>\n",
       "      <td>12.2</td>\n",
       "      <td>1.70</td>\n",
       "      <td>32.0</td>\n",
       "      <td>1.0</td>\n",
       "      <td>90</td>\n",
       "      <td>C1</td>\n",
       "    </tr>\n",
       "    <tr>\n",
       "      <th>...</th>\n",
       "      <td>...</td>\n",
       "      <td>...</td>\n",
       "      <td>...</td>\n",
       "      <td>...</td>\n",
       "      <td>...</td>\n",
       "      <td>...</td>\n",
       "      <td>...</td>\n",
       "    </tr>\n",
       "    <tr>\n",
       "      <th>395</th>\n",
       "      <td>396</td>\n",
       "      <td>15.4</td>\n",
       "      <td>2.85</td>\n",
       "      <td>90.0</td>\n",
       "      <td>0.9</td>\n",
       "      <td>66</td>\n",
       "      <td>I</td>\n",
       "    </tr>\n",
       "    <tr>\n",
       "      <th>396</th>\n",
       "      <td>397</td>\n",
       "      <td>0.7</td>\n",
       "      <td>1.70</td>\n",
       "      <td>89.0</td>\n",
       "      <td>1.0</td>\n",
       "      <td>90</td>\n",
       "      <td>A2</td>\n",
       "    </tr>\n",
       "    <tr>\n",
       "      <th>397</th>\n",
       "      <td>398</td>\n",
       "      <td>2.3</td>\n",
       "      <td>1.90</td>\n",
       "      <td>60.0</td>\n",
       "      <td>0.1</td>\n",
       "      <td>80</td>\n",
       "      <td>B1</td>\n",
       "    </tr>\n",
       "    <tr>\n",
       "      <th>398</th>\n",
       "      <td>399</td>\n",
       "      <td>12.2</td>\n",
       "      <td>1.70</td>\n",
       "      <td>32.0</td>\n",
       "      <td>1.0</td>\n",
       "      <td>90</td>\n",
       "      <td>C1</td>\n",
       "    </tr>\n",
       "    <tr>\n",
       "      <th>399</th>\n",
       "      <td>400</td>\n",
       "      <td>0.5</td>\n",
       "      <td>2.92</td>\n",
       "      <td>95.0</td>\n",
       "      <td>1.3</td>\n",
       "      <td>71</td>\n",
       "      <td>G</td>\n",
       "    </tr>\n",
       "  </tbody>\n",
       "</table>\n",
       "<p>400 rows × 7 columns</p>\n",
       "</div>"
      ],
      "text/plain": [
       "     Patient   PTH    Ca  Vit D   Mg  eGFR Interpretation\n",
       "0          1   1.1  1.90   72.0  0.1    80             A1\n",
       "1          2  15.4  2.85   90.0  0.9    66              I\n",
       "2          3   0.7  1.70   89.0  1.0    90             A2\n",
       "3          4   2.3  1.90   60.0  0.1    80             B1\n",
       "4          5  12.2  1.70   32.0  1.0    90             C1\n",
       "..       ...   ...   ...    ...  ...   ...            ...\n",
       "395      396  15.4  2.85   90.0  0.9    66              I\n",
       "396      397   0.7  1.70   89.0  1.0    90             A2\n",
       "397      398   2.3  1.90   60.0  0.1    80             B1\n",
       "398      399  12.2  1.70   32.0  1.0    90             C1\n",
       "399      400   0.5  2.92   95.0  1.3    71              G\n",
       "\n",
       "[400 rows x 7 columns]"
      ]
     },
     "execution_count": 5,
     "metadata": {},
     "output_type": "execute_result"
    }
   ],
   "source": [
    "df"
   ]
  },
  {
   "cell_type": "code",
   "execution_count": 6,
   "id": "3b210611",
   "metadata": {},
   "outputs": [],
   "source": [
    "# Delete Patitent column\n",
    "\n",
    "df = df.drop(columns=['Patient']).copy()"
   ]
  },
  {
   "cell_type": "code",
   "execution_count": 7,
   "id": "4f63ecef",
   "metadata": {},
   "outputs": [],
   "source": [
    "class DecisionTree():\n",
    "    \n",
    "    def __init__(self):\n",
    "        pass\n",
    "        \n",
    "    def removeNull(self, df):\n",
    "        nonNull_df = df.copy()\n",
    "        nonNull_df = nonNull_df.dropna(how='any',axis=0)\n",
    "        return nonNull_df \n",
    "    \n",
    "    def imputedDF(self, df, strategy):\n",
    "        \n",
    "        fill_NaN           = SimpleImputer(strategy=strategy)\n",
    "        df_attr            = df.iloc[:,:-1]\n",
    "\n",
    "        imputed_DF         = pd.DataFrame(fill_NaN.fit_transform(df_attr))\n",
    "        imputed_DF.columns = df_attr.columns\n",
    "        imputed_DF.index   = df_attr.index\n",
    "\n",
    "        new_df             = imputed_DF.join(df.iloc[:,-1])\n",
    "\n",
    "        return new_df\n",
    "    \n",
    "    \n",
    "    \n",
    "    def normalizedDF(self, df):\n",
    "        normalized            = MinMaxScaler()\n",
    "        df_attr               = df.iloc[:,:-1]\n",
    "        normalized_DF         = pd.DataFrame(normalized.fit_transform(df_attr))\n",
    "        normalized_DF.columns = df_attr.columns\n",
    "        normalized_DF.index   = df_attr.index\n",
    "        new_df                = normalized_DF.join(df.iloc[:,-1])\n",
    "        return new_df\n",
    "    \n",
    "    \n",
    "    \n",
    "    def standardDF(self, df):\n",
    "        std_scale      = StandardScaler()\n",
    "        df_attr        = df.iloc[:,:-1]\n",
    "        std_DF         = pd.DataFrame(std_scale.fit_transform(df_attr))\n",
    "        std_DF.columns = df_attr.columns\n",
    "        std_DF.index   = df_attr.index\n",
    "        new_df         = std_DF.join(df.iloc[:,-1])\n",
    "        return new_df\n",
    "    \n",
    "    \n",
    "    \n",
    "    def checkIsNull(self, df):\n",
    "        '''\n",
    "            Check whether the dataframe has nulls\n",
    "        '''\n",
    "        if df.isnull().values.any():\n",
    "            print(\"Data have nulls\")\n",
    "        else:\n",
    "            print(\"Data don't have nulls\")\n",
    "        \n",
    "        \n",
    "        \n",
    "    def pipe(self, CA=\"\"):\n",
    "        \n",
    "        RANDOM_STATE = 42\n",
    "        dtc          = DecisionTreeClassifier(random_state=RANDOM_STATE)\n",
    "        pca          = PCA()\n",
    "        lda          = LinearDiscriminantAnalysis()\n",
    "        nca          = NeighborhoodComponentsAnalysis(random_state=RANDOM_STATE)\n",
    "        \n",
    "        dtc_pipe     = Pipeline([('dtc', dtc)])\n",
    "        pca_pipe     = Pipeline([('pca', pca), ('dtc', dtc)])\n",
    "        lda_pipe     = Pipeline([('lda', lda), ('dtc', dtc)])\n",
    "        nca_pipe     = Pipeline([('nca', nca), ('dtc', dtc)])\n",
    "        \n",
    "        if CA == 'pca':\n",
    "            return pca_pipe\n",
    "        if CA == 'lda':\n",
    "            return lda_pipe\n",
    "        if CA == 'nca':\n",
    "            return nca_pipe\n",
    "        \n",
    "        return dtc_pipe\n",
    "    \n",
    "    \n",
    "    \n",
    "    def trainAndTarg(self, df):\n",
    "    \n",
    "        attri  = df.iloc[:,:-1]\n",
    "        target = df.iloc[:, -1]\n",
    "\n",
    "        return attri,target\n",
    "    \n",
    "    \n",
    "    \n",
    "    def print_best_param(self, clf_fit):\n",
    "        print('Best score : ', clf_fit.best_score_)\n",
    "        print('Best parameters', clf_fit.best_params_)\n",
    "        \n",
    "        \n",
    "    \n",
    "    def search__best_param(self, df, pipe, criterion, p=False):\n",
    "        grid_params = {\n",
    "            'dtc__criterion'            : [criterion], # 'gini', 'entropy'\n",
    "            'dtc__max_depth'            : [a for a in range(1,20)],\n",
    "            'dtc__min_samples_split'    : [b for b in range(2,20)],\n",
    "            'dtc__min_samples_leaf'     : [c for c in range(1,20)],\n",
    "    #         'dtc__max_features'         : ['sqrt']\n",
    "\n",
    "        }\n",
    "        clf = GridSearchCV(\n",
    "            pipe,\n",
    "            grid_params,\n",
    "            cv=8,\n",
    "            n_jobs=-1\n",
    "        )\n",
    "        \n",
    "        attri, target = self.trainAndTarg(df)\n",
    "        clf_fit = clf.fit(attri, target)\n",
    "\n",
    "        # print parameter\n",
    "        if p is True:\n",
    "            self.print_best_param(clf_fit)\n",
    "\n",
    "        return clf_fit"
   ]
  },
  {
   "cell_type": "code",
   "execution_count": 8,
   "id": "65c48c12",
   "metadata": {},
   "outputs": [],
   "source": [
    "def search_params(criterion, attri, target):\n",
    "    dtc         = DecisionTreeClassifier()\n",
    "    dtc_pipe    = Pipeline([('dtc', dtc)])\n",
    "    \n",
    "    \n",
    "    grid_params = {\n",
    "        'dtc__criterion'            : [criterion], # 'gini', 'entropy'\n",
    "        'dtc__max_depth'            : [a for a in range(1,20)],\n",
    "        'dtc__min_samples_split'    : [b for b in range(2,20)],\n",
    "        'dtc__min_samples_leaf'     : [c for c in range(1,20)],\n",
    "#         'dtc__max_features'         : ['sqrt']\n",
    "        \n",
    "    }\n",
    "\n",
    "    clf = GridSearchCV(\n",
    "        dtc_pipe,\n",
    "        grid_params,\n",
    "        cv=8,\n",
    "        n_jobs=-1\n",
    "    )\n",
    "    \n",
    "    clf_fit = clf.fit(attri, target)\n",
    "    \n",
    "    return clf_fit"
   ]
  },
  {
   "cell_type": "code",
   "execution_count": 9,
   "id": "b0fe5935",
   "metadata": {},
   "outputs": [],
   "source": [
    "DTree = DecisionTree()"
   ]
  },
  {
   "cell_type": "markdown",
   "id": "e24cb039",
   "metadata": {},
   "source": [
    "### Baseline Experiment"
   ]
  },
  {
   "cell_type": "markdown",
   "id": "216b5e11",
   "metadata": {},
   "source": [
    "#### remove nulls"
   ]
  },
  {
   "cell_type": "code",
   "execution_count": 10,
   "id": "ec21585a",
   "metadata": {},
   "outputs": [],
   "source": [
    "def runExp1(df,CA):\n",
    "    nonNull_df    = DTree.removeNull(df)\n",
    "    pipe          = DTree.pipe(CA)\n",
    "    criterion     = ['gini', 'entropy']\n",
    "    clfs          = []\n",
    "    for c in criterion:\n",
    "        clfs.append(DTree.search__best_param(df=nonNull_df, pipe=pipe, criterion=c, p=True))\n",
    "\n",
    "    return clfs"
   ]
  },
  {
   "cell_type": "code",
   "execution_count": 11,
   "id": "e2978d3b",
   "metadata": {},
   "outputs": [
    {
     "name": "stdout",
     "output_type": "stream",
     "text": [
      "Best score :  0.9838691026827011\n",
      "Best parameters {'dtc__criterion': 'gini', 'dtc__max_depth': 8, 'dtc__min_samples_leaf': 1, 'dtc__min_samples_split': 2}\n",
      "Best score :  0.967622571692877\n",
      "Best parameters {'dtc__criterion': 'entropy', 'dtc__max_depth': 8, 'dtc__min_samples_leaf': 1, 'dtc__min_samples_split': 3}\n"
     ]
    }
   ],
   "source": [
    "result_n_n = runExp1(df,'')"
   ]
  },
  {
   "cell_type": "code",
   "execution_count": 12,
   "id": "49a46716",
   "metadata": {},
   "outputs": [
    {
     "name": "stdout",
     "output_type": "stream",
     "text": [
      "Best score :  0.7898936170212766\n",
      "Best parameters {'dtc__criterion': 'gini', 'dtc__max_depth': 10, 'dtc__min_samples_leaf': 1, 'dtc__min_samples_split': 5}\n",
      "Best score :  0.8192067530064755\n",
      "Best parameters {'dtc__criterion': 'entropy', 'dtc__max_depth': 10, 'dtc__min_samples_leaf': 1, 'dtc__min_samples_split': 2}\n"
     ]
    }
   ],
   "source": [
    "result_pca_n = runExp1(df,'pca')"
   ]
  },
  {
   "cell_type": "code",
   "execution_count": 13,
   "id": "6a083ab8",
   "metadata": {},
   "outputs": [
    {
     "name": "stdout",
     "output_type": "stream",
     "text": [
      "Best score :  0.8758672525439408\n",
      "Best parameters {'dtc__criterion': 'gini', 'dtc__max_depth': 7, 'dtc__min_samples_leaf': 1, 'dtc__min_samples_split': 5}\n",
      "Best score :  0.8785846438482886\n",
      "Best parameters {'dtc__criterion': 'entropy', 'dtc__max_depth': 11, 'dtc__min_samples_leaf': 1, 'dtc__min_samples_split': 2}\n"
     ]
    }
   ],
   "source": [
    "result_lda_n = runExp1(df,'lda')"
   ]
  },
  {
   "cell_type": "markdown",
   "id": "fc3b10b1",
   "metadata": {},
   "source": [
    "#### norm  + remove nulls"
   ]
  },
  {
   "cell_type": "code",
   "execution_count": 14,
   "id": "85c98a13",
   "metadata": {},
   "outputs": [],
   "source": [
    "def runExp1_2(df,CA):\n",
    "    nonNull_df    = DTree.removeNull(df)\n",
    "    norm_df       = DTree.normalizedDF(nonNull_df)\n",
    "    pipe          = DTree.pipe(CA)\n",
    "    criterion     = ['gini', 'entropy']\n",
    "    clfs          = []\n",
    "    for c in criterion:\n",
    "        clfs.append(DTree.search__best_param(df=norm_df, pipe=pipe, criterion=c, p=True))\n",
    "\n",
    "    return clfs"
   ]
  },
  {
   "cell_type": "code",
   "execution_count": 15,
   "id": "aec365e3",
   "metadata": {},
   "outputs": [
    {
     "name": "stdout",
     "output_type": "stream",
     "text": [
      "Best score :  0.9811517113783533\n",
      "Best parameters {'dtc__criterion': 'gini', 'dtc__max_depth': 8, 'dtc__min_samples_leaf': 1, 'dtc__min_samples_split': 2}\n",
      "Best score :  0.9649051803885291\n",
      "Best parameters {'dtc__criterion': 'entropy', 'dtc__max_depth': 8, 'dtc__min_samples_leaf': 1, 'dtc__min_samples_split': 3}\n"
     ]
    }
   ],
   "source": [
    "result_n_norm = runExp1_2(df,'')"
   ]
  },
  {
   "cell_type": "code",
   "execution_count": 16,
   "id": "38ff4efe",
   "metadata": {},
   "outputs": [
    {
     "name": "stdout",
     "output_type": "stream",
     "text": [
      "Best score :  0.7331753006475485\n",
      "Best parameters {'dtc__criterion': 'gini', 'dtc__max_depth': 14, 'dtc__min_samples_leaf': 1, 'dtc__min_samples_split': 3}\n",
      "Best score :  0.7546831637372804\n",
      "Best parameters {'dtc__criterion': 'entropy', 'dtc__max_depth': 9, 'dtc__min_samples_leaf': 1, 'dtc__min_samples_split': 3}\n"
     ]
    }
   ],
   "source": [
    "result_pca_norm = runExp1_2(df,'pca')"
   ]
  },
  {
   "cell_type": "code",
   "execution_count": 17,
   "id": "271af3df",
   "metadata": {},
   "outputs": [
    {
     "name": "stdout",
     "output_type": "stream",
     "text": [
      "Best score :  0.8758672525439408\n",
      "Best parameters {'dtc__criterion': 'gini', 'dtc__max_depth': 7, 'dtc__min_samples_leaf': 1, 'dtc__min_samples_split': 5}\n",
      "Best score :  0.8785846438482886\n",
      "Best parameters {'dtc__criterion': 'entropy', 'dtc__max_depth': 11, 'dtc__min_samples_leaf': 1, 'dtc__min_samples_split': 2}\n"
     ]
    }
   ],
   "source": [
    "result_lda_norm = runExp1_2(df,'lda')"
   ]
  },
  {
   "cell_type": "markdown",
   "id": "0ba1196d",
   "metadata": {},
   "source": [
    "#### std + remove nulls"
   ]
  },
  {
   "cell_type": "code",
   "execution_count": 18,
   "id": "462a83a7",
   "metadata": {},
   "outputs": [],
   "source": [
    "def runExp1_3(df, CA):\n",
    "    nonNull_df    = DTree.removeNull(df)\n",
    "    std_df        = DTree.standardDF(nonNull_df)\n",
    "    pipe          = DTree.pipe(CA)\n",
    "    criterion     = ['gini', 'entropy']\n",
    "    clfs          = []\n",
    "    for c in criterion:\n",
    "        clfs.append(DTree.search__best_param(df=std_df, pipe=pipe, criterion=c, p=True))\n",
    "\n",
    "    return clfs"
   ]
  },
  {
   "cell_type": "code",
   "execution_count": 19,
   "id": "fa86b58d",
   "metadata": {},
   "outputs": [
    {
     "name": "stdout",
     "output_type": "stream",
     "text": [
      "Best score :  0.9838691026827011\n",
      "Best parameters {'dtc__criterion': 'gini', 'dtc__max_depth': 8, 'dtc__min_samples_leaf': 1, 'dtc__min_samples_split': 2}\n",
      "Best score :  0.967622571692877\n",
      "Best parameters {'dtc__criterion': 'entropy', 'dtc__max_depth': 8, 'dtc__min_samples_leaf': 1, 'dtc__min_samples_split': 3}\n"
     ]
    }
   ],
   "source": [
    "result_n_std = runExp1_3(df,'')"
   ]
  },
  {
   "cell_type": "code",
   "execution_count": 20,
   "id": "e2e28d23",
   "metadata": {},
   "outputs": [
    {
     "name": "stdout",
     "output_type": "stream",
     "text": [
      "Best score :  0.7436401480111008\n",
      "Best parameters {'dtc__criterion': 'gini', 'dtc__max_depth': 12, 'dtc__min_samples_leaf': 1, 'dtc__min_samples_split': 2}\n",
      "Best score :  0.7225370027752082\n",
      "Best parameters {'dtc__criterion': 'entropy', 'dtc__max_depth': 9, 'dtc__min_samples_leaf': 1, 'dtc__min_samples_split': 2}\n"
     ]
    }
   ],
   "source": [
    "result_pca_std = runExp1_3(df,'pca')"
   ]
  },
  {
   "cell_type": "code",
   "execution_count": 21,
   "id": "1c25d6c0",
   "metadata": {},
   "outputs": [
    {
     "name": "stdout",
     "output_type": "stream",
     "text": [
      "Best score :  0.8758672525439408\n",
      "Best parameters {'dtc__criterion': 'gini', 'dtc__max_depth': 7, 'dtc__min_samples_leaf': 1, 'dtc__min_samples_split': 5}\n",
      "Best score :  0.8785846438482886\n",
      "Best parameters {'dtc__criterion': 'entropy', 'dtc__max_depth': 11, 'dtc__min_samples_leaf': 1, 'dtc__min_samples_split': 2}\n"
     ]
    }
   ],
   "source": [
    "result_lda_std = runExp1_3(df,'lda')"
   ]
  },
  {
   "cell_type": "code",
   "execution_count": null,
   "id": "37aea216",
   "metadata": {},
   "outputs": [],
   "source": []
  },
  {
   "cell_type": "code",
   "execution_count": null,
   "id": "d42b56cf",
   "metadata": {},
   "outputs": [],
   "source": []
  },
  {
   "cell_type": "markdown",
   "id": "ae3ebd54",
   "metadata": {},
   "source": [
    "### Control Experiment"
   ]
  },
  {
   "cell_type": "markdown",
   "id": "d3b5b05d",
   "metadata": {},
   "source": [
    "#### replace nulls "
   ]
  },
  {
   "cell_type": "code",
   "execution_count": 22,
   "id": "12e53912",
   "metadata": {},
   "outputs": [],
   "source": [
    "def runExp2_1(df, strategy):\n",
    "    replaced_df   = DTree.imputedDF(df, strategy)\n",
    "    pipe          = DTree.pipe('')\n",
    "    criterion     = ['gini', 'entropy']\n",
    "    clfs          = []\n",
    "    for c in criterion:\n",
    "        clfs.append(DTree.search__best_param(df=replaced_df, pipe=pipe, criterion=c, p=True))\n",
    "\n",
    "    return clfs"
   ]
  },
  {
   "cell_type": "code",
   "execution_count": 23,
   "id": "9155b8a4",
   "metadata": {},
   "outputs": [
    {
     "name": "stdout",
     "output_type": "stream",
     "text": [
      "Best score :  0.9575\n",
      "Best parameters {'dtc__criterion': 'gini', 'dtc__max_depth': 10, 'dtc__min_samples_leaf': 1, 'dtc__min_samples_split': 3}\n",
      "Best score :  0.9424999999999999\n",
      "Best parameters {'dtc__criterion': 'entropy', 'dtc__max_depth': 7, 'dtc__min_samples_leaf': 1, 'dtc__min_samples_split': 2}\n"
     ]
    }
   ],
   "source": [
    "result_mean = runExp2_1(df,'mean')"
   ]
  },
  {
   "cell_type": "code",
   "execution_count": 24,
   "id": "8c606c31",
   "metadata": {},
   "outputs": [
    {
     "name": "stdout",
     "output_type": "stream",
     "text": [
      "Best score :  0.9424999999999999\n",
      "Best parameters {'dtc__criterion': 'gini', 'dtc__max_depth': 9, 'dtc__min_samples_leaf': 1, 'dtc__min_samples_split': 3}\n",
      "Best score :  0.9249999999999999\n",
      "Best parameters {'dtc__criterion': 'entropy', 'dtc__max_depth': 8, 'dtc__min_samples_leaf': 1, 'dtc__min_samples_split': 2}\n"
     ]
    }
   ],
   "source": [
    "result_median = runExp2_1(df,'median')"
   ]
  },
  {
   "cell_type": "code",
   "execution_count": 25,
   "id": "b92e9a96",
   "metadata": {},
   "outputs": [
    {
     "name": "stdout",
     "output_type": "stream",
     "text": [
      "Best score :  0.945\n",
      "Best parameters {'dtc__criterion': 'gini', 'dtc__max_depth': 10, 'dtc__min_samples_leaf': 1, 'dtc__min_samples_split': 2}\n",
      "Best score :  0.9175\n",
      "Best parameters {'dtc__criterion': 'entropy', 'dtc__max_depth': 10, 'dtc__min_samples_leaf': 1, 'dtc__min_samples_split': 2}\n"
     ]
    }
   ],
   "source": [
    "result_most = runExp2_1(df,'most_frequent')"
   ]
  },
  {
   "cell_type": "markdown",
   "id": "0c9f3453",
   "metadata": {},
   "source": [
    "#### replace nulls+ std"
   ]
  },
  {
   "cell_type": "code",
   "execution_count": 26,
   "id": "fa42cfa7",
   "metadata": {},
   "outputs": [],
   "source": [
    "def runExp2_2(df, strategy):\n",
    "    replaced_df   = DTree.imputedDF(df, strategy)\n",
    "    std_df        = DTree.standardDF(replaced_df)\n",
    "    pipe          = DTree.pipe('')\n",
    "    criterion     = ['gini', 'entropy']\n",
    "    clfs          = []\n",
    "    for c in criterion:\n",
    "        clfs.append(DTree.search__best_param(df=std_df, pipe=pipe, criterion=c, p=True))\n",
    "\n",
    "    return clfs"
   ]
  },
  {
   "cell_type": "code",
   "execution_count": 27,
   "id": "f9810be8",
   "metadata": {},
   "outputs": [
    {
     "name": "stdout",
     "output_type": "stream",
     "text": [
      "Best score :  0.9575\n",
      "Best parameters {'dtc__criterion': 'gini', 'dtc__max_depth': 10, 'dtc__min_samples_leaf': 1, 'dtc__min_samples_split': 3}\n",
      "Best score :  0.945\n",
      "Best parameters {'dtc__criterion': 'entropy', 'dtc__max_depth': 9, 'dtc__min_samples_leaf': 1, 'dtc__min_samples_split': 5}\n"
     ]
    }
   ],
   "source": [
    "result_mean_std = runExp2_2(df,'mean')"
   ]
  },
  {
   "cell_type": "code",
   "execution_count": 28,
   "id": "7af5e1af",
   "metadata": {},
   "outputs": [
    {
     "name": "stdout",
     "output_type": "stream",
     "text": [
      "Best score :  0.9424999999999999\n",
      "Best parameters {'dtc__criterion': 'gini', 'dtc__max_depth': 9, 'dtc__min_samples_leaf': 1, 'dtc__min_samples_split': 3}\n",
      "Best score :  0.9275\n",
      "Best parameters {'dtc__criterion': 'entropy', 'dtc__max_depth': 8, 'dtc__min_samples_leaf': 1, 'dtc__min_samples_split': 5}\n"
     ]
    }
   ],
   "source": [
    "result_median_std = runExp2_2(df,'median')"
   ]
  },
  {
   "cell_type": "code",
   "execution_count": 29,
   "id": "8f51a65a",
   "metadata": {},
   "outputs": [
    {
     "name": "stdout",
     "output_type": "stream",
     "text": [
      "Best score :  0.9475\n",
      "Best parameters {'dtc__criterion': 'gini', 'dtc__max_depth': 10, 'dtc__min_samples_leaf': 1, 'dtc__min_samples_split': 2}\n",
      "Best score :  0.9224999999999999\n",
      "Best parameters {'dtc__criterion': 'entropy', 'dtc__max_depth': 9, 'dtc__min_samples_leaf': 1, 'dtc__min_samples_split': 3}\n"
     ]
    }
   ],
   "source": [
    "result_most_std = runExp2_2(df,'most_frequent')"
   ]
  },
  {
   "cell_type": "markdown",
   "id": "053a036d",
   "metadata": {},
   "source": [
    "#### replace nulls + norm"
   ]
  },
  {
   "cell_type": "code",
   "execution_count": 30,
   "id": "58e5c895",
   "metadata": {},
   "outputs": [],
   "source": [
    "def runExp2_3(df, strategy):\n",
    "    replaced_df   = DTree.imputedDF(df, strategy)\n",
    "    norm_df       = DTree.normalizedDF(replaced_df)\n",
    "    pipe          = DTree.pipe('')\n",
    "    criterion     = ['gini', 'entropy']\n",
    "    clfs          = []\n",
    "    for c in criterion:\n",
    "        clfs.append(DTree.search__best_param(df=norm_df, pipe=pipe, criterion=c, p=True))\n",
    "\n",
    "    return clfs"
   ]
  },
  {
   "cell_type": "code",
   "execution_count": 31,
   "id": "0fd0973d",
   "metadata": {},
   "outputs": [
    {
     "name": "stdout",
     "output_type": "stream",
     "text": [
      "Best score :  0.9575\n",
      "Best parameters {'dtc__criterion': 'gini', 'dtc__max_depth': 10, 'dtc__min_samples_leaf': 1, 'dtc__min_samples_split': 3}\n",
      "Best score :  0.945\n",
      "Best parameters {'dtc__criterion': 'entropy', 'dtc__max_depth': 9, 'dtc__min_samples_leaf': 1, 'dtc__min_samples_split': 5}\n"
     ]
    }
   ],
   "source": [
    "result_mean_norm = runExp2_3(df,'mean')"
   ]
  },
  {
   "cell_type": "code",
   "execution_count": 32,
   "id": "7cc90988",
   "metadata": {},
   "outputs": [
    {
     "name": "stdout",
     "output_type": "stream",
     "text": [
      "Best score :  0.9424999999999999\n",
      "Best parameters {'dtc__criterion': 'gini', 'dtc__max_depth': 9, 'dtc__min_samples_leaf': 1, 'dtc__min_samples_split': 3}\n",
      "Best score :  0.9275\n",
      "Best parameters {'dtc__criterion': 'entropy', 'dtc__max_depth': 8, 'dtc__min_samples_leaf': 1, 'dtc__min_samples_split': 5}\n"
     ]
    }
   ],
   "source": [
    "result_median_norm = runExp2_3(df,'median')"
   ]
  },
  {
   "cell_type": "code",
   "execution_count": 33,
   "id": "f1db2b82",
   "metadata": {},
   "outputs": [
    {
     "name": "stdout",
     "output_type": "stream",
     "text": [
      "Best score :  0.945\n",
      "Best parameters {'dtc__criterion': 'gini', 'dtc__max_depth': 10, 'dtc__min_samples_leaf': 1, 'dtc__min_samples_split': 2}\n",
      "Best score :  0.9199999999999999\n",
      "Best parameters {'dtc__criterion': 'entropy', 'dtc__max_depth': 10, 'dtc__min_samples_leaf': 1, 'dtc__min_samples_split': 2}\n"
     ]
    }
   ],
   "source": [
    "result_most_norm = runExp2_3(df,'most_frequent')"
   ]
  },
  {
   "cell_type": "markdown",
   "id": "1629d22f",
   "metadata": {},
   "source": [
    "#### replace nulls + norm + PCA / LDA"
   ]
  },
  {
   "cell_type": "code",
   "execution_count": 34,
   "id": "1c44f703",
   "metadata": {},
   "outputs": [],
   "source": [
    "def runExp2_4(df, strategy, CA):\n",
    "    replaced_df   = DTree.imputedDF(df, strategy)\n",
    "    norm_df       = DTree.normalizedDF(replaced_df)\n",
    "    pipe          = DTree.pipe(CA)\n",
    "    criterion     = ['gini', 'entropy']\n",
    "    clfs          = []\n",
    "    for c in criterion:\n",
    "        clfs.append(DTree.search__best_param(df=norm_df, pipe=pipe, criterion=c, p=True))\n",
    "\n",
    "    return clfs"
   ]
  },
  {
   "cell_type": "code",
   "execution_count": 35,
   "id": "7408b525",
   "metadata": {},
   "outputs": [
    {
     "name": "stdout",
     "output_type": "stream",
     "text": [
      "Best score :  0.68\n",
      "Best parameters {'dtc__criterion': 'gini', 'dtc__max_depth': 11, 'dtc__min_samples_leaf': 1, 'dtc__min_samples_split': 2}\n",
      "Best score :  0.6925\n",
      "Best parameters {'dtc__criterion': 'entropy', 'dtc__max_depth': 9, 'dtc__min_samples_leaf': 1, 'dtc__min_samples_split': 2}\n"
     ]
    }
   ],
   "source": [
    "result_mean_pca_norm = runExp2_4(df,'mean','pca')"
   ]
  },
  {
   "cell_type": "code",
   "execution_count": 36,
   "id": "be14193a",
   "metadata": {},
   "outputs": [
    {
     "name": "stdout",
     "output_type": "stream",
     "text": [
      "Best score :  0.68\n",
      "Best parameters {'dtc__criterion': 'gini', 'dtc__max_depth': 16, 'dtc__min_samples_leaf': 1, 'dtc__min_samples_split': 2}\n",
      "Best score :  0.6825\n",
      "Best parameters {'dtc__criterion': 'entropy', 'dtc__max_depth': 10, 'dtc__min_samples_leaf': 1, 'dtc__min_samples_split': 2}\n"
     ]
    }
   ],
   "source": [
    "result_median_pca_norm = runExp2_4(df,'median', 'pca')"
   ]
  },
  {
   "cell_type": "code",
   "execution_count": 37,
   "id": "38e2d40d",
   "metadata": {},
   "outputs": [
    {
     "name": "stdout",
     "output_type": "stream",
     "text": [
      "Best score :  0.705\n",
      "Best parameters {'dtc__criterion': 'gini', 'dtc__max_depth': 13, 'dtc__min_samples_leaf': 1, 'dtc__min_samples_split': 2}\n",
      "Best score :  0.7075\n",
      "Best parameters {'dtc__criterion': 'entropy', 'dtc__max_depth': 12, 'dtc__min_samples_leaf': 1, 'dtc__min_samples_split': 2}\n"
     ]
    }
   ],
   "source": [
    "result_most_pca_norm = runExp2_4(df,'most_frequent', 'pca')"
   ]
  },
  {
   "cell_type": "code",
   "execution_count": 38,
   "id": "a47a95d0",
   "metadata": {},
   "outputs": [
    {
     "name": "stdout",
     "output_type": "stream",
     "text": [
      "Best score :  0.8174999999999999\n",
      "Best parameters {'dtc__criterion': 'gini', 'dtc__max_depth': 12, 'dtc__min_samples_leaf': 1, 'dtc__min_samples_split': 3}\n",
      "Best score :  0.805\n",
      "Best parameters {'dtc__criterion': 'entropy', 'dtc__max_depth': 10, 'dtc__min_samples_leaf': 1, 'dtc__min_samples_split': 2}\n"
     ]
    }
   ],
   "source": [
    "result_mean_lda_norm = runExp2_4(df,'mean','lda')"
   ]
  },
  {
   "cell_type": "code",
   "execution_count": 39,
   "id": "cc6d2a44",
   "metadata": {},
   "outputs": [
    {
     "name": "stdout",
     "output_type": "stream",
     "text": [
      "Best score :  0.8075\n",
      "Best parameters {'dtc__criterion': 'gini', 'dtc__max_depth': 12, 'dtc__min_samples_leaf': 1, 'dtc__min_samples_split': 3}\n",
      "Best score :  0.7975000000000001\n",
      "Best parameters {'dtc__criterion': 'entropy', 'dtc__max_depth': 10, 'dtc__min_samples_leaf': 1, 'dtc__min_samples_split': 2}\n"
     ]
    }
   ],
   "source": [
    "result_median_lda_norm = runExp2_4(df,'median', 'lda')"
   ]
  },
  {
   "cell_type": "code",
   "execution_count": 40,
   "id": "2840f198",
   "metadata": {},
   "outputs": [
    {
     "name": "stdout",
     "output_type": "stream",
     "text": [
      "Best score :  0.8175\n",
      "Best parameters {'dtc__criterion': 'gini', 'dtc__max_depth': 11, 'dtc__min_samples_leaf': 1, 'dtc__min_samples_split': 3}\n",
      "Best score :  0.8025\n",
      "Best parameters {'dtc__criterion': 'entropy', 'dtc__max_depth': 10, 'dtc__min_samples_leaf': 1, 'dtc__min_samples_split': 2}\n"
     ]
    }
   ],
   "source": [
    "result_most_lda_norm = runExp2_4(df,'most_frequent', 'lda')"
   ]
  },
  {
   "cell_type": "code",
   "execution_count": null,
   "id": "1092d8da",
   "metadata": {},
   "outputs": [],
   "source": []
  },
  {
   "cell_type": "markdown",
   "id": "a1f4df45",
   "metadata": {},
   "source": [
    "### Runtime Experiment"
   ]
  },
  {
   "cell_type": "code",
   "execution_count": 41,
   "id": "5dbae193",
   "metadata": {},
   "outputs": [],
   "source": [
    "def runExp3_1(df, scale):\n",
    "    nonNull_df    = DTree.removeNull(df)\n",
    "    std_df        = DTree.standardDF(nonNull_df)\n",
    "    norm_df       = DTree.normalizedDF(nonNull_df)\n",
    "    pipe          = DTree.pipe('')\n",
    "    \n",
    "    if scale == '':\n",
    "        search_df = nonNull_df\n",
    "    if scale == 'std':\n",
    "        search_df = std_df\n",
    "    if scale == 'norm':\n",
    "        search_df = norm_df\n",
    "    criterion     = ['gini', 'entropy']\n",
    "    clfs          = []\n",
    "    _time         = []\n",
    "    \n",
    "    for c in criterion:\n",
    "        start_time = time.time()\n",
    "        clfs.append(DTree.search__best_param(df=search_df, pipe=pipe, criterion=c, p=True))\n",
    "        end_time   = time.time()\n",
    "        _time.append(end_time-start_time)\n",
    "        \n",
    "    print(\"avge time is \", np.mean(_time))\n",
    "    \n",
    "    return clfs"
   ]
  },
  {
   "cell_type": "code",
   "execution_count": 42,
   "id": "0359634d",
   "metadata": {},
   "outputs": [
    {
     "name": "stdout",
     "output_type": "stream",
     "text": [
      "Best score :  0.9838691026827011\n",
      "Best parameters {'dtc__criterion': 'gini', 'dtc__max_depth': 8, 'dtc__min_samples_leaf': 1, 'dtc__min_samples_split': 2}\n",
      "Best score :  0.967622571692877\n",
      "Best parameters {'dtc__criterion': 'entropy', 'dtc__max_depth': 8, 'dtc__min_samples_leaf': 1, 'dtc__min_samples_split': 3}\n",
      "avge time is  19.99660360813141\n"
     ]
    }
   ],
   "source": [
    "time_nonnull = runExp3_1(df, '')"
   ]
  },
  {
   "cell_type": "code",
   "execution_count": 43,
   "id": "1c7b1138",
   "metadata": {},
   "outputs": [
    {
     "name": "stdout",
     "output_type": "stream",
     "text": [
      "Best score :  0.9811517113783533\n",
      "Best parameters {'dtc__criterion': 'gini', 'dtc__max_depth': 8, 'dtc__min_samples_leaf': 1, 'dtc__min_samples_split': 2}\n",
      "Best score :  0.9649051803885291\n",
      "Best parameters {'dtc__criterion': 'entropy', 'dtc__max_depth': 8, 'dtc__min_samples_leaf': 1, 'dtc__min_samples_split': 3}\n",
      "avge time is  18.627832055091858\n"
     ]
    }
   ],
   "source": [
    "time_norm = runExp3_1(df, 'norm')"
   ]
  },
  {
   "cell_type": "code",
   "execution_count": 44,
   "id": "7cccb91c",
   "metadata": {},
   "outputs": [
    {
     "name": "stdout",
     "output_type": "stream",
     "text": [
      "Best score :  0.9838691026827011\n",
      "Best parameters {'dtc__criterion': 'gini', 'dtc__max_depth': 8, 'dtc__min_samples_leaf': 1, 'dtc__min_samples_split': 2}\n",
      "Best score :  0.967622571692877\n",
      "Best parameters {'dtc__criterion': 'entropy', 'dtc__max_depth': 8, 'dtc__min_samples_leaf': 1, 'dtc__min_samples_split': 3}\n",
      "avge time is  18.61284565925598\n"
     ]
    }
   ],
   "source": [
    "time_std = runExp3_1(df, 'std')"
   ]
  },
  {
   "cell_type": "code",
   "execution_count": null,
   "id": "bd5abc4b",
   "metadata": {},
   "outputs": [],
   "source": []
  },
  {
   "cell_type": "markdown",
   "id": "5456cc3e",
   "metadata": {},
   "source": [
    "### Evaluation"
   ]
  },
  {
   "cell_type": "code",
   "execution_count": 45,
   "id": "98d2d010",
   "metadata": {},
   "outputs": [
    {
     "data": {
      "text/plain": [
       "Pipeline(steps=[('dtc', DecisionTreeClassifier(max_depth=8, random_state=42))])"
      ]
     },
     "execution_count": 45,
     "metadata": {},
     "output_type": "execute_result"
    }
   ],
   "source": [
    "clf = time_nonnull[0]\n",
    "clf.best_estimator_"
   ]
  },
  {
   "cell_type": "code",
   "execution_count": 46,
   "id": "17d967de",
   "metadata": {},
   "outputs": [],
   "source": [
    "attri, target = DTree.trainAndTarg(DTree.removeNull(df))"
   ]
  },
  {
   "cell_type": "code",
   "execution_count": 47,
   "id": "9644d308",
   "metadata": {},
   "outputs": [
    {
     "name": "stdout",
     "output_type": "stream",
     "text": [
      "[0.95744681 0.9787234  0.97826087 0.97826087 1.         1.\n",
      " 1.         0.97826087]\n",
      "mean score :  0.9838691026827011\n"
     ]
    }
   ],
   "source": [
    "scores = cross_val_score(clf.best_estimator_, attri, target, n_jobs=-1,cv=8, scoring='accuracy')\n",
    "print(scores)\n",
    "print('mean score : ', scores.mean())"
   ]
  },
  {
   "cell_type": "code",
   "execution_count": 48,
   "id": "c7161499",
   "metadata": {},
   "outputs": [
    {
     "data": {
      "image/png": "[encoded data removed]",
      "text/plain": [
       "<Figure size 720x720 with 2 Axes>"
      ]
     },
     "metadata": {
      "needs_background": "light"
     },
     "output_type": "display_data"
    },
    {
     "name": "stdout",
     "output_type": "stream",
     "text": [
      "              precision    recall  f1-score   support\n",
      "\n",
      "          A1       1.00      1.00      1.00        25\n",
      "          A2       0.97      1.00      0.98        29\n",
      "          B1       1.00      1.00      1.00        23\n",
      "          B2       1.00      1.00      1.00        26\n",
      "          C1       1.00      1.00      1.00        28\n",
      "          C2       1.00      0.95      0.97        20\n",
      "           D       1.00      0.97      0.98        30\n",
      "           E       1.00      1.00      1.00        28\n",
      "          F1       0.93      0.96      0.94        26\n",
      "          F2       0.96      0.92      0.94        24\n",
      "          F3       0.96      1.00      0.98        25\n",
      "           G       1.00      0.97      0.98        30\n",
      "           H       1.00      1.00      1.00        30\n",
      "           I       0.96      1.00      0.98        26\n",
      "\n",
      "    accuracy                           0.98       370\n",
      "   macro avg       0.98      0.98      0.98       370\n",
      "weighted avg       0.98      0.98      0.98       370\n",
      "\n"
     ]
    }
   ],
   "source": [
    "y_pred = cross_val_predict(clf.best_estimator_, attri, target, n_jobs=-1,cv=8)\n",
    "conf_mat = confusion_matrix(target, y_pred)\n",
    "disp = ConfusionMatrixDisplay(\n",
    "    confusion_matrix=conf_mat,\n",
    "    display_labels=clf.classes_\n",
    ")\n",
    "fig, ax = plt.subplots(figsize=(10,10))\n",
    "plt.grid(False)\n",
    "disp.plot(ax=ax)\n",
    "plt.show()\n",
    "print(classification_report(target, y_pred))"
   ]
  },
  {
   "cell_type": "code",
   "execution_count": 49,
   "id": "e121fb63",
   "metadata": {},
   "outputs": [
    {
     "data": {
      "text/html": [
       "<div>\n",
       "<style scoped>\n",
       "    .dataframe tbody tr th:only-of-type {\n",
       "        vertical-align: middle;\n",
       "    }\n",
       "\n",
       "    .dataframe tbody tr th {\n",
       "        vertical-align: top;\n",
       "    }\n",
       "\n",
       "    .dataframe thead th {\n",
       "        text-align: right;\n",
       "    }\n",
       "</style>\n",
       "<table border=\"1\" class=\"dataframe\">\n",
       "  <thead>\n",
       "    <tr style=\"text-align: right;\">\n",
       "      <th></th>\n",
       "      <th>class</th>\n",
       "      <th>specificity</th>\n",
       "      <th>sensitivity</th>\n",
       "    </tr>\n",
       "  </thead>\n",
       "  <tbody>\n",
       "    <tr>\n",
       "      <th>0</th>\n",
       "      <td>A1</td>\n",
       "      <td>1.000000</td>\n",
       "      <td>1.000000</td>\n",
       "    </tr>\n",
       "    <tr>\n",
       "      <th>1</th>\n",
       "      <td>A2</td>\n",
       "      <td>0.997067</td>\n",
       "      <td>1.000000</td>\n",
       "    </tr>\n",
       "    <tr>\n",
       "      <th>2</th>\n",
       "      <td>B1</td>\n",
       "      <td>1.000000</td>\n",
       "      <td>1.000000</td>\n",
       "    </tr>\n",
       "    <tr>\n",
       "      <th>3</th>\n",
       "      <td>B2</td>\n",
       "      <td>1.000000</td>\n",
       "      <td>1.000000</td>\n",
       "    </tr>\n",
       "    <tr>\n",
       "      <th>4</th>\n",
       "      <td>C1</td>\n",
       "      <td>1.000000</td>\n",
       "      <td>1.000000</td>\n",
       "    </tr>\n",
       "    <tr>\n",
       "      <th>5</th>\n",
       "      <td>C2</td>\n",
       "      <td>1.000000</td>\n",
       "      <td>0.950000</td>\n",
       "    </tr>\n",
       "    <tr>\n",
       "      <th>6</th>\n",
       "      <td>D</td>\n",
       "      <td>1.000000</td>\n",
       "      <td>0.966667</td>\n",
       "    </tr>\n",
       "    <tr>\n",
       "      <th>7</th>\n",
       "      <td>E</td>\n",
       "      <td>1.000000</td>\n",
       "      <td>1.000000</td>\n",
       "    </tr>\n",
       "    <tr>\n",
       "      <th>8</th>\n",
       "      <td>F1</td>\n",
       "      <td>0.994186</td>\n",
       "      <td>0.961538</td>\n",
       "    </tr>\n",
       "    <tr>\n",
       "      <th>9</th>\n",
       "      <td>F2</td>\n",
       "      <td>0.997110</td>\n",
       "      <td>0.916667</td>\n",
       "    </tr>\n",
       "    <tr>\n",
       "      <th>10</th>\n",
       "      <td>F3</td>\n",
       "      <td>0.997101</td>\n",
       "      <td>1.000000</td>\n",
       "    </tr>\n",
       "    <tr>\n",
       "      <th>11</th>\n",
       "      <td>G</td>\n",
       "      <td>1.000000</td>\n",
       "      <td>0.966667</td>\n",
       "    </tr>\n",
       "    <tr>\n",
       "      <th>12</th>\n",
       "      <td>H</td>\n",
       "      <td>1.000000</td>\n",
       "      <td>1.000000</td>\n",
       "    </tr>\n",
       "    <tr>\n",
       "      <th>13</th>\n",
       "      <td>I</td>\n",
       "      <td>0.997093</td>\n",
       "      <td>1.000000</td>\n",
       "    </tr>\n",
       "  </tbody>\n",
       "</table>\n",
       "</div>"
      ],
      "text/plain": [
       "   class  specificity  sensitivity\n",
       "0     A1     1.000000     1.000000\n",
       "1     A2     0.997067     1.000000\n",
       "2     B1     1.000000     1.000000\n",
       "3     B2     1.000000     1.000000\n",
       "4     C1     1.000000     1.000000\n",
       "5     C2     1.000000     0.950000\n",
       "6      D     1.000000     0.966667\n",
       "7      E     1.000000     1.000000\n",
       "8     F1     0.994186     0.961538\n",
       "9     F2     0.997110     0.916667\n",
       "10    F3     0.997101     1.000000\n",
       "11     G     1.000000     0.966667\n",
       "12     H     1.000000     1.000000\n",
       "13     I     0.997093     1.000000"
      ]
     },
     "execution_count": 49,
     "metadata": {},
     "output_type": "execute_result"
    }
   ],
   "source": [
    "from sklearn.metrics import precision_recall_fscore_support\n",
    "res = []\n",
    "for l in clf.classes_:\n",
    "    prec,recall,_,_ = precision_recall_fscore_support(np.array(target)==l,\n",
    "                                                      np.array(y_pred)==l,\n",
    "                                                      pos_label=True,average=None)\n",
    "    res.append([l,recall[0],recall[1]])\n",
    "    \n",
    "sen_spe_df = pd.DataFrame(res,columns = ['class','specificity','sensitivity'])\n",
    "sen_spe_df"
   ]
  },
  {
   "cell_type": "code",
   "execution_count": 50,
   "id": "6111f713",
   "metadata": {},
   "outputs": [
    {
     "data": {
      "text/plain": [
       "0.9987541281651966"
      ]
     },
     "execution_count": 50,
     "metadata": {},
     "output_type": "execute_result"
    }
   ],
   "source": [
    "# specificity = tn/(tn+fp)\n",
    "sen_spe_df['specificity'].mean()"
   ]
  },
  {
   "cell_type": "code",
   "execution_count": 51,
   "id": "98c020db",
   "metadata": {},
   "outputs": [
    {
     "data": {
      "text/plain": [
       "0.9829670329670329"
      ]
     },
     "execution_count": 51,
     "metadata": {},
     "output_type": "execute_result"
    }
   ],
   "source": [
    "# sensitivity TP/(TP+FN)\n",
    "sen_spe_df['sensitivity'].mean()"
   ]
  },
  {
   "cell_type": "code",
   "execution_count": null,
   "id": "758fd54c",
   "metadata": {},
   "outputs": [],
   "source": []
  },
  {
   "cell_type": "code",
   "execution_count": null,
   "id": "5ac10f13",
   "metadata": {},
   "outputs": [],
   "source": []
  }
 ],
 "metadata": {
  "kernelspec": {
   "display_name": "Python 3 (ipykernel)",
   "language": "python",
   "name": "python3"
  },
  "language_info": {
   "codemirror_mode": {
    "name": "ipython",
    "version": 3
   },
   "file_extension": ".py",
   "mimetype": "text/x-python",
   "name": "python",
   "nbconvert_exporter": "python",
   "pygments_lexer": "ipython3",
   "version": "3.9.12"
  }
 },
 "nbformat": 4,
 "nbformat_minor": 5
}
