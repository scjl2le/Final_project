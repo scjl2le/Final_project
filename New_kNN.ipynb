{
 "cells": [
  {
   "cell_type": "code",
   "execution_count": 1,
   "id": "c2d054e7",
   "metadata": {},
   "outputs": [],
   "source": [
    "import numpy as np\n",
    "import pandas as pd\n",
    "from joblib import dump, load\n",
    "import seaborn as sns\n",
    "import matplotlib.pyplot as plt \n",
    "%matplotlib inline\n",
    "import time\n",
    "\n",
    "from sklearn.pipeline import Pipeline\n",
    "from sklearn.preprocessing import (StandardScaler, OneHotEncoder)\n",
    "from sklearn.impute import SimpleImputer\n",
    "from sklearn.preprocessing import MinMaxScaler\n",
    "from sklearn.neighbors import (NearestNeighbors, NeighborhoodComponentsAnalysis, KNeighborsClassifier)\n",
    "from sklearn.discriminant_analysis import LinearDiscriminantAnalysis\n",
    "from sklearn.decomposition import PCA\n",
    "from sklearn.model_selection import (GridSearchCV, cross_val_score)\n",
    "from sklearn import metrics\n",
    "from sklearn.metrics import classification_report, confusion_matrix, ConfusionMatrixDisplay\n",
    "from sklearn.model_selection import cross_val_predict\n",
    "from sklearn.model_selection import train_test_split"
   ]
  },
  {
   "cell_type": "code",
   "execution_count": 2,
   "id": "5a339285",
   "metadata": {},
   "outputs": [],
   "source": [
    "# data path\n",
    "\n",
    "# Windows\n",
    "ROOT = \"C:/Users/weiru/OneDrive - University of Leeds/MSc-Lab/datasets\"\n",
    "\n",
    "#Mac\n",
    "# ROOT = \"/Users/cccc/OneDrive - University of Leeds/MSc-Lab/datasets\"\n",
    "\n",
    "dataPath = ROOT + \"/files/dataset1PTHuse1_400.csv\""
   ]
  },
  {
   "cell_type": "code",
   "execution_count": 3,
   "id": "ab79f623",
   "metadata": {},
   "outputs": [],
   "source": [
    "# load data\n",
    "df = pd.read_csv(dataPath)"
   ]
  },
  {
   "cell_type": "code",
   "execution_count": 4,
   "id": "f1a9650b",
   "metadata": {},
   "outputs": [
    {
     "data": {
      "text/html": [
       "<div>\n",
       "<style scoped>\n",
       "    .dataframe tbody tr th:only-of-type {\n",
       "        vertical-align: middle;\n",
       "    }\n",
       "\n",
       "    .dataframe tbody tr th {\n",
       "        vertical-align: top;\n",
       "    }\n",
       "\n",
       "    .dataframe thead th {\n",
       "        text-align: right;\n",
       "    }\n",
       "</style>\n",
       "<table border=\"1\" class=\"dataframe\">\n",
       "  <thead>\n",
       "    <tr style=\"text-align: right;\">\n",
       "      <th></th>\n",
       "      <th>Patient</th>\n",
       "      <th>PTH</th>\n",
       "      <th>Ca</th>\n",
       "      <th>Vit D</th>\n",
       "      <th>Mg</th>\n",
       "      <th>eGFR</th>\n",
       "      <th>Interpretation</th>\n",
       "    </tr>\n",
       "  </thead>\n",
       "  <tbody>\n",
       "    <tr>\n",
       "      <th>0</th>\n",
       "      <td>1</td>\n",
       "      <td>1.1</td>\n",
       "      <td>1.90</td>\n",
       "      <td>72.0</td>\n",
       "      <td>0.1</td>\n",
       "      <td>80</td>\n",
       "      <td>A1</td>\n",
       "    </tr>\n",
       "    <tr>\n",
       "      <th>1</th>\n",
       "      <td>2</td>\n",
       "      <td>15.4</td>\n",
       "      <td>2.85</td>\n",
       "      <td>90.0</td>\n",
       "      <td>0.9</td>\n",
       "      <td>66</td>\n",
       "      <td>I</td>\n",
       "    </tr>\n",
       "    <tr>\n",
       "      <th>2</th>\n",
       "      <td>3</td>\n",
       "      <td>0.7</td>\n",
       "      <td>1.70</td>\n",
       "      <td>89.0</td>\n",
       "      <td>1.0</td>\n",
       "      <td>90</td>\n",
       "      <td>A2</td>\n",
       "    </tr>\n",
       "    <tr>\n",
       "      <th>3</th>\n",
       "      <td>4</td>\n",
       "      <td>2.3</td>\n",
       "      <td>1.90</td>\n",
       "      <td>60.0</td>\n",
       "      <td>0.1</td>\n",
       "      <td>80</td>\n",
       "      <td>B1</td>\n",
       "    </tr>\n",
       "    <tr>\n",
       "      <th>4</th>\n",
       "      <td>5</td>\n",
       "      <td>12.2</td>\n",
       "      <td>1.70</td>\n",
       "      <td>32.0</td>\n",
       "      <td>1.0</td>\n",
       "      <td>90</td>\n",
       "      <td>C1</td>\n",
       "    </tr>\n",
       "    <tr>\n",
       "      <th>...</th>\n",
       "      <td>...</td>\n",
       "      <td>...</td>\n",
       "      <td>...</td>\n",
       "      <td>...</td>\n",
       "      <td>...</td>\n",
       "      <td>...</td>\n",
       "      <td>...</td>\n",
       "    </tr>\n",
       "    <tr>\n",
       "      <th>395</th>\n",
       "      <td>396</td>\n",
       "      <td>15.4</td>\n",
       "      <td>2.85</td>\n",
       "      <td>90.0</td>\n",
       "      <td>0.9</td>\n",
       "      <td>66</td>\n",
       "      <td>I</td>\n",
       "    </tr>\n",
       "    <tr>\n",
       "      <th>396</th>\n",
       "      <td>397</td>\n",
       "      <td>0.7</td>\n",
       "      <td>1.70</td>\n",
       "      <td>89.0</td>\n",
       "      <td>1.0</td>\n",
       "      <td>90</td>\n",
       "      <td>A2</td>\n",
       "    </tr>\n",
       "    <tr>\n",
       "      <th>397</th>\n",
       "      <td>398</td>\n",
       "      <td>2.3</td>\n",
       "      <td>1.90</td>\n",
       "      <td>60.0</td>\n",
       "      <td>0.1</td>\n",
       "      <td>80</td>\n",
       "      <td>B1</td>\n",
       "    </tr>\n",
       "    <tr>\n",
       "      <th>398</th>\n",
       "      <td>399</td>\n",
       "      <td>12.2</td>\n",
       "      <td>1.70</td>\n",
       "      <td>32.0</td>\n",
       "      <td>1.0</td>\n",
       "      <td>90</td>\n",
       "      <td>C1</td>\n",
       "    </tr>\n",
       "    <tr>\n",
       "      <th>399</th>\n",
       "      <td>400</td>\n",
       "      <td>0.5</td>\n",
       "      <td>2.92</td>\n",
       "      <td>95.0</td>\n",
       "      <td>1.3</td>\n",
       "      <td>71</td>\n",
       "      <td>G</td>\n",
       "    </tr>\n",
       "  </tbody>\n",
       "</table>\n",
       "<p>400 rows × 7 columns</p>\n",
       "</div>"
      ],
      "text/plain": [
       "     Patient   PTH    Ca  Vit D   Mg  eGFR Interpretation\n",
       "0          1   1.1  1.90   72.0  0.1    80             A1\n",
       "1          2  15.4  2.85   90.0  0.9    66              I\n",
       "2          3   0.7  1.70   89.0  1.0    90             A2\n",
       "3          4   2.3  1.90   60.0  0.1    80             B1\n",
       "4          5  12.2  1.70   32.0  1.0    90             C1\n",
       "..       ...   ...   ...    ...  ...   ...            ...\n",
       "395      396  15.4  2.85   90.0  0.9    66              I\n",
       "396      397   0.7  1.70   89.0  1.0    90             A2\n",
       "397      398   2.3  1.90   60.0  0.1    80             B1\n",
       "398      399  12.2  1.70   32.0  1.0    90             C1\n",
       "399      400   0.5  2.92   95.0  1.3    71              G\n",
       "\n",
       "[400 rows x 7 columns]"
      ]
     },
     "execution_count": 4,
     "metadata": {},
     "output_type": "execute_result"
    }
   ],
   "source": [
    "df"
   ]
  },
  {
   "cell_type": "code",
   "execution_count": 5,
   "id": "8d164b20",
   "metadata": {},
   "outputs": [],
   "source": [
    "# Delete Patitent column\n",
    "\n",
    "df = df.drop(columns=['Patient']).copy()"
   ]
  },
  {
   "cell_type": "code",
   "execution_count": 6,
   "id": "e850abdf",
   "metadata": {},
   "outputs": [
    {
     "data": {
      "text/html": [
       "<div>\n",
       "<style scoped>\n",
       "    .dataframe tbody tr th:only-of-type {\n",
       "        vertical-align: middle;\n",
       "    }\n",
       "\n",
       "    .dataframe tbody tr th {\n",
       "        vertical-align: top;\n",
       "    }\n",
       "\n",
       "    .dataframe thead th {\n",
       "        text-align: right;\n",
       "    }\n",
       "</style>\n",
       "<table border=\"1\" class=\"dataframe\">\n",
       "  <thead>\n",
       "    <tr style=\"text-align: right;\">\n",
       "      <th></th>\n",
       "      <th>PTH</th>\n",
       "      <th>Ca</th>\n",
       "      <th>Vit D</th>\n",
       "      <th>Mg</th>\n",
       "      <th>eGFR</th>\n",
       "      <th>Interpretation</th>\n",
       "    </tr>\n",
       "  </thead>\n",
       "  <tbody>\n",
       "    <tr>\n",
       "      <th>0</th>\n",
       "      <td>1.1</td>\n",
       "      <td>1.90</td>\n",
       "      <td>72.0</td>\n",
       "      <td>0.1</td>\n",
       "      <td>80</td>\n",
       "      <td>A1</td>\n",
       "    </tr>\n",
       "    <tr>\n",
       "      <th>1</th>\n",
       "      <td>15.4</td>\n",
       "      <td>2.85</td>\n",
       "      <td>90.0</td>\n",
       "      <td>0.9</td>\n",
       "      <td>66</td>\n",
       "      <td>I</td>\n",
       "    </tr>\n",
       "    <tr>\n",
       "      <th>2</th>\n",
       "      <td>0.7</td>\n",
       "      <td>1.70</td>\n",
       "      <td>89.0</td>\n",
       "      <td>1.0</td>\n",
       "      <td>90</td>\n",
       "      <td>A2</td>\n",
       "    </tr>\n",
       "    <tr>\n",
       "      <th>3</th>\n",
       "      <td>2.3</td>\n",
       "      <td>1.90</td>\n",
       "      <td>60.0</td>\n",
       "      <td>0.1</td>\n",
       "      <td>80</td>\n",
       "      <td>B1</td>\n",
       "    </tr>\n",
       "    <tr>\n",
       "      <th>4</th>\n",
       "      <td>12.2</td>\n",
       "      <td>1.70</td>\n",
       "      <td>32.0</td>\n",
       "      <td>1.0</td>\n",
       "      <td>90</td>\n",
       "      <td>C1</td>\n",
       "    </tr>\n",
       "    <tr>\n",
       "      <th>...</th>\n",
       "      <td>...</td>\n",
       "      <td>...</td>\n",
       "      <td>...</td>\n",
       "      <td>...</td>\n",
       "      <td>...</td>\n",
       "      <td>...</td>\n",
       "    </tr>\n",
       "    <tr>\n",
       "      <th>395</th>\n",
       "      <td>15.4</td>\n",
       "      <td>2.85</td>\n",
       "      <td>90.0</td>\n",
       "      <td>0.9</td>\n",
       "      <td>66</td>\n",
       "      <td>I</td>\n",
       "    </tr>\n",
       "    <tr>\n",
       "      <th>396</th>\n",
       "      <td>0.7</td>\n",
       "      <td>1.70</td>\n",
       "      <td>89.0</td>\n",
       "      <td>1.0</td>\n",
       "      <td>90</td>\n",
       "      <td>A2</td>\n",
       "    </tr>\n",
       "    <tr>\n",
       "      <th>397</th>\n",
       "      <td>2.3</td>\n",
       "      <td>1.90</td>\n",
       "      <td>60.0</td>\n",
       "      <td>0.1</td>\n",
       "      <td>80</td>\n",
       "      <td>B1</td>\n",
       "    </tr>\n",
       "    <tr>\n",
       "      <th>398</th>\n",
       "      <td>12.2</td>\n",
       "      <td>1.70</td>\n",
       "      <td>32.0</td>\n",
       "      <td>1.0</td>\n",
       "      <td>90</td>\n",
       "      <td>C1</td>\n",
       "    </tr>\n",
       "    <tr>\n",
       "      <th>399</th>\n",
       "      <td>0.5</td>\n",
       "      <td>2.92</td>\n",
       "      <td>95.0</td>\n",
       "      <td>1.3</td>\n",
       "      <td>71</td>\n",
       "      <td>G</td>\n",
       "    </tr>\n",
       "  </tbody>\n",
       "</table>\n",
       "<p>400 rows × 6 columns</p>\n",
       "</div>"
      ],
      "text/plain": [
       "      PTH    Ca  Vit D   Mg  eGFR Interpretation\n",
       "0     1.1  1.90   72.0  0.1    80             A1\n",
       "1    15.4  2.85   90.0  0.9    66              I\n",
       "2     0.7  1.70   89.0  1.0    90             A2\n",
       "3     2.3  1.90   60.0  0.1    80             B1\n",
       "4    12.2  1.70   32.0  1.0    90             C1\n",
       "..    ...   ...    ...  ...   ...            ...\n",
       "395  15.4  2.85   90.0  0.9    66              I\n",
       "396   0.7  1.70   89.0  1.0    90             A2\n",
       "397   2.3  1.90   60.0  0.1    80             B1\n",
       "398  12.2  1.70   32.0  1.0    90             C1\n",
       "399   0.5  2.92   95.0  1.3    71              G\n",
       "\n",
       "[400 rows x 6 columns]"
      ]
     },
     "execution_count": 6,
     "metadata": {},
     "output_type": "execute_result"
    }
   ],
   "source": [
    "df"
   ]
  },
  {
   "cell_type": "code",
   "execution_count": 7,
   "id": "617e6a40",
   "metadata": {},
   "outputs": [],
   "source": [
    "class ExpReplaceValues():\n",
    "    \n",
    "    def __init__(self):\n",
    "        pass\n",
    "        \n",
    "    def imputedDF(self, df, strategy):\n",
    "    \n",
    "        fill_NaN           = SimpleImputer(strategy=strategy)\n",
    "        df_attr            = df.iloc[:,:-1]\n",
    "\n",
    "        imputed_DF         = pd.DataFrame(fill_NaN.fit_transform(df_attr))\n",
    "        imputed_DF.columns = df_attr.columns\n",
    "        imputed_DF.index   = df_attr.index\n",
    "\n",
    "        new_df             = imputed_DF.join(df.iloc[:,-1])\n",
    "\n",
    "        return new_df\n",
    "    \n",
    "    \n",
    "    \n",
    "    def normalizedDF(self, df):\n",
    "        normalized            = MinMaxScaler()\n",
    "        df_attr               = df.iloc[:,:-1]\n",
    "        normalized_DF         = pd.DataFrame(normalized.fit_transform(df_attr))\n",
    "        normalized_DF.columns = df_attr.columns\n",
    "        normalized_DF.index   = df_attr.index\n",
    "        new_df                = normalized_DF.join(df.iloc[:,-1])\n",
    "        return new_df\n",
    "    \n",
    "    \n",
    "    \n",
    "    def standardDF(self, df):\n",
    "        std_scale      = StandardScaler()\n",
    "        df_attr        = df.iloc[:,:-1]\n",
    "        std_DF         = pd.DataFrame(std_scale.fit_transform(df_attr))\n",
    "        std_DF.columns = df_attr.columns\n",
    "        std_DF.index   = df_attr.index\n",
    "        new_df         = std_DF.join(df.iloc[:,-1])\n",
    "        return new_df\n",
    "    \n",
    "    \n",
    "    \n",
    "    def checkIsNull(self, df):\n",
    "        '''\n",
    "            Check whether the dataframe has nulls\n",
    "        '''\n",
    "        if df.isnull().values.any():\n",
    "            print(\"Data have nulls\")\n",
    "        else:\n",
    "            print(\"Data don't have nulls\")\n",
    "        \n",
    "        \n",
    "        \n",
    "    def pipe(self, CA=\"\"):\n",
    "        \n",
    "        RANDOM_STATE = 42\n",
    "        knn          = KNeighborsClassifier()\n",
    "        pca          = PCA(random_state=RANDOM_STATE)\n",
    "        lda          = LinearDiscriminantAnalysis()\n",
    "        nca          = NeighborhoodComponentsAnalysis(random_state=RANDOM_STATE)\n",
    "        \n",
    "        knn_pipe     = Pipeline([('knn', knn)])\n",
    "        pca_pipe     = Pipeline([('pca', pca), ('knn', knn)])\n",
    "        lda_pipe     = Pipeline([('lda', lda), ('knn', knn)])\n",
    "        nca_pipe     = Pipeline([('nca', nca), ('knn', knn)])\n",
    "        \n",
    "        if CA == 'pca':\n",
    "            return pca_pipe\n",
    "        if CA == 'lda':\n",
    "            return lda_pipe\n",
    "        if CA == 'nca':\n",
    "            return nca_pipe\n",
    "        \n",
    "        return knn_pipe\n",
    "    \n",
    "    \n",
    "    \n",
    "    def trainAndTarg(self, df):\n",
    "    \n",
    "        attri  = df.iloc[:,:-1]\n",
    "        target = df.iloc[:, -1]\n",
    "\n",
    "        return attri,target\n",
    "    \n",
    "    \n",
    "    \n",
    "    def print_best_param(self, clf_fit):\n",
    "        print('Best score : ', clf_fit.best_score_)\n",
    "        print('Best parameters', clf_fit.best_params_)\n",
    "        \n",
    "        \n",
    "    \n",
    "    def search__best_param(self, df, pipe, algorithm='brute', distance='manhattan', p=False):\n",
    "        grid_params = {\n",
    "            'knn__n_neighbors' : [i for i in range(2,40)],\n",
    "            'knn__weights'     : ['distance'],\n",
    "            'knn__algorithm'   : [algorithm], # ball_tree, kd_tree, brute\n",
    "            'knn__metric'      : [distance],  # manhattan, euclidean, chebyshev\n",
    "        }\n",
    "\n",
    "        clf = GridSearchCV(\n",
    "            pipe,\n",
    "            grid_params,\n",
    "            cv=8,\n",
    "            n_jobs=-1\n",
    "        )\n",
    "        \n",
    "        attri, target = self.trainAndTarg(df)\n",
    "        clf_fit = clf.fit(attri, target)\n",
    "\n",
    "        # print parameter\n",
    "        if p is True:\n",
    "            self.print_best_param(clf_fit)\n",
    "\n",
    "        return clf_fit"
   ]
  },
  {
   "cell_type": "code",
   "execution_count": 8,
   "id": "c6b00d2d",
   "metadata": {},
   "outputs": [],
   "source": [
    "E1 = ExpReplaceValues()"
   ]
  },
  {
   "cell_type": "markdown",
   "id": "888498d3",
   "metadata": {},
   "source": [
    "**replace missed values**"
   ]
  },
  {
   "cell_type": "code",
   "execution_count": 9,
   "id": "e21dab4d",
   "metadata": {},
   "outputs": [],
   "source": [
    "def runExp1_1(df, strategy):\n",
    "    replaced_df   = E1.imputedDF(df, strategy)\n",
    "    knn_pipe      = E1.pipe()\n",
    "    distances     = ['manhattan', 'euclidean', 'chebyshev']\n",
    "    for d in distances:\n",
    "        E1.search__best_param(df=replaced_df, pipe=knn_pipe, distance=d, p=True)"
   ]
  },
  {
   "cell_type": "code",
   "execution_count": 10,
   "id": "354f9dda",
   "metadata": {},
   "outputs": [
    {
     "name": "stdout",
     "output_type": "stream",
     "text": [
      "Best score :  0.645\n",
      "Best parameters {'knn__algorithm': 'brute', 'knn__metric': 'manhattan', 'knn__n_neighbors': 2, 'knn__weights': 'distance'}\n",
      "Best score :  0.6325\n",
      "Best parameters {'knn__algorithm': 'brute', 'knn__metric': 'euclidean', 'knn__n_neighbors': 2, 'knn__weights': 'distance'}\n",
      "Best score :  0.61\n",
      "Best parameters {'knn__algorithm': 'brute', 'knn__metric': 'chebyshev', 'knn__n_neighbors': 2, 'knn__weights': 'distance'}\n"
     ]
    }
   ],
   "source": [
    "runExp1_1(df, 'mean')"
   ]
  },
  {
   "cell_type": "code",
   "execution_count": 11,
   "id": "590468ee",
   "metadata": {},
   "outputs": [
    {
     "name": "stdout",
     "output_type": "stream",
     "text": [
      "Best score :  0.6325\n",
      "Best parameters {'knn__algorithm': 'brute', 'knn__metric': 'manhattan', 'knn__n_neighbors': 3, 'knn__weights': 'distance'}\n",
      "Best score :  0.6174999999999999\n",
      "Best parameters {'knn__algorithm': 'brute', 'knn__metric': 'euclidean', 'knn__n_neighbors': 2, 'knn__weights': 'distance'}\n",
      "Best score :  0.5974999999999999\n",
      "Best parameters {'knn__algorithm': 'brute', 'knn__metric': 'chebyshev', 'knn__n_neighbors': 2, 'knn__weights': 'distance'}\n"
     ]
    }
   ],
   "source": [
    "runExp1_1(df, 'median')"
   ]
  },
  {
   "cell_type": "code",
   "execution_count": 12,
   "id": "abb7eb2f",
   "metadata": {},
   "outputs": [
    {
     "name": "stdout",
     "output_type": "stream",
     "text": [
      "Best score :  0.6425\n",
      "Best parameters {'knn__algorithm': 'brute', 'knn__metric': 'manhattan', 'knn__n_neighbors': 3, 'knn__weights': 'distance'}\n",
      "Best score :  0.615\n",
      "Best parameters {'knn__algorithm': 'brute', 'knn__metric': 'euclidean', 'knn__n_neighbors': 2, 'knn__weights': 'distance'}\n",
      "Best score :  0.595\n",
      "Best parameters {'knn__algorithm': 'brute', 'knn__metric': 'chebyshev', 'knn__n_neighbors': 2, 'knn__weights': 'distance'}\n"
     ]
    }
   ],
   "source": [
    "runExp1_1(df, 'most_frequent')"
   ]
  },
  {
   "cell_type": "code",
   "execution_count": null,
   "id": "b7f63138",
   "metadata": {},
   "outputs": [],
   "source": []
  },
  {
   "cell_type": "code",
   "execution_count": null,
   "id": "717a4dfb",
   "metadata": {},
   "outputs": [],
   "source": []
  },
  {
   "cell_type": "markdown",
   "id": "bd0ac1c1",
   "metadata": {},
   "source": [
    "**replace missed values + normalized**"
   ]
  },
  {
   "cell_type": "code",
   "execution_count": 13,
   "id": "2d2a44da",
   "metadata": {},
   "outputs": [],
   "source": [
    "def runExp1_2_1(df, strategy):\n",
    "    replaced_df   = E1.imputedDF(df, strategy)\n",
    "    norm_df       = E1.normalizedDF(replaced_df)\n",
    "    knn_pipe      = E1.pipe()\n",
    "    distances     = ['manhattan', 'euclidean', 'chebyshev']\n",
    "    for d in distances:\n",
    "        E1.search__best_param(df=norm_df, pipe=knn_pipe, distance=d, p=True)"
   ]
  },
  {
   "cell_type": "code",
   "execution_count": 14,
   "id": "88dfe051",
   "metadata": {},
   "outputs": [
    {
     "name": "stdout",
     "output_type": "stream",
     "text": [
      "Best score :  0.8099999999999999\n",
      "Best parameters {'knn__algorithm': 'brute', 'knn__metric': 'manhattan', 'knn__n_neighbors': 2, 'knn__weights': 'distance'}\n",
      "Best score :  0.7875000000000001\n",
      "Best parameters {'knn__algorithm': 'brute', 'knn__metric': 'euclidean', 'knn__n_neighbors': 2, 'knn__weights': 'distance'}\n",
      "Best score :  0.7675000000000001\n",
      "Best parameters {'knn__algorithm': 'brute', 'knn__metric': 'chebyshev', 'knn__n_neighbors': 2, 'knn__weights': 'distance'}\n"
     ]
    }
   ],
   "source": [
    "runExp1_2_1(df, 'mean')"
   ]
  },
  {
   "cell_type": "code",
   "execution_count": 15,
   "id": "45157567",
   "metadata": {},
   "outputs": [
    {
     "name": "stdout",
     "output_type": "stream",
     "text": [
      "Best score :  0.8025\n",
      "Best parameters {'knn__algorithm': 'brute', 'knn__metric': 'manhattan', 'knn__n_neighbors': 2, 'knn__weights': 'distance'}\n",
      "Best score :  0.78\n",
      "Best parameters {'knn__algorithm': 'brute', 'knn__metric': 'euclidean', 'knn__n_neighbors': 2, 'knn__weights': 'distance'}\n",
      "Best score :  0.7625\n",
      "Best parameters {'knn__algorithm': 'brute', 'knn__metric': 'chebyshev', 'knn__n_neighbors': 2, 'knn__weights': 'distance'}\n"
     ]
    }
   ],
   "source": [
    "runExp1_2_1(df, 'median')"
   ]
  },
  {
   "cell_type": "code",
   "execution_count": 16,
   "id": "a0abfd90",
   "metadata": {},
   "outputs": [
    {
     "name": "stdout",
     "output_type": "stream",
     "text": [
      "Best score :  0.795\n",
      "Best parameters {'knn__algorithm': 'brute', 'knn__metric': 'manhattan', 'knn__n_neighbors': 3, 'knn__weights': 'distance'}\n",
      "Best score :  0.775\n",
      "Best parameters {'knn__algorithm': 'brute', 'knn__metric': 'euclidean', 'knn__n_neighbors': 2, 'knn__weights': 'distance'}\n",
      "Best score :  0.75\n",
      "Best parameters {'knn__algorithm': 'brute', 'knn__metric': 'chebyshev', 'knn__n_neighbors': 2, 'knn__weights': 'distance'}\n"
     ]
    }
   ],
   "source": [
    "runExp1_2_1(df, 'most_frequent')"
   ]
  },
  {
   "cell_type": "code",
   "execution_count": null,
   "id": "e2c839db",
   "metadata": {},
   "outputs": [],
   "source": []
  },
  {
   "cell_type": "code",
   "execution_count": null,
   "id": "2c35871f",
   "metadata": {},
   "outputs": [],
   "source": []
  },
  {
   "cell_type": "markdown",
   "id": "b643ee2c",
   "metadata": {},
   "source": [
    "**replace missed values + standard**"
   ]
  },
  {
   "cell_type": "code",
   "execution_count": 17,
   "id": "bf8db0e7",
   "metadata": {},
   "outputs": [],
   "source": [
    "def runExp1_2_2(df, strategy):\n",
    "    replaced_df   = E1.imputedDF(df, strategy)\n",
    "    std_df        = E1.standardDF(replaced_df)\n",
    "    knn_pipe      = E1.pipe()\n",
    "    distances     = ['manhattan', 'euclidean', 'chebyshev']\n",
    "    for d in distances:\n",
    "        E1.search__best_param(df=std_df, pipe=knn_pipe, distance=d, p=True)"
   ]
  },
  {
   "cell_type": "code",
   "execution_count": 18,
   "id": "730c65e2",
   "metadata": {},
   "outputs": [
    {
     "name": "stdout",
     "output_type": "stream",
     "text": [
      "Best score :  0.8125\n",
      "Best parameters {'knn__algorithm': 'brute', 'knn__metric': 'manhattan', 'knn__n_neighbors': 14, 'knn__weights': 'distance'}\n",
      "Best score :  0.7725\n",
      "Best parameters {'knn__algorithm': 'brute', 'knn__metric': 'euclidean', 'knn__n_neighbors': 2, 'knn__weights': 'distance'}\n",
      "Best score :  0.76\n",
      "Best parameters {'knn__algorithm': 'brute', 'knn__metric': 'chebyshev', 'knn__n_neighbors': 4, 'knn__weights': 'distance'}\n"
     ]
    }
   ],
   "source": [
    "runExp1_2_2(df, 'mean')"
   ]
  },
  {
   "cell_type": "code",
   "execution_count": 19,
   "id": "a8a3cfc4",
   "metadata": {},
   "outputs": [
    {
     "name": "stdout",
     "output_type": "stream",
     "text": [
      "Best score :  0.8125\n",
      "Best parameters {'knn__algorithm': 'brute', 'knn__metric': 'manhattan', 'knn__n_neighbors': 16, 'knn__weights': 'distance'}\n",
      "Best score :  0.7725\n",
      "Best parameters {'knn__algorithm': 'brute', 'knn__metric': 'euclidean', 'knn__n_neighbors': 3, 'knn__weights': 'distance'}\n",
      "Best score :  0.7575000000000001\n",
      "Best parameters {'knn__algorithm': 'brute', 'knn__metric': 'chebyshev', 'knn__n_neighbors': 4, 'knn__weights': 'distance'}\n"
     ]
    }
   ],
   "source": [
    "runExp1_2_2(df, 'median')"
   ]
  },
  {
   "cell_type": "code",
   "execution_count": 20,
   "id": "c3390182",
   "metadata": {},
   "outputs": [
    {
     "name": "stdout",
     "output_type": "stream",
     "text": [
      "Best score :  0.8075\n",
      "Best parameters {'knn__algorithm': 'brute', 'knn__metric': 'manhattan', 'knn__n_neighbors': 13, 'knn__weights': 'distance'}\n",
      "Best score :  0.7775000000000001\n",
      "Best parameters {'knn__algorithm': 'brute', 'knn__metric': 'euclidean', 'knn__n_neighbors': 3, 'knn__weights': 'distance'}\n",
      "Best score :  0.7575000000000001\n",
      "Best parameters {'knn__algorithm': 'brute', 'knn__metric': 'chebyshev', 'knn__n_neighbors': 4, 'knn__weights': 'distance'}\n"
     ]
    }
   ],
   "source": [
    "runExp1_2_2(df, 'most_frequent')"
   ]
  },
  {
   "cell_type": "code",
   "execution_count": null,
   "id": "1b9606e3",
   "metadata": {},
   "outputs": [],
   "source": []
  },
  {
   "cell_type": "code",
   "execution_count": null,
   "id": "ca53ca32",
   "metadata": {},
   "outputs": [],
   "source": []
  },
  {
   "cell_type": "code",
   "execution_count": 21,
   "id": "619e55c4",
   "metadata": {},
   "outputs": [],
   "source": [
    "def runExp1_3(df, strategy, CA):\n",
    "    replaced_df   = E1.imputedDF(df, strategy)\n",
    "    std_df        = E1.standardDF(replaced_df)\n",
    "#     \n",
    "    pipe      = E1.pipe(CA)\n",
    "    distances     = ['manhattan', 'euclidean', 'chebyshev']\n",
    "    for d in distances:\n",
    "        E1.search__best_param(df=std_df, pipe=pipe, distance=d, p=True)"
   ]
  },
  {
   "cell_type": "code",
   "execution_count": 22,
   "id": "f8a9d839",
   "metadata": {},
   "outputs": [
    {
     "name": "stdout",
     "output_type": "stream",
     "text": [
      "Best score :  0.7775000000000001\n",
      "Best parameters {'knn__algorithm': 'brute', 'knn__metric': 'manhattan', 'knn__n_neighbors': 6, 'knn__weights': 'distance'}\n",
      "Best score :  0.7725\n",
      "Best parameters {'knn__algorithm': 'brute', 'knn__metric': 'euclidean', 'knn__n_neighbors': 3, 'knn__weights': 'distance'}\n",
      "Best score :  0.775\n",
      "Best parameters {'knn__algorithm': 'brute', 'knn__metric': 'chebyshev', 'knn__n_neighbors': 2, 'knn__weights': 'distance'}\n"
     ]
    }
   ],
   "source": [
    "runExp1_3(df, 'median', 'pca')"
   ]
  },
  {
   "cell_type": "code",
   "execution_count": 23,
   "id": "a009abdf",
   "metadata": {
    "scrolled": true
   },
   "outputs": [
    {
     "name": "stdout",
     "output_type": "stream",
     "text": [
      "Best score :  0.78\n",
      "Best parameters {'knn__algorithm': 'brute', 'knn__metric': 'manhattan', 'knn__n_neighbors': 3, 'knn__weights': 'distance'}\n",
      "Best score :  0.7725\n",
      "Best parameters {'knn__algorithm': 'brute', 'knn__metric': 'euclidean', 'knn__n_neighbors': 2, 'knn__weights': 'distance'}\n",
      "Best score :  0.7875\n",
      "Best parameters {'knn__algorithm': 'brute', 'knn__metric': 'chebyshev', 'knn__n_neighbors': 2, 'knn__weights': 'distance'}\n"
     ]
    }
   ],
   "source": [
    "runExp1_3(df, 'mean', 'pca')"
   ]
  },
  {
   "cell_type": "code",
   "execution_count": 24,
   "id": "5e8c8602",
   "metadata": {},
   "outputs": [
    {
     "name": "stdout",
     "output_type": "stream",
     "text": [
      "Best score :  0.78\n",
      "Best parameters {'knn__algorithm': 'brute', 'knn__metric': 'manhattan', 'knn__n_neighbors': 4, 'knn__weights': 'distance'}\n",
      "Best score :  0.7775000000000001\n",
      "Best parameters {'knn__algorithm': 'brute', 'knn__metric': 'euclidean', 'knn__n_neighbors': 3, 'knn__weights': 'distance'}\n",
      "Best score :  0.7725\n",
      "Best parameters {'knn__algorithm': 'brute', 'knn__metric': 'chebyshev', 'knn__n_neighbors': 2, 'knn__weights': 'distance'}\n"
     ]
    }
   ],
   "source": [
    "runExp1_3(df, 'most_frequent', 'pca')"
   ]
  },
  {
   "cell_type": "code",
   "execution_count": null,
   "id": "88bb0362",
   "metadata": {},
   "outputs": [],
   "source": []
  },
  {
   "cell_type": "code",
   "execution_count": 25,
   "id": "0eba92e4",
   "metadata": {},
   "outputs": [
    {
     "name": "stdout",
     "output_type": "stream",
     "text": [
      "Best score :  0.845\n",
      "Best parameters {'knn__algorithm': 'brute', 'knn__metric': 'manhattan', 'knn__n_neighbors': 11, 'knn__weights': 'distance'}\n",
      "Best score :  0.8300000000000001\n",
      "Best parameters {'knn__algorithm': 'brute', 'knn__metric': 'euclidean', 'knn__n_neighbors': 16, 'knn__weights': 'distance'}\n",
      "Best score :  0.7949999999999999\n",
      "Best parameters {'knn__algorithm': 'brute', 'knn__metric': 'chebyshev', 'knn__n_neighbors': 10, 'knn__weights': 'distance'}\n"
     ]
    }
   ],
   "source": [
    "runExp1_3(df, 'median', 'lda')"
   ]
  },
  {
   "cell_type": "code",
   "execution_count": 26,
   "id": "d7bc9f52",
   "metadata": {
    "scrolled": true
   },
   "outputs": [
    {
     "name": "stdout",
     "output_type": "stream",
     "text": [
      "Best score :  0.845\n",
      "Best parameters {'knn__algorithm': 'brute', 'knn__metric': 'manhattan', 'knn__n_neighbors': 11, 'knn__weights': 'distance'}\n",
      "Best score :  0.8325\n",
      "Best parameters {'knn__algorithm': 'brute', 'knn__metric': 'euclidean', 'knn__n_neighbors': 15, 'knn__weights': 'distance'}\n",
      "Best score :  0.795\n",
      "Best parameters {'knn__algorithm': 'brute', 'knn__metric': 'chebyshev', 'knn__n_neighbors': 10, 'knn__weights': 'distance'}\n"
     ]
    }
   ],
   "source": [
    "runExp1_3(df, 'mean', 'lda')"
   ]
  },
  {
   "cell_type": "code",
   "execution_count": 27,
   "id": "eb0757f4",
   "metadata": {},
   "outputs": [
    {
     "name": "stdout",
     "output_type": "stream",
     "text": [
      "Best score :  0.8500000000000001\n",
      "Best parameters {'knn__algorithm': 'brute', 'knn__metric': 'manhattan', 'knn__n_neighbors': 14, 'knn__weights': 'distance'}\n",
      "Best score :  0.825\n",
      "Best parameters {'knn__algorithm': 'brute', 'knn__metric': 'euclidean', 'knn__n_neighbors': 14, 'knn__weights': 'distance'}\n",
      "Best score :  0.78\n",
      "Best parameters {'knn__algorithm': 'brute', 'knn__metric': 'chebyshev', 'knn__n_neighbors': 6, 'knn__weights': 'distance'}\n"
     ]
    }
   ],
   "source": [
    "runExp1_3(df, 'most_frequent', 'lda')"
   ]
  },
  {
   "cell_type": "code",
   "execution_count": null,
   "id": "1bd82fd2",
   "metadata": {},
   "outputs": [],
   "source": []
  },
  {
   "cell_type": "code",
   "execution_count": 28,
   "id": "53c58e6d",
   "metadata": {},
   "outputs": [
    {
     "name": "stdout",
     "output_type": "stream",
     "text": [
      "Best score :  0.8450000000000001\n",
      "Best parameters {'knn__algorithm': 'brute', 'knn__metric': 'manhattan', 'knn__n_neighbors': 5, 'knn__weights': 'distance'}\n",
      "Best score :  0.8350000000000001\n",
      "Best parameters {'knn__algorithm': 'brute', 'knn__metric': 'euclidean', 'knn__n_neighbors': 6, 'knn__weights': 'distance'}\n",
      "Best score :  0.8275\n",
      "Best parameters {'knn__algorithm': 'brute', 'knn__metric': 'chebyshev', 'knn__n_neighbors': 8, 'knn__weights': 'distance'}\n"
     ]
    }
   ],
   "source": [
    "runExp1_3(df, 'median', 'nca')"
   ]
  },
  {
   "cell_type": "code",
   "execution_count": 29,
   "id": "d44ea5b6",
   "metadata": {},
   "outputs": [
    {
     "name": "stdout",
     "output_type": "stream",
     "text": [
      "Best score :  0.8225\n",
      "Best parameters {'knn__algorithm': 'brute', 'knn__metric': 'manhattan', 'knn__n_neighbors': 5, 'knn__weights': 'distance'}\n",
      "Best score :  0.825\n",
      "Best parameters {'knn__algorithm': 'brute', 'knn__metric': 'euclidean', 'knn__n_neighbors': 5, 'knn__weights': 'distance'}\n",
      "Best score :  0.81\n",
      "Best parameters {'knn__algorithm': 'brute', 'knn__metric': 'chebyshev', 'knn__n_neighbors': 4, 'knn__weights': 'distance'}\n"
     ]
    }
   ],
   "source": [
    "runExp1_3(df, 'mean', 'nca')"
   ]
  },
  {
   "cell_type": "code",
   "execution_count": 30,
   "id": "d8336a0c",
   "metadata": {},
   "outputs": [
    {
     "name": "stdout",
     "output_type": "stream",
     "text": [
      "Best score :  0.8325\n",
      "Best parameters {'knn__algorithm': 'brute', 'knn__metric': 'manhattan', 'knn__n_neighbors': 5, 'knn__weights': 'distance'}\n",
      "Best score :  0.8375\n",
      "Best parameters {'knn__algorithm': 'brute', 'knn__metric': 'euclidean', 'knn__n_neighbors': 11, 'knn__weights': 'distance'}\n",
      "Best score :  0.835\n",
      "Best parameters {'knn__algorithm': 'brute', 'knn__metric': 'chebyshev', 'knn__n_neighbors': 11, 'knn__weights': 'distance'}\n"
     ]
    }
   ],
   "source": [
    "runExp1_3(df, 'most_frequent', 'nca')"
   ]
  },
  {
   "cell_type": "markdown",
   "id": "c97dea06",
   "metadata": {},
   "source": [
    "#### Experment 1 Summary\n",
    "\n",
    "The best result is `runExp1_3(df, 'most_frequent', 'lda')`\n",
    "\n",
    "AUC is 0.85"
   ]
  },
  {
   "cell_type": "code",
   "execution_count": null,
   "id": "d69a6499",
   "metadata": {},
   "outputs": [],
   "source": []
  },
  {
   "cell_type": "code",
   "execution_count": null,
   "id": "7200863a",
   "metadata": {},
   "outputs": [],
   "source": []
  },
  {
   "cell_type": "code",
   "execution_count": null,
   "id": "9c94bbae",
   "metadata": {},
   "outputs": [],
   "source": []
  },
  {
   "cell_type": "code",
   "execution_count": 31,
   "id": "7baed2e5",
   "metadata": {},
   "outputs": [],
   "source": [
    "class ExpDeleteNulls(ExpReplaceValues):\n",
    "    def __init__(self):\n",
    "        super(ExpDeleteNulls, self)\n",
    "    \n",
    "    def removeNull(self, df):\n",
    "        nonNull_df = df.copy()\n",
    "        nonNull_df = nonNull_df.dropna(how='any',axis=0)\n",
    "        return nonNull_df "
   ]
  },
  {
   "cell_type": "code",
   "execution_count": 32,
   "id": "ab3aacb4",
   "metadata": {},
   "outputs": [],
   "source": [
    "E2 = ExpDeleteNulls()"
   ]
  },
  {
   "cell_type": "code",
   "execution_count": 33,
   "id": "667422bf",
   "metadata": {},
   "outputs": [],
   "source": [
    "def runExp2_1(df, CA):\n",
    "    nonNull_df    = E2.removeNull(df)\n",
    "    std_df        = E2.standardDF(nonNull_df)\n",
    "    pipe          = E2.pipe(CA)\n",
    "    distances     = ['manhattan', 'euclidean', 'chebyshev']\n",
    "    clfs          = []\n",
    "    for d in distances:\n",
    "        clfs.append(E1.search__best_param(df=std_df, pipe=pipe, distance=d, p=True))\n",
    "\n",
    "    return clfs"
   ]
  },
  {
   "cell_type": "code",
   "execution_count": 34,
   "id": "091091a2",
   "metadata": {},
   "outputs": [
    {
     "name": "stdout",
     "output_type": "stream",
     "text": [
      "Best score :  0.846322849213691\n",
      "Best parameters {'knn__algorithm': 'brute', 'knn__metric': 'manhattan', 'knn__n_neighbors': 14, 'knn__weights': 'distance'}\n",
      "Best score :  0.8140032377428308\n",
      "Best parameters {'knn__algorithm': 'brute', 'knn__metric': 'euclidean', 'knn__n_neighbors': 12, 'knn__weights': 'distance'}\n",
      "Best score :  0.8166628122109159\n",
      "Best parameters {'knn__algorithm': 'brute', 'knn__metric': 'chebyshev', 'knn__n_neighbors': 4, 'knn__weights': 'distance'}\n"
     ]
    }
   ],
   "source": [
    "std_result_knn = runExp2_1(df,\"\")"
   ]
  },
  {
   "cell_type": "code",
   "execution_count": 35,
   "id": "663ffa41",
   "metadata": {},
   "outputs": [
    {
     "name": "stdout",
     "output_type": "stream",
     "text": [
      "Best score :  0.8381706753006475\n",
      "Best parameters {'knn__algorithm': 'brute', 'knn__metric': 'manhattan', 'knn__n_neighbors': 3, 'knn__weights': 'distance'}\n",
      "Best score :  0.8140032377428308\n",
      "Best parameters {'knn__algorithm': 'brute', 'knn__metric': 'euclidean', 'knn__n_neighbors': 12, 'knn__weights': 'distance'}\n",
      "Best score :  0.8248149861239593\n",
      "Best parameters {'knn__algorithm': 'brute', 'knn__metric': 'chebyshev', 'knn__n_neighbors': 6, 'knn__weights': 'distance'}\n"
     ]
    }
   ],
   "source": [
    "std_result_pca = runExp2_1(df, 'pca')"
   ]
  },
  {
   "cell_type": "code",
   "execution_count": 36,
   "id": "d8c6d523",
   "metadata": {},
   "outputs": [
    {
     "name": "stdout",
     "output_type": "stream",
     "text": [
      "Best score :  0.8947733580018502\n",
      "Best parameters {'knn__algorithm': 'brute', 'knn__metric': 'manhattan', 'knn__n_neighbors': 11, 'knn__weights': 'distance'}\n",
      "Best score :  0.8733811285846438\n",
      "Best parameters {'knn__algorithm': 'brute', 'knn__metric': 'euclidean', 'knn__n_neighbors': 9, 'knn__weights': 'distance'}\n",
      "Best score :  0.8491558741905643\n",
      "Best parameters {'knn__algorithm': 'brute', 'knn__metric': 'chebyshev', 'knn__n_neighbors': 7, 'knn__weights': 'distance'}\n"
     ]
    }
   ],
   "source": [
    "std_result_lda = runExp2_1(df, 'lda')"
   ]
  },
  {
   "cell_type": "code",
   "execution_count": 37,
   "id": "e3f3cba6",
   "metadata": {},
   "outputs": [
    {
     "name": "stdout",
     "output_type": "stream",
     "text": [
      "Best score :  0.8841350601295097\n",
      "Best parameters {'knn__algorithm': 'brute', 'knn__metric': 'manhattan', 'knn__n_neighbors': 6, 'knn__weights': 'distance'}\n",
      "Best score :  0.8895120259019427\n",
      "Best parameters {'knn__algorithm': 'brute', 'knn__metric': 'euclidean', 'knn__n_neighbors': 6, 'knn__weights': 'distance'}\n",
      "Best score :  0.8813598519888992\n",
      "Best parameters {'knn__algorithm': 'brute', 'knn__metric': 'chebyshev', 'knn__n_neighbors': 8, 'knn__weights': 'distance'}\n"
     ]
    }
   ],
   "source": [
    "std_result_nca = runExp2_1(df, 'nca')"
   ]
  },
  {
   "cell_type": "code",
   "execution_count": null,
   "id": "d3c2beb9",
   "metadata": {},
   "outputs": [],
   "source": []
  },
  {
   "cell_type": "code",
   "execution_count": null,
   "id": "bff9bbc0",
   "metadata": {},
   "outputs": [],
   "source": []
  },
  {
   "cell_type": "markdown",
   "id": "13ae1db0",
   "metadata": {},
   "source": []
  },
  {
   "cell_type": "code",
   "execution_count": 38,
   "id": "1ce60304",
   "metadata": {},
   "outputs": [],
   "source": [
    "def runExp2_2(df, CA):\n",
    "    nonNull_df    = E2.removeNull(df)\n",
    "    norm_df       = E2.normalizedDF(nonNull_df)\n",
    "    pipe          = E2.pipe(CA)\n",
    "    distances     = ['manhattan', 'euclidean', 'chebyshev']\n",
    "    clfs          = []\n",
    "    for d in distances:\n",
    "        clfs.append(E1.search__best_param(df=norm_df, pipe=pipe, distance=d, p=True))\n",
    "\n",
    "    return clfs"
   ]
  },
  {
   "cell_type": "code",
   "execution_count": 39,
   "id": "dfc5f6f1",
   "metadata": {},
   "outputs": [
    {
     "name": "stdout",
     "output_type": "stream",
     "text": [
      "Best score :  0.8331406105457909\n",
      "Best parameters {'knn__algorithm': 'brute', 'knn__metric': 'manhattan', 'knn__n_neighbors': 3, 'knn__weights': 'distance'}\n",
      "Best score :  0.8275901942645698\n",
      "Best parameters {'knn__algorithm': 'brute', 'knn__metric': 'euclidean', 'knn__n_neighbors': 2, 'knn__weights': 'distance'}\n",
      "Best score :  0.795386216466235\n",
      "Best parameters {'knn__algorithm': 'brute', 'knn__metric': 'chebyshev', 'knn__n_neighbors': 2, 'knn__weights': 'distance'}\n"
     ]
    }
   ],
   "source": [
    "# normialized + knn\n",
    "norm_result_knn = runExp2_2(df, '')"
   ]
  },
  {
   "cell_type": "code",
   "execution_count": 40,
   "id": "285ed512",
   "metadata": {},
   "outputs": [
    {
     "name": "stdout",
     "output_type": "stream",
     "text": [
      "Best score :  0.8220397779833487\n",
      "Best parameters {'knn__algorithm': 'brute', 'knn__metric': 'manhattan', 'knn__n_neighbors': 3, 'knn__weights': 'distance'}\n",
      "Best score :  0.8275901942645698\n",
      "Best parameters {'knn__algorithm': 'brute', 'knn__metric': 'euclidean', 'knn__n_neighbors': 2, 'knn__weights': 'distance'}\n",
      "Best score :  0.8089731729879741\n",
      "Best parameters {'knn__algorithm': 'brute', 'knn__metric': 'chebyshev', 'knn__n_neighbors': 3, 'knn__weights': 'distance'}\n"
     ]
    }
   ],
   "source": [
    "# pca + knn\n",
    "norm_result_pca = runExp2_2(df, 'pca')"
   ]
  },
  {
   "cell_type": "code",
   "execution_count": 41,
   "id": "f272a2fb",
   "metadata": {},
   "outputs": [
    {
     "name": "stdout",
     "output_type": "stream",
     "text": [
      "Best score :  0.8947733580018502\n",
      "Best parameters {'knn__algorithm': 'brute', 'knn__metric': 'manhattan', 'knn__n_neighbors': 11, 'knn__weights': 'distance'}\n",
      "Best score :  0.8733811285846438\n",
      "Best parameters {'knn__algorithm': 'brute', 'knn__metric': 'euclidean', 'knn__n_neighbors': 9, 'knn__weights': 'distance'}\n",
      "Best score :  0.8491558741905643\n",
      "Best parameters {'knn__algorithm': 'brute', 'knn__metric': 'chebyshev', 'knn__n_neighbors': 7, 'knn__weights': 'distance'}\n"
     ]
    }
   ],
   "source": [
    "# lda + knn\n",
    "norm_result_lda = runExp2_2(df, 'lda')"
   ]
  },
  {
   "cell_type": "code",
   "execution_count": 42,
   "id": "90055555",
   "metadata": {},
   "outputs": [
    {
     "name": "stdout",
     "output_type": "stream",
     "text": [
      "Best score :  0.8653445883441258\n",
      "Best parameters {'knn__algorithm': 'brute', 'knn__metric': 'manhattan', 'knn__n_neighbors': 6, 'knn__weights': 'distance'}\n",
      "Best score :  0.8704902867715079\n",
      "Best parameters {'knn__algorithm': 'brute', 'knn__metric': 'euclidean', 'knn__n_neighbors': 13, 'knn__weights': 'distance'}\n",
      "Best score :  0.8572502312673451\n",
      "Best parameters {'knn__algorithm': 'brute', 'knn__metric': 'chebyshev', 'knn__n_neighbors': 4, 'knn__weights': 'distance'}\n"
     ]
    }
   ],
   "source": [
    "# nca + knn\n",
    "norm_result_nca = runExp2_2(df, 'nca')"
   ]
  },
  {
   "cell_type": "code",
   "execution_count": null,
   "id": "63dcd647",
   "metadata": {},
   "outputs": [],
   "source": []
  },
  {
   "cell_type": "code",
   "execution_count": null,
   "id": "3ed32948",
   "metadata": {},
   "outputs": [],
   "source": []
  },
  {
   "cell_type": "code",
   "execution_count": 43,
   "id": "67cc6660",
   "metadata": {},
   "outputs": [],
   "source": [
    "def runExp2_3(df, CA):\n",
    "    nonNull_df    = E2.removeNull(df)\n",
    "    pipe          = E2.pipe(CA)\n",
    "    distances     = ['manhattan', 'euclidean', 'chebyshev']\n",
    "    clfs          = []\n",
    "    for d in distances:\n",
    "        clfs.append(E1.search__best_param(df=nonNull_df, pipe=pipe, distance=d, p=True))\n",
    "\n",
    "    return clfs"
   ]
  },
  {
   "cell_type": "code",
   "execution_count": 44,
   "id": "3c303661",
   "metadata": {},
   "outputs": [
    {
     "name": "stdout",
     "output_type": "stream",
     "text": [
      "Best score :  0.6656452358926919\n",
      "Best parameters {'knn__algorithm': 'brute', 'knn__metric': 'manhattan', 'knn__n_neighbors': 2, 'knn__weights': 'distance'}\n",
      "Best score :  0.6492252543940795\n",
      "Best parameters {'knn__algorithm': 'brute', 'knn__metric': 'euclidean', 'knn__n_neighbors': 2, 'knn__weights': 'distance'}\n",
      "Best score :  0.6356382978723404\n",
      "Best parameters {'knn__algorithm': 'brute', 'knn__metric': 'chebyshev', 'knn__n_neighbors': 2, 'knn__weights': 'distance'}\n"
     ]
    }
   ],
   "source": [
    "result_knn = runExp2_3(df, '')"
   ]
  },
  {
   "cell_type": "code",
   "execution_count": 45,
   "id": "888f306d",
   "metadata": {},
   "outputs": [
    {
     "name": "stdout",
     "output_type": "stream",
     "text": [
      "Best score :  0.6601526364477335\n",
      "Best parameters {'knn__algorithm': 'brute', 'knn__metric': 'manhattan', 'knn__n_neighbors': 2, 'knn__weights': 'distance'}\n",
      "Best score :  0.6492252543940795\n",
      "Best parameters {'knn__algorithm': 'brute', 'knn__metric': 'euclidean', 'knn__n_neighbors': 2, 'knn__weights': 'distance'}\n",
      "Best score :  0.638413506012951\n",
      "Best parameters {'knn__algorithm': 'brute', 'knn__metric': 'chebyshev', 'knn__n_neighbors': 2, 'knn__weights': 'distance'}\n"
     ]
    }
   ],
   "source": [
    "result_pca = runExp2_3(df, 'pca')"
   ]
  },
  {
   "cell_type": "code",
   "execution_count": 46,
   "id": "154df1e2",
   "metadata": {},
   "outputs": [
    {
     "name": "stdout",
     "output_type": "stream",
     "text": [
      "Best score :  0.8947733580018502\n",
      "Best parameters {'knn__algorithm': 'brute', 'knn__metric': 'manhattan', 'knn__n_neighbors': 11, 'knn__weights': 'distance'}\n",
      "Best score :  0.8733811285846438\n",
      "Best parameters {'knn__algorithm': 'brute', 'knn__metric': 'euclidean', 'knn__n_neighbors': 9, 'knn__weights': 'distance'}\n",
      "Best score :  0.8491558741905643\n",
      "Best parameters {'knn__algorithm': 'brute', 'knn__metric': 'chebyshev', 'knn__n_neighbors': 7, 'knn__weights': 'distance'}\n"
     ]
    }
   ],
   "source": [
    "result_lda = runExp2_3(df, 'lda')"
   ]
  },
  {
   "cell_type": "code",
   "execution_count": 47,
   "id": "868d869a",
   "metadata": {},
   "outputs": [
    {
     "name": "stdout",
     "output_type": "stream",
     "text": [
      "Best score :  0.8244680851063829\n",
      "Best parameters {'knn__algorithm': 'brute', 'knn__metric': 'manhattan', 'knn__n_neighbors': 6, 'knn__weights': 'distance'}\n",
      "Best score :  0.8379394079555967\n",
      "Best parameters {'knn__algorithm': 'brute', 'knn__metric': 'euclidean', 'knn__n_neighbors': 6, 'knn__weights': 'distance'}\n",
      "Best score :  0.8435476410730806\n",
      "Best parameters {'knn__algorithm': 'brute', 'knn__metric': 'chebyshev', 'knn__n_neighbors': 6, 'knn__weights': 'distance'}\n"
     ]
    }
   ],
   "source": [
    "result_nca = runExp2_3(df, 'nca')"
   ]
  },
  {
   "cell_type": "code",
   "execution_count": null,
   "id": "59b1383a",
   "metadata": {},
   "outputs": [],
   "source": []
  },
  {
   "cell_type": "markdown",
   "id": "f53cfd80",
   "metadata": {},
   "source": [
    "**two good result** \n",
    "1. `std_result_lda = runExp2_1(df, 'lda')`\n",
    "2. `std_result_nca = runExp2_1(df, 'nca')`"
   ]
  },
  {
   "cell_type": "code",
   "execution_count": 48,
   "id": "63176ba7",
   "metadata": {},
   "outputs": [],
   "source": [
    "def runExp3_1(df, algorithm, CA):\n",
    "    nonNull_df    = E2.removeNull(df)\n",
    "    std_df        = E2.standardDF(nonNull_df)\n",
    "    pipe          = E2.pipe(CA)\n",
    "    distances     = ['manhattan', 'euclidean', 'chebyshev']\n",
    "    clfs          = []\n",
    "    _time         = []\n",
    "    \n",
    "    for d in distances:\n",
    "        start_time = time.time()\n",
    "        clfs.append(E1.search__best_param(df=std_df, algorithm=algorithm, pipe=pipe, distance=d, p=True))\n",
    "        end_time   = time.time()\n",
    "        _time.append(end_time-start_time)\n",
    "        \n",
    "    print(\"avge time is \", np.mean(_time))\n",
    "    \n",
    "    return clfs"
   ]
  },
  {
   "cell_type": "code",
   "execution_count": 49,
   "id": "021b2844",
   "metadata": {
    "scrolled": false
   },
   "outputs": [
    {
     "name": "stdout",
     "output_type": "stream",
     "text": [
      "Best score :  0.846322849213691\n",
      "Best parameters {'knn__algorithm': 'brute', 'knn__metric': 'manhattan', 'knn__n_neighbors': 14, 'knn__weights': 'distance'}\n",
      "Best score :  0.8140032377428308\n",
      "Best parameters {'knn__algorithm': 'brute', 'knn__metric': 'euclidean', 'knn__n_neighbors': 12, 'knn__weights': 'distance'}\n",
      "Best score :  0.8166628122109159\n",
      "Best parameters {'knn__algorithm': 'brute', 'knn__metric': 'chebyshev', 'knn__n_neighbors': 4, 'knn__weights': 'distance'}\n",
      "avge time is  0.21947630246480307\n"
     ]
    }
   ],
   "source": [
    "brute_knn = runExp3_1(df, 'brute', '')"
   ]
  },
  {
   "cell_type": "code",
   "execution_count": 50,
   "id": "cf7e6a4a",
   "metadata": {
    "scrolled": true
   },
   "outputs": [
    {
     "name": "stdout",
     "output_type": "stream",
     "text": [
      "Best score :  0.8381706753006475\n",
      "Best parameters {'knn__algorithm': 'brute', 'knn__metric': 'manhattan', 'knn__n_neighbors': 3, 'knn__weights': 'distance'}\n",
      "Best score :  0.8140032377428308\n",
      "Best parameters {'knn__algorithm': 'brute', 'knn__metric': 'euclidean', 'knn__n_neighbors': 12, 'knn__weights': 'distance'}\n",
      "Best score :  0.8248149861239593\n",
      "Best parameters {'knn__algorithm': 'brute', 'knn__metric': 'chebyshev', 'knn__n_neighbors': 6, 'knn__weights': 'distance'}\n",
      "avge time is  0.2429027557373047\n"
     ]
    }
   ],
   "source": [
    "brute_pca = runExp3_1(df, 'brute', 'pca')"
   ]
  },
  {
   "cell_type": "code",
   "execution_count": 51,
   "id": "169e06ea",
   "metadata": {},
   "outputs": [
    {
     "name": "stdout",
     "output_type": "stream",
     "text": [
      "Best score :  0.8947733580018502\n",
      "Best parameters {'knn__algorithm': 'brute', 'knn__metric': 'manhattan', 'knn__n_neighbors': 11, 'knn__weights': 'distance'}\n",
      "Best score :  0.8733811285846438\n",
      "Best parameters {'knn__algorithm': 'brute', 'knn__metric': 'euclidean', 'knn__n_neighbors': 9, 'knn__weights': 'distance'}\n",
      "Best score :  0.8491558741905643\n",
      "Best parameters {'knn__algorithm': 'brute', 'knn__metric': 'chebyshev', 'knn__n_neighbors': 7, 'knn__weights': 'distance'}\n",
      "avge time is  0.3033449649810791\n"
     ]
    }
   ],
   "source": [
    "brute_lda = runExp3_1(df, 'brute', 'lda')"
   ]
  },
  {
   "cell_type": "code",
   "execution_count": 52,
   "id": "0033aeb9",
   "metadata": {},
   "outputs": [
    {
     "name": "stdout",
     "output_type": "stream",
     "text": [
      "Best score :  0.8841350601295097\n",
      "Best parameters {'knn__algorithm': 'brute', 'knn__metric': 'manhattan', 'knn__n_neighbors': 6, 'knn__weights': 'distance'}\n",
      "Best score :  0.8895120259019427\n",
      "Best parameters {'knn__algorithm': 'brute', 'knn__metric': 'euclidean', 'knn__n_neighbors': 6, 'knn__weights': 'distance'}\n",
      "Best score :  0.8813598519888992\n",
      "Best parameters {'knn__algorithm': 'brute', 'knn__metric': 'chebyshev', 'knn__n_neighbors': 8, 'knn__weights': 'distance'}\n",
      "avge time is  10.714478333791098\n"
     ]
    }
   ],
   "source": [
    "brute_nca = runExp3_1(df, 'brute', 'nca')"
   ]
  },
  {
   "cell_type": "code",
   "execution_count": null,
   "id": "d115400a",
   "metadata": {},
   "outputs": [],
   "source": []
  },
  {
   "cell_type": "code",
   "execution_count": null,
   "id": "decda4ee",
   "metadata": {},
   "outputs": [],
   "source": []
  },
  {
   "cell_type": "code",
   "execution_count": 53,
   "id": "bc5a6411",
   "metadata": {},
   "outputs": [
    {
     "name": "stdout",
     "output_type": "stream",
     "text": [
      "Best score :  0.846322849213691\n",
      "Best parameters {'knn__algorithm': 'kd_tree', 'knn__metric': 'manhattan', 'knn__n_neighbors': 14, 'knn__weights': 'distance'}\n",
      "Best score :  0.8140032377428308\n",
      "Best parameters {'knn__algorithm': 'kd_tree', 'knn__metric': 'euclidean', 'knn__n_neighbors': 12, 'knn__weights': 'distance'}\n",
      "Best score :  0.8140032377428307\n",
      "Best parameters {'knn__algorithm': 'kd_tree', 'knn__metric': 'chebyshev', 'knn__n_neighbors': 4, 'knn__weights': 'distance'}\n",
      "avge time is  0.20807592074076334\n"
     ]
    }
   ],
   "source": [
    "kd_knn = runExp3_1(df, 'kd_tree', '')"
   ]
  },
  {
   "cell_type": "code",
   "execution_count": 54,
   "id": "38c0ad36",
   "metadata": {},
   "outputs": [
    {
     "name": "stdout",
     "output_type": "stream",
     "text": [
      "Best score :  0.8381706753006475\n",
      "Best parameters {'knn__algorithm': 'kd_tree', 'knn__metric': 'manhattan', 'knn__n_neighbors': 3, 'knn__weights': 'distance'}\n",
      "Best score :  0.8140032377428308\n",
      "Best parameters {'knn__algorithm': 'kd_tree', 'knn__metric': 'euclidean', 'knn__n_neighbors': 12, 'knn__weights': 'distance'}\n",
      "Best score :  0.8248149861239593\n",
      "Best parameters {'knn__algorithm': 'kd_tree', 'knn__metric': 'chebyshev', 'knn__n_neighbors': 6, 'knn__weights': 'distance'}\n",
      "avge time is  0.25751233100891113\n"
     ]
    }
   ],
   "source": [
    "kd_pda = runExp3_1(df, 'kd_tree', 'pca')"
   ]
  },
  {
   "cell_type": "code",
   "execution_count": 55,
   "id": "268a660a",
   "metadata": {},
   "outputs": [
    {
     "name": "stdout",
     "output_type": "stream",
     "text": [
      "Best score :  0.8947733580018502\n",
      "Best parameters {'knn__algorithm': 'kd_tree', 'knn__metric': 'manhattan', 'knn__n_neighbors': 11, 'knn__weights': 'distance'}\n",
      "Best score :  0.8733811285846438\n",
      "Best parameters {'knn__algorithm': 'kd_tree', 'knn__metric': 'euclidean', 'knn__n_neighbors': 9, 'knn__weights': 'distance'}\n",
      "Best score :  0.8491558741905643\n",
      "Best parameters {'knn__algorithm': 'kd_tree', 'knn__metric': 'chebyshev', 'knn__n_neighbors': 7, 'knn__weights': 'distance'}\n",
      "avge time is  0.31414445241292316\n"
     ]
    }
   ],
   "source": [
    "kd_lda = runExp3_1(df, 'kd_tree', 'lda')"
   ]
  },
  {
   "cell_type": "code",
   "execution_count": 56,
   "id": "30b256be",
   "metadata": {},
   "outputs": [
    {
     "name": "stdout",
     "output_type": "stream",
     "text": [
      "Best score :  0.8841350601295097\n",
      "Best parameters {'knn__algorithm': 'kd_tree', 'knn__metric': 'manhattan', 'knn__n_neighbors': 6, 'knn__weights': 'distance'}\n",
      "Best score :  0.8895120259019427\n",
      "Best parameters {'knn__algorithm': 'kd_tree', 'knn__metric': 'euclidean', 'knn__n_neighbors': 6, 'knn__weights': 'distance'}\n",
      "Best score :  0.8813598519888992\n",
      "Best parameters {'knn__algorithm': 'kd_tree', 'knn__metric': 'chebyshev', 'knn__n_neighbors': 8, 'knn__weights': 'distance'}\n",
      "avge time is  10.711554129918417\n"
     ]
    }
   ],
   "source": [
    "kd_nca = runExp3_1(df, 'kd_tree', 'nca')"
   ]
  },
  {
   "cell_type": "code",
   "execution_count": null,
   "id": "75d7b874",
   "metadata": {},
   "outputs": [],
   "source": []
  },
  {
   "cell_type": "code",
   "execution_count": null,
   "id": "9bbf310d",
   "metadata": {},
   "outputs": [],
   "source": []
  },
  {
   "cell_type": "code",
   "execution_count": 57,
   "id": "3de5bfe2",
   "metadata": {},
   "outputs": [
    {
     "name": "stdout",
     "output_type": "stream",
     "text": [
      "Best score :  0.846322849213691\n",
      "Best parameters {'knn__algorithm': 'ball_tree', 'knn__metric': 'manhattan', 'knn__n_neighbors': 14, 'knn__weights': 'distance'}\n",
      "Best score :  0.8140032377428308\n",
      "Best parameters {'knn__algorithm': 'ball_tree', 'knn__metric': 'euclidean', 'knn__n_neighbors': 12, 'knn__weights': 'distance'}\n",
      "Best score :  0.8167206290471785\n",
      "Best parameters {'knn__algorithm': 'ball_tree', 'knn__metric': 'chebyshev', 'knn__n_neighbors': 4, 'knn__weights': 'distance'}\n",
      "avge time is  0.2048036257425944\n"
     ]
    }
   ],
   "source": [
    "ball_knn = runExp3_1(df, 'ball_tree', '')"
   ]
  },
  {
   "cell_type": "code",
   "execution_count": 58,
   "id": "9e09b499",
   "metadata": {},
   "outputs": [
    {
     "name": "stdout",
     "output_type": "stream",
     "text": [
      "Best score :  0.8381706753006475\n",
      "Best parameters {'knn__algorithm': 'ball_tree', 'knn__metric': 'manhattan', 'knn__n_neighbors': 3, 'knn__weights': 'distance'}\n",
      "Best score :  0.8140032377428308\n",
      "Best parameters {'knn__algorithm': 'ball_tree', 'knn__metric': 'euclidean', 'knn__n_neighbors': 12, 'knn__weights': 'distance'}\n",
      "Best score :  0.8248149861239593\n",
      "Best parameters {'knn__algorithm': 'ball_tree', 'knn__metric': 'chebyshev', 'knn__n_neighbors': 6, 'knn__weights': 'distance'}\n",
      "avge time is  0.2465968132019043\n"
     ]
    }
   ],
   "source": [
    "ball_pca = runExp3_1(df, 'ball_tree', 'pca')"
   ]
  },
  {
   "cell_type": "code",
   "execution_count": 59,
   "id": "25175c4f",
   "metadata": {},
   "outputs": [
    {
     "name": "stdout",
     "output_type": "stream",
     "text": [
      "Best score :  0.8947733580018502\n",
      "Best parameters {'knn__algorithm': 'ball_tree', 'knn__metric': 'manhattan', 'knn__n_neighbors': 11, 'knn__weights': 'distance'}\n",
      "Best score :  0.8733811285846438\n",
      "Best parameters {'knn__algorithm': 'ball_tree', 'knn__metric': 'euclidean', 'knn__n_neighbors': 9, 'knn__weights': 'distance'}\n",
      "Best score :  0.8491558741905643\n",
      "Best parameters {'knn__algorithm': 'ball_tree', 'knn__metric': 'chebyshev', 'knn__n_neighbors': 7, 'knn__weights': 'distance'}\n",
      "avge time is  0.3087042172749837\n"
     ]
    }
   ],
   "source": [
    "ball_lda = runExp3_1(df, 'ball_tree', 'lda')"
   ]
  },
  {
   "cell_type": "code",
   "execution_count": 60,
   "id": "eaf1111a",
   "metadata": {},
   "outputs": [
    {
     "name": "stdout",
     "output_type": "stream",
     "text": [
      "Best score :  0.8841350601295097\n",
      "Best parameters {'knn__algorithm': 'ball_tree', 'knn__metric': 'manhattan', 'knn__n_neighbors': 6, 'knn__weights': 'distance'}\n",
      "Best score :  0.8895120259019427\n",
      "Best parameters {'knn__algorithm': 'ball_tree', 'knn__metric': 'euclidean', 'knn__n_neighbors': 6, 'knn__weights': 'distance'}\n",
      "Best score :  0.8813598519888992\n",
      "Best parameters {'knn__algorithm': 'ball_tree', 'knn__metric': 'chebyshev', 'knn__n_neighbors': 8, 'knn__weights': 'distance'}\n",
      "avge time is  10.542190710703531\n"
     ]
    }
   ],
   "source": [
    "ball_nca = runExp3_1(df, 'ball_tree', 'nca')"
   ]
  },
  {
   "cell_type": "code",
   "execution_count": 61,
   "id": "e2794da7",
   "metadata": {},
   "outputs": [
    {
     "data": {
      "text/plain": [
       "33.46875"
      ]
     },
     "execution_count": 61,
     "metadata": {},
     "output_type": "execute_result"
    }
   ],
   "source": [
    "10.71/0.32"
   ]
  },
  {
   "cell_type": "code",
   "execution_count": null,
   "id": "447e3118",
   "metadata": {},
   "outputs": [],
   "source": []
  },
  {
   "cell_type": "code",
   "execution_count": null,
   "id": "3c6d8e7c",
   "metadata": {},
   "outputs": [],
   "source": []
  },
  {
   "cell_type": "markdown",
   "id": "cf4b5e3a",
   "metadata": {},
   "source": [
    "### Evaluation"
   ]
  },
  {
   "cell_type": "code",
   "execution_count": 62,
   "id": "3f1020ac",
   "metadata": {},
   "outputs": [],
   "source": [
    "attri, target = E2.trainAndTarg(E2.removeNull(df))"
   ]
  },
  {
   "cell_type": "code",
   "execution_count": 63,
   "id": "27a0d919",
   "metadata": {},
   "outputs": [
    {
     "data": {
      "text/plain": [
       "Pipeline(steps=[('lda', LinearDiscriminantAnalysis()),\n",
       "                ('knn',\n",
       "                 KNeighborsClassifier(algorithm='ball_tree', metric='manhattan',\n",
       "                                      n_neighbors=11, weights='distance'))])"
      ]
     },
     "execution_count": 63,
     "metadata": {},
     "output_type": "execute_result"
    }
   ],
   "source": [
    "clf = ball_lda[0]\n",
    "clf.best_estimator_"
   ]
  },
  {
   "cell_type": "code",
   "execution_count": 64,
   "id": "ef4d1460",
   "metadata": {},
   "outputs": [
    {
     "name": "stdout",
     "output_type": "stream",
     "text": [
      "[0.87234043 0.85106383 0.91304348 0.93478261 0.73913043 0.95652174\n",
      " 0.91304348 0.97826087]\n",
      "mean score :  0.8947733580018502\n"
     ]
    }
   ],
   "source": [
    "scores = cross_val_score(clf.best_estimator_, attri, target, n_jobs=-1,cv=8, scoring='accuracy')\n",
    "print(scores)\n",
    "print('mean score : ', scores.mean())"
   ]
  },
  {
   "cell_type": "code",
   "execution_count": 65,
   "id": "9943f680",
   "metadata": {},
   "outputs": [
    {
     "data": {
      "image/png": "[encoded data removed]",
      "text/plain": [
       "<Figure size 720x720 with 2 Axes>"
      ]
     },
     "metadata": {
      "needs_background": "light"
     },
     "output_type": "display_data"
    },
    {
     "name": "stdout",
     "output_type": "stream",
     "text": [
      "              precision    recall  f1-score   support\n",
      "\n",
      "          A1       0.88      0.92      0.90        25\n",
      "          A2       0.82      0.97      0.89        29\n",
      "          B1       1.00      0.96      0.98        23\n",
      "          B2       1.00      0.85      0.92        26\n",
      "          C1       0.93      0.93      0.93        28\n",
      "          C2       1.00      0.75      0.86        20\n",
      "           D       0.85      0.97      0.91        30\n",
      "           E       0.95      0.71      0.82        28\n",
      "          F1       0.83      0.96      0.89        26\n",
      "          F2       0.90      0.79      0.84        24\n",
      "          F3       0.68      1.00      0.81        25\n",
      "           G       0.94      0.97      0.95        30\n",
      "           H       0.97      0.97      0.97        30\n",
      "           I       1.00      0.73      0.84        26\n",
      "\n",
      "    accuracy                           0.89       370\n",
      "   macro avg       0.91      0.89      0.89       370\n",
      "weighted avg       0.91      0.89      0.89       370\n",
      "\n"
     ]
    }
   ],
   "source": [
    "y_pred = cross_val_predict(clf.best_estimator_, attri, target, n_jobs=-1,cv=8)\n",
    "conf_mat = confusion_matrix(target, y_pred)\n",
    "disp = ConfusionMatrixDisplay(\n",
    "    confusion_matrix=conf_mat,\n",
    "    display_labels=clf.classes_\n",
    ")\n",
    "fig, ax = plt.subplots(figsize=(10,10))\n",
    "plt.grid(False)\n",
    "disp.plot(ax=ax)\n",
    "plt.show()\n",
    "print(classification_report(target, y_pred))"
   ]
  },
  {
   "cell_type": "code",
   "execution_count": 66,
   "id": "7fdbceaa",
   "metadata": {},
   "outputs": [
    {
     "data": {
      "text/html": [
       "<div>\n",
       "<style scoped>\n",
       "    .dataframe tbody tr th:only-of-type {\n",
       "        vertical-align: middle;\n",
       "    }\n",
       "\n",
       "    .dataframe tbody tr th {\n",
       "        vertical-align: top;\n",
       "    }\n",
       "\n",
       "    .dataframe thead th {\n",
       "        text-align: right;\n",
       "    }\n",
       "</style>\n",
       "<table border=\"1\" class=\"dataframe\">\n",
       "  <thead>\n",
       "    <tr style=\"text-align: right;\">\n",
       "      <th></th>\n",
       "      <th>class</th>\n",
       "      <th>specificity</th>\n",
       "      <th>sensitivity</th>\n",
       "    </tr>\n",
       "  </thead>\n",
       "  <tbody>\n",
       "    <tr>\n",
       "      <th>0</th>\n",
       "      <td>A1</td>\n",
       "      <td>0.991304</td>\n",
       "      <td>0.920000</td>\n",
       "    </tr>\n",
       "    <tr>\n",
       "      <th>1</th>\n",
       "      <td>A2</td>\n",
       "      <td>0.982405</td>\n",
       "      <td>0.965517</td>\n",
       "    </tr>\n",
       "    <tr>\n",
       "      <th>2</th>\n",
       "      <td>B1</td>\n",
       "      <td>1.000000</td>\n",
       "      <td>0.956522</td>\n",
       "    </tr>\n",
       "    <tr>\n",
       "      <th>3</th>\n",
       "      <td>B2</td>\n",
       "      <td>1.000000</td>\n",
       "      <td>0.846154</td>\n",
       "    </tr>\n",
       "    <tr>\n",
       "      <th>4</th>\n",
       "      <td>C1</td>\n",
       "      <td>0.994152</td>\n",
       "      <td>0.928571</td>\n",
       "    </tr>\n",
       "    <tr>\n",
       "      <th>5</th>\n",
       "      <td>C2</td>\n",
       "      <td>1.000000</td>\n",
       "      <td>0.750000</td>\n",
       "    </tr>\n",
       "    <tr>\n",
       "      <th>6</th>\n",
       "      <td>D</td>\n",
       "      <td>0.985294</td>\n",
       "      <td>0.966667</td>\n",
       "    </tr>\n",
       "    <tr>\n",
       "      <th>7</th>\n",
       "      <td>E</td>\n",
       "      <td>0.997076</td>\n",
       "      <td>0.714286</td>\n",
       "    </tr>\n",
       "    <tr>\n",
       "      <th>8</th>\n",
       "      <td>F1</td>\n",
       "      <td>0.985465</td>\n",
       "      <td>0.961538</td>\n",
       "    </tr>\n",
       "    <tr>\n",
       "      <th>9</th>\n",
       "      <td>F2</td>\n",
       "      <td>0.994220</td>\n",
       "      <td>0.791667</td>\n",
       "    </tr>\n",
       "    <tr>\n",
       "      <th>10</th>\n",
       "      <td>F3</td>\n",
       "      <td>0.965217</td>\n",
       "      <td>1.000000</td>\n",
       "    </tr>\n",
       "    <tr>\n",
       "      <th>11</th>\n",
       "      <td>G</td>\n",
       "      <td>0.994118</td>\n",
       "      <td>0.966667</td>\n",
       "    </tr>\n",
       "    <tr>\n",
       "      <th>12</th>\n",
       "      <td>H</td>\n",
       "      <td>0.997059</td>\n",
       "      <td>0.966667</td>\n",
       "    </tr>\n",
       "    <tr>\n",
       "      <th>13</th>\n",
       "      <td>I</td>\n",
       "      <td>1.000000</td>\n",
       "      <td>0.730769</td>\n",
       "    </tr>\n",
       "  </tbody>\n",
       "</table>\n",
       "</div>"
      ],
      "text/plain": [
       "   class  specificity  sensitivity\n",
       "0     A1     0.991304     0.920000\n",
       "1     A2     0.982405     0.965517\n",
       "2     B1     1.000000     0.956522\n",
       "3     B2     1.000000     0.846154\n",
       "4     C1     0.994152     0.928571\n",
       "5     C2     1.000000     0.750000\n",
       "6      D     0.985294     0.966667\n",
       "7      E     0.997076     0.714286\n",
       "8     F1     0.985465     0.961538\n",
       "9     F2     0.994220     0.791667\n",
       "10    F3     0.965217     1.000000\n",
       "11     G     0.994118     0.966667\n",
       "12     H     0.997059     0.966667\n",
       "13     I     1.000000     0.730769"
      ]
     },
     "execution_count": 66,
     "metadata": {},
     "output_type": "execute_result"
    }
   ],
   "source": [
    "from sklearn.metrics import precision_recall_fscore_support\n",
    "res = []\n",
    "for l in clf.classes_:\n",
    "    prec,recall,_,_ = precision_recall_fscore_support(np.array(target)==l,\n",
    "                                                      np.array(y_pred)==l,\n",
    "                                                      pos_label=True,average=None)\n",
    "    res.append([l,recall[0],recall[1]])\n",
    "    \n",
    "sen_spe_df = pd.DataFrame(res,columns = ['class','specificity','sensitivity'])\n",
    "sen_spe_df"
   ]
  },
  {
   "cell_type": "code",
   "execution_count": 67,
   "id": "0e7910ee",
   "metadata": {},
   "outputs": [
    {
     "data": {
      "text/plain": [
       "0.9918792756486814"
      ]
     },
     "execution_count": 67,
     "metadata": {},
     "output_type": "execute_result"
    }
   ],
   "source": [
    "# specificity = tn/(tn+fp)\n",
    "sen_spe_df['specificity'].mean()"
   ]
  },
  {
   "cell_type": "code",
   "execution_count": 68,
   "id": "190e57c7",
   "metadata": {},
   "outputs": [
    {
     "data": {
      "text/plain": [
       "0.8903588806067922"
      ]
     },
     "execution_count": 68,
     "metadata": {},
     "output_type": "execute_result"
    }
   ],
   "source": [
    "# sensitivity TP/(TP+FN)\n",
    "sen_spe_df['sensitivity'].mean()"
   ]
  },
  {
   "cell_type": "code",
   "execution_count": null,
   "id": "8a3fb924",
   "metadata": {},
   "outputs": [],
   "source": []
  }
 ],
 "metadata": {
  "kernelspec": {
   "display_name": "Python 3 (ipykernel)",
   "language": "python",
   "name": "python3"
  },
  "language_info": {
   "codemirror_mode": {
    "name": "ipython",
    "version": 3
   },
   "file_extension": ".py",
   "mimetype": "text/x-python",
   "name": "python",
   "nbconvert_exporter": "python",
   "pygments_lexer": "ipython3",
   "version": "3.9.12"
  }
 },
 "nbformat": 4,
 "nbformat_minor": 5
}
