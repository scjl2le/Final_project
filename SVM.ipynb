{
 "cells": [
  {
   "cell_type": "code",
   "execution_count": 1,
   "id": "2be880d2",
   "metadata": {},
   "outputs": [],
   "source": [
    "def warn(*args, **lwargs):\n",
    "    pass\n",
    "import warnings\n",
    "warnings.warn = warn\n",
    "\n",
    "import numpy as np\n",
    "import pandas as pd\n",
    "import matplotlib.pyplot as plt\n",
    "import time\n",
    "from sklearn.pipeline import Pipeline\n",
    "from sklearn.preprocessing import (StandardScaler, OneHotEncoder)\n",
    "from sklearn.impute import SimpleImputer\n",
    "from sklearn.model_selection import (GridSearchCV, cross_val_score)\n",
    "from sklearn import metrics\n",
    "from joblib import dump, load\n",
    "from sklearn.preprocessing import MinMaxScaler\n",
    "from sklearn.model_selection import cross_val_predict\n",
    "from sklearn.metrics import classification_report, confusion_matrix, ConfusionMatrixDisplay\n",
    "from sklearn.datasets import make_classification\n",
    "\n",
    "from sklearn.pipeline import make_pipeline\n",
    "from sklearn.svm import SVC\n",
    "from sklearn.discriminant_analysis import LinearDiscriminantAnalysis\n",
    "from sklearn.decomposition import PCA\n",
    "from sklearn.neighbors import (NearestNeighbors, NeighborhoodComponentsAnalysis)\n",
    "from sklearn import svm"
   ]
  },
  {
   "cell_type": "code",
   "execution_count": 2,
   "id": "9ee6b332",
   "metadata": {},
   "outputs": [],
   "source": [
    "# Windows\n",
    "ROOT = \"C:/Users/weiru/OneDrive - University of Leeds/MSc-Lab/datasets\""
   ]
  },
  {
   "cell_type": "code",
   "execution_count": 3,
   "id": "4ef3a00f",
   "metadata": {},
   "outputs": [],
   "source": [
    "dataPath = ROOT + \"/files/dataset1PTHuse1_400.csv\""
   ]
  },
  {
   "cell_type": "code",
   "execution_count": 4,
   "id": "d2a19d77",
   "metadata": {},
   "outputs": [],
   "source": [
    "df = pd.read_csv(dataPath)"
   ]
  },
  {
   "cell_type": "code",
   "execution_count": 5,
   "id": "bf5794f5",
   "metadata": {},
   "outputs": [
    {
     "data": {
      "text/html": [
       "<div>\n",
       "<style scoped>\n",
       "    .dataframe tbody tr th:only-of-type {\n",
       "        vertical-align: middle;\n",
       "    }\n",
       "\n",
       "    .dataframe tbody tr th {\n",
       "        vertical-align: top;\n",
       "    }\n",
       "\n",
       "    .dataframe thead th {\n",
       "        text-align: right;\n",
       "    }\n",
       "</style>\n",
       "<table border=\"1\" class=\"dataframe\">\n",
       "  <thead>\n",
       "    <tr style=\"text-align: right;\">\n",
       "      <th></th>\n",
       "      <th>Patient</th>\n",
       "      <th>PTH</th>\n",
       "      <th>Ca</th>\n",
       "      <th>Vit D</th>\n",
       "      <th>Mg</th>\n",
       "      <th>eGFR</th>\n",
       "      <th>Interpretation</th>\n",
       "    </tr>\n",
       "  </thead>\n",
       "  <tbody>\n",
       "    <tr>\n",
       "      <th>0</th>\n",
       "      <td>1</td>\n",
       "      <td>1.1</td>\n",
       "      <td>1.90</td>\n",
       "      <td>72.0</td>\n",
       "      <td>0.1</td>\n",
       "      <td>80</td>\n",
       "      <td>A1</td>\n",
       "    </tr>\n",
       "    <tr>\n",
       "      <th>1</th>\n",
       "      <td>2</td>\n",
       "      <td>15.4</td>\n",
       "      <td>2.85</td>\n",
       "      <td>90.0</td>\n",
       "      <td>0.9</td>\n",
       "      <td>66</td>\n",
       "      <td>I</td>\n",
       "    </tr>\n",
       "    <tr>\n",
       "      <th>2</th>\n",
       "      <td>3</td>\n",
       "      <td>0.7</td>\n",
       "      <td>1.70</td>\n",
       "      <td>89.0</td>\n",
       "      <td>1.0</td>\n",
       "      <td>90</td>\n",
       "      <td>A2</td>\n",
       "    </tr>\n",
       "    <tr>\n",
       "      <th>3</th>\n",
       "      <td>4</td>\n",
       "      <td>2.3</td>\n",
       "      <td>1.90</td>\n",
       "      <td>60.0</td>\n",
       "      <td>0.1</td>\n",
       "      <td>80</td>\n",
       "      <td>B1</td>\n",
       "    </tr>\n",
       "    <tr>\n",
       "      <th>4</th>\n",
       "      <td>5</td>\n",
       "      <td>12.2</td>\n",
       "      <td>1.70</td>\n",
       "      <td>32.0</td>\n",
       "      <td>1.0</td>\n",
       "      <td>90</td>\n",
       "      <td>C1</td>\n",
       "    </tr>\n",
       "    <tr>\n",
       "      <th>...</th>\n",
       "      <td>...</td>\n",
       "      <td>...</td>\n",
       "      <td>...</td>\n",
       "      <td>...</td>\n",
       "      <td>...</td>\n",
       "      <td>...</td>\n",
       "      <td>...</td>\n",
       "    </tr>\n",
       "    <tr>\n",
       "      <th>395</th>\n",
       "      <td>396</td>\n",
       "      <td>15.4</td>\n",
       "      <td>2.85</td>\n",
       "      <td>90.0</td>\n",
       "      <td>0.9</td>\n",
       "      <td>66</td>\n",
       "      <td>I</td>\n",
       "    </tr>\n",
       "    <tr>\n",
       "      <th>396</th>\n",
       "      <td>397</td>\n",
       "      <td>0.7</td>\n",
       "      <td>1.70</td>\n",
       "      <td>89.0</td>\n",
       "      <td>1.0</td>\n",
       "      <td>90</td>\n",
       "      <td>A2</td>\n",
       "    </tr>\n",
       "    <tr>\n",
       "      <th>397</th>\n",
       "      <td>398</td>\n",
       "      <td>2.3</td>\n",
       "      <td>1.90</td>\n",
       "      <td>60.0</td>\n",
       "      <td>0.1</td>\n",
       "      <td>80</td>\n",
       "      <td>B1</td>\n",
       "    </tr>\n",
       "    <tr>\n",
       "      <th>398</th>\n",
       "      <td>399</td>\n",
       "      <td>12.2</td>\n",
       "      <td>1.70</td>\n",
       "      <td>32.0</td>\n",
       "      <td>1.0</td>\n",
       "      <td>90</td>\n",
       "      <td>C1</td>\n",
       "    </tr>\n",
       "    <tr>\n",
       "      <th>399</th>\n",
       "      <td>400</td>\n",
       "      <td>0.5</td>\n",
       "      <td>2.92</td>\n",
       "      <td>95.0</td>\n",
       "      <td>1.3</td>\n",
       "      <td>71</td>\n",
       "      <td>G</td>\n",
       "    </tr>\n",
       "  </tbody>\n",
       "</table>\n",
       "<p>400 rows × 7 columns</p>\n",
       "</div>"
      ],
      "text/plain": [
       "     Patient   PTH    Ca  Vit D   Mg  eGFR Interpretation\n",
       "0          1   1.1  1.90   72.0  0.1    80             A1\n",
       "1          2  15.4  2.85   90.0  0.9    66              I\n",
       "2          3   0.7  1.70   89.0  1.0    90             A2\n",
       "3          4   2.3  1.90   60.0  0.1    80             B1\n",
       "4          5  12.2  1.70   32.0  1.0    90             C1\n",
       "..       ...   ...   ...    ...  ...   ...            ...\n",
       "395      396  15.4  2.85   90.0  0.9    66              I\n",
       "396      397   0.7  1.70   89.0  1.0    90             A2\n",
       "397      398   2.3  1.90   60.0  0.1    80             B1\n",
       "398      399  12.2  1.70   32.0  1.0    90             C1\n",
       "399      400   0.5  2.92   95.0  1.3    71              G\n",
       "\n",
       "[400 rows x 7 columns]"
      ]
     },
     "execution_count": 5,
     "metadata": {},
     "output_type": "execute_result"
    }
   ],
   "source": [
    "df"
   ]
  },
  {
   "cell_type": "code",
   "execution_count": 6,
   "id": "88aad035",
   "metadata": {},
   "outputs": [],
   "source": [
    "# Delete Patitent column\n",
    "\n",
    "df = df.drop(columns=['Patient']).copy()"
   ]
  },
  {
   "cell_type": "code",
   "execution_count": 7,
   "id": "27bea06c",
   "metadata": {},
   "outputs": [
    {
     "data": {
      "text/html": [
       "<div>\n",
       "<style scoped>\n",
       "    .dataframe tbody tr th:only-of-type {\n",
       "        vertical-align: middle;\n",
       "    }\n",
       "\n",
       "    .dataframe tbody tr th {\n",
       "        vertical-align: top;\n",
       "    }\n",
       "\n",
       "    .dataframe thead th {\n",
       "        text-align: right;\n",
       "    }\n",
       "</style>\n",
       "<table border=\"1\" class=\"dataframe\">\n",
       "  <thead>\n",
       "    <tr style=\"text-align: right;\">\n",
       "      <th></th>\n",
       "      <th>PTH</th>\n",
       "      <th>Ca</th>\n",
       "      <th>Vit D</th>\n",
       "      <th>Mg</th>\n",
       "      <th>eGFR</th>\n",
       "      <th>Interpretation</th>\n",
       "    </tr>\n",
       "  </thead>\n",
       "  <tbody>\n",
       "    <tr>\n",
       "      <th>0</th>\n",
       "      <td>1.1</td>\n",
       "      <td>1.90</td>\n",
       "      <td>72.0</td>\n",
       "      <td>0.1</td>\n",
       "      <td>80</td>\n",
       "      <td>A1</td>\n",
       "    </tr>\n",
       "    <tr>\n",
       "      <th>1</th>\n",
       "      <td>15.4</td>\n",
       "      <td>2.85</td>\n",
       "      <td>90.0</td>\n",
       "      <td>0.9</td>\n",
       "      <td>66</td>\n",
       "      <td>I</td>\n",
       "    </tr>\n",
       "    <tr>\n",
       "      <th>2</th>\n",
       "      <td>0.7</td>\n",
       "      <td>1.70</td>\n",
       "      <td>89.0</td>\n",
       "      <td>1.0</td>\n",
       "      <td>90</td>\n",
       "      <td>A2</td>\n",
       "    </tr>\n",
       "    <tr>\n",
       "      <th>3</th>\n",
       "      <td>2.3</td>\n",
       "      <td>1.90</td>\n",
       "      <td>60.0</td>\n",
       "      <td>0.1</td>\n",
       "      <td>80</td>\n",
       "      <td>B1</td>\n",
       "    </tr>\n",
       "    <tr>\n",
       "      <th>4</th>\n",
       "      <td>12.2</td>\n",
       "      <td>1.70</td>\n",
       "      <td>32.0</td>\n",
       "      <td>1.0</td>\n",
       "      <td>90</td>\n",
       "      <td>C1</td>\n",
       "    </tr>\n",
       "    <tr>\n",
       "      <th>...</th>\n",
       "      <td>...</td>\n",
       "      <td>...</td>\n",
       "      <td>...</td>\n",
       "      <td>...</td>\n",
       "      <td>...</td>\n",
       "      <td>...</td>\n",
       "    </tr>\n",
       "    <tr>\n",
       "      <th>395</th>\n",
       "      <td>15.4</td>\n",
       "      <td>2.85</td>\n",
       "      <td>90.0</td>\n",
       "      <td>0.9</td>\n",
       "      <td>66</td>\n",
       "      <td>I</td>\n",
       "    </tr>\n",
       "    <tr>\n",
       "      <th>396</th>\n",
       "      <td>0.7</td>\n",
       "      <td>1.70</td>\n",
       "      <td>89.0</td>\n",
       "      <td>1.0</td>\n",
       "      <td>90</td>\n",
       "      <td>A2</td>\n",
       "    </tr>\n",
       "    <tr>\n",
       "      <th>397</th>\n",
       "      <td>2.3</td>\n",
       "      <td>1.90</td>\n",
       "      <td>60.0</td>\n",
       "      <td>0.1</td>\n",
       "      <td>80</td>\n",
       "      <td>B1</td>\n",
       "    </tr>\n",
       "    <tr>\n",
       "      <th>398</th>\n",
       "      <td>12.2</td>\n",
       "      <td>1.70</td>\n",
       "      <td>32.0</td>\n",
       "      <td>1.0</td>\n",
       "      <td>90</td>\n",
       "      <td>C1</td>\n",
       "    </tr>\n",
       "    <tr>\n",
       "      <th>399</th>\n",
       "      <td>0.5</td>\n",
       "      <td>2.92</td>\n",
       "      <td>95.0</td>\n",
       "      <td>1.3</td>\n",
       "      <td>71</td>\n",
       "      <td>G</td>\n",
       "    </tr>\n",
       "  </tbody>\n",
       "</table>\n",
       "<p>400 rows × 6 columns</p>\n",
       "</div>"
      ],
      "text/plain": [
       "      PTH    Ca  Vit D   Mg  eGFR Interpretation\n",
       "0     1.1  1.90   72.0  0.1    80             A1\n",
       "1    15.4  2.85   90.0  0.9    66              I\n",
       "2     0.7  1.70   89.0  1.0    90             A2\n",
       "3     2.3  1.90   60.0  0.1    80             B1\n",
       "4    12.2  1.70   32.0  1.0    90             C1\n",
       "..    ...   ...    ...  ...   ...            ...\n",
       "395  15.4  2.85   90.0  0.9    66              I\n",
       "396   0.7  1.70   89.0  1.0    90             A2\n",
       "397   2.3  1.90   60.0  0.1    80             B1\n",
       "398  12.2  1.70   32.0  1.0    90             C1\n",
       "399   0.5  2.92   95.0  1.3    71              G\n",
       "\n",
       "[400 rows x 6 columns]"
      ]
     },
     "execution_count": 7,
     "metadata": {},
     "output_type": "execute_result"
    }
   ],
   "source": [
    "df"
   ]
  },
  {
   "cell_type": "code",
   "execution_count": 8,
   "id": "797dbac0",
   "metadata": {},
   "outputs": [],
   "source": [
    "class SupportVectorMachine():\n",
    "    \n",
    "    def __init__(self):\n",
    "        pass\n",
    "        \n",
    "    def removeNull(self, df):\n",
    "        nonNull_df = df.copy()\n",
    "        nonNull_df = nonNull_df.dropna(how='any',axis=0)\n",
    "        return nonNull_df \n",
    "    \n",
    "    def imputedDF(self, df, strategy):\n",
    "        \n",
    "        fill_NaN           = SimpleImputer(strategy=strategy)\n",
    "        df_attr            = df.iloc[:,:-1]\n",
    "\n",
    "        imputed_DF         = pd.DataFrame(fill_NaN.fit_transform(df_attr))\n",
    "        imputed_DF.columns = df_attr.columns\n",
    "        imputed_DF.index   = df_attr.index\n",
    "\n",
    "        new_df             = imputed_DF.join(df.iloc[:,-1])\n",
    "\n",
    "        return new_df\n",
    "    \n",
    "    \n",
    "    \n",
    "    def normalizedDF(self, df):\n",
    "        normalized            = MinMaxScaler()\n",
    "        df_attr               = df.iloc[:,:-1]\n",
    "        normalized_DF         = pd.DataFrame(normalized.fit_transform(df_attr))\n",
    "        normalized_DF.columns = df_attr.columns\n",
    "        normalized_DF.index   = df_attr.index\n",
    "        new_df                = normalized_DF.join(df.iloc[:,-1])\n",
    "        return new_df\n",
    "    \n",
    "    \n",
    "    \n",
    "    def standardDF(self, df):\n",
    "        std_scale      = StandardScaler()\n",
    "        df_attr        = df.iloc[:,:-1]\n",
    "        std_DF         = pd.DataFrame(std_scale.fit_transform(df_attr))\n",
    "        std_DF.columns = df_attr.columns\n",
    "        std_DF.index   = df_attr.index\n",
    "        new_df         = std_DF.join(df.iloc[:,-1])\n",
    "        return new_df\n",
    "    \n",
    "    \n",
    "    \n",
    "    def checkIsNull(self, df):\n",
    "        '''\n",
    "            Check whether the dataframe has nulls\n",
    "        '''\n",
    "        if df.isnull().values.any():\n",
    "            print(\"Data have nulls\")\n",
    "        else:\n",
    "            print(\"Data don't have nulls\")\n",
    "        \n",
    "        \n",
    "        \n",
    "    def pipe(self, CA=\"\"):\n",
    "        \n",
    "        RANDOM_STATE = 42\n",
    "        svc          = SVC()\n",
    "        pca          = PCA(random_state=RANDOM_STATE)\n",
    "        lda          = LinearDiscriminantAnalysis()\n",
    "        \n",
    "        svc_pipe     = Pipeline([('svc', svc)])\n",
    "        pca_pipe     = Pipeline([('pca', pca), ('svc', svc)])\n",
    "        lda_pipe     = Pipeline([('lda', lda), ('svc', svc)])\n",
    "        \n",
    "        if CA == 'pca':\n",
    "            return pca_pipe\n",
    "        if CA == 'lda':\n",
    "            return lda_pipe\n",
    "        \n",
    "        return svc_pipe\n",
    "    \n",
    "    \n",
    "    \n",
    "    def trainAndTarg(self, df):\n",
    "    \n",
    "        attri  = df.iloc[:,:-1]\n",
    "        target = df.iloc[:, -1]\n",
    "\n",
    "        return attri,target\n",
    "    \n",
    "    \n",
    "    \n",
    "    def print_best_param(self, clf_fit):\n",
    "        print('Best score : ', clf_fit.best_score_)\n",
    "        print('Best parameters', clf_fit.best_params_)\n",
    "        \n",
    "        \n",
    "    \n",
    "    def search__best_param(self, df, pipe, kernel, max_iter, p=False):\n",
    "        grid_params = {\n",
    "            'svc__C'                        : [0.001, 0.01, 0.1, 1, 10, 100, 1000],\n",
    "            'svc__kernel'                   : [kernel], #'linear', 'poly', 'rbf', 'sigmoid'\n",
    "            'svc__degree'                   : [n for n in range(1,11)], #[n for n in range(1,21)]\n",
    "            'svc__gamma'                    : ['scale', 'auto'], # 'scale', 'auto'\n",
    "            'svc__class_weight'             : [None, 'balanced'],\n",
    "            'svc__decision_function_shape'  : ['ovo', 'ovr'],\n",
    "            'svc__coef0'                    : [n*0.1 for n in range(1,11)],\n",
    "            'svc__max_iter'                 : [max_iter],\n",
    "            'svc__cache_size'               : [1000],\n",
    "            'svc__random_state'             : [42]\n",
    "        }\n",
    "\n",
    "        clf = GridSearchCV(\n",
    "            pipe,\n",
    "            grid_params,\n",
    "            cv=8,\n",
    "            n_jobs=-1\n",
    "        )\n",
    "\n",
    "        attri, target = self.trainAndTarg(df)\n",
    "        clf_fit = clf.fit(attri, target)\n",
    "\n",
    "        # print parameter\n",
    "        if p is True:\n",
    "            self.print_best_param(clf_fit)\n",
    "\n",
    "        return clf_fit"
   ]
  },
  {
   "cell_type": "code",
   "execution_count": 9,
   "id": "20dbaa1d",
   "metadata": {},
   "outputs": [],
   "source": [
    "# def search_params(df, pipe, attri, target):\n",
    "# #     svm        = SVC()\n",
    "# #     svm_pipe   = Pipeline([('svm', svm)])\n",
    "    \n",
    "    \n",
    "    \n",
    "#     grid_params = {\n",
    "#         'svm__C'                        : [0.001, 0.01, 0.1, 1, 10, 100, 1000],\n",
    "#         'svm__kernel'                   : ['linear', 'poly', 'rbf', 'sigmoid'], #'linear', 'poly', 'rbf', 'sigmoid'\n",
    "#         'svm__degree'                   : [n for n in range(1,11)], #[n for n in range(1,21)]\n",
    "#         'svm__gamma'                    : ['scale', 'auto'], # 'scale', 'auto'\n",
    "#         'svm__class_weight'             : [None, 'balanced'],\n",
    "#         'svm__decision_function_shape'  : ['ovo', 'ovr'],\n",
    "#         'svm__coef0'                    : [n*0.1 for n in range(1,11)],\n",
    "#         'svm__random_state'             : [42]\n",
    "#     }\n",
    "\n",
    "#     clf = GridSearchCV(\n",
    "#         pipe,\n",
    "#         grid_params,\n",
    "#         cv=8,\n",
    "#         n_jobs=-1\n",
    "#     )\n",
    "    \n",
    "#     attri, target = self.trainAndTarg(df)\n",
    "#     clf_fit = clf.fit(attri, target)\n",
    "    \n",
    "#     # print parameter\n",
    "#     if p is True:\n",
    "#         self.print_best_param(clf_fit)\n",
    "    \n",
    "#     return clf_fit"
   ]
  },
  {
   "cell_type": "code",
   "execution_count": 10,
   "id": "e455b8c2",
   "metadata": {},
   "outputs": [],
   "source": [
    "svm = SupportVectorMachine()"
   ]
  },
  {
   "cell_type": "code",
   "execution_count": null,
   "id": "4caa0fc2",
   "metadata": {},
   "outputs": [],
   "source": []
  },
  {
   "cell_type": "markdown",
   "id": "48280143",
   "metadata": {},
   "source": [
    "### Baseline Experiment"
   ]
  },
  {
   "cell_type": "markdown",
   "id": "e264eebe",
   "metadata": {},
   "source": [
    "#### remove nulls"
   ]
  },
  {
   "cell_type": "code",
   "execution_count": 11,
   "id": "1678b61f",
   "metadata": {},
   "outputs": [],
   "source": [
    "def runExp1_1(df, CA):\n",
    "    max_iter = 100\n",
    "    nonNull_df    = svm.removeNull(df)\n",
    "    pipe          = svm.pipe(CA)\n",
    "    kernels       = ['linear', 'poly','sigmoid']\n",
    "    clfs          = []\n",
    "    for k in kernels:\n",
    "        clfs.append(svm.search__best_param(df=nonNull_df, pipe=pipe, kernel=k, max_iter=max_iter, p=True))\n",
    "\n",
    "    return clfs"
   ]
  },
  {
   "cell_type": "code",
   "execution_count": 12,
   "id": "8702c5f0",
   "metadata": {},
   "outputs": [
    {
     "name": "stdout",
     "output_type": "stream",
     "text": [
      "Best score :  0.6001965772432932\n",
      "Best parameters {'svc__C': 1, 'svc__cache_size': 1000, 'svc__class_weight': 'balanced', 'svc__coef0': 0.1, 'svc__decision_function_shape': 'ovo', 'svc__degree': 1, 'svc__gamma': 'scale', 'svc__kernel': 'linear', 'svc__max_iter': 100, 'svc__random_state': 42}\n",
      "Best score :  0.6218778908418132\n",
      "Best parameters {'svc__C': 10, 'svc__cache_size': 1000, 'svc__class_weight': 'balanced', 'svc__coef0': 0.1, 'svc__decision_function_shape': 'ovo', 'svc__degree': 1, 'svc__gamma': 'auto', 'svc__kernel': 'poly', 'svc__max_iter': 100, 'svc__random_state': 42}\n",
      "Best score :  0.12182007400555041\n",
      "Best parameters {'svc__C': 10, 'svc__cache_size': 1000, 'svc__class_weight': 'balanced', 'svc__coef0': 0.8, 'svc__decision_function_shape': 'ovo', 'svc__degree': 1, 'svc__gamma': 'scale', 'svc__kernel': 'sigmoid', 'svc__max_iter': 100, 'svc__random_state': 42}\n"
     ]
    }
   ],
   "source": [
    "resiult_n_n = runExp1_1(df, '')"
   ]
  },
  {
   "cell_type": "code",
   "execution_count": 13,
   "id": "88d852cc",
   "metadata": {},
   "outputs": [
    {
     "name": "stdout",
     "output_type": "stream",
     "text": [
      "Best score :  0.5996762257169288\n",
      "Best parameters {'svc__C': 10, 'svc__cache_size': 1000, 'svc__class_weight': None, 'svc__coef0': 0.1, 'svc__decision_function_shape': 'ovo', 'svc__degree': 1, 'svc__gamma': 'scale', 'svc__kernel': 'linear', 'svc__max_iter': 100, 'svc__random_state': 42}\n",
      "Best score :  0.6355226641998151\n",
      "Best parameters {'svc__C': 1, 'svc__cache_size': 1000, 'svc__class_weight': 'balanced', 'svc__coef0': 0.8, 'svc__decision_function_shape': 'ovo', 'svc__degree': 1, 'svc__gamma': 'auto', 'svc__kernel': 'poly', 'svc__max_iter': 100, 'svc__random_state': 42}\n",
      "Best score :  0.21629278445883443\n",
      "Best parameters {'svc__C': 1, 'svc__cache_size': 1000, 'svc__class_weight': 'balanced', 'svc__coef0': 0.1, 'svc__decision_function_shape': 'ovo', 'svc__degree': 1, 'svc__gamma': 'scale', 'svc__kernel': 'sigmoid', 'svc__max_iter': 100, 'svc__random_state': 42}\n"
     ]
    }
   ],
   "source": [
    "resiult_n_pca = runExp1_1(df, 'pca')"
   ]
  },
  {
   "cell_type": "code",
   "execution_count": 14,
   "id": "1d08cead",
   "metadata": {
    "scrolled": true
   },
   "outputs": [
    {
     "name": "stdout",
     "output_type": "stream",
     "text": [
      "Best score :  0.9085337650323775\n",
      "Best parameters {'svc__C': 1, 'svc__cache_size': 1000, 'svc__class_weight': 'balanced', 'svc__coef0': 0.1, 'svc__decision_function_shape': 'ovo', 'svc__degree': 1, 'svc__gamma': 'scale', 'svc__kernel': 'linear', 'svc__max_iter': 100, 'svc__random_state': 42}\n",
      "Best score :  0.9273242368177613\n",
      "Best parameters {'svc__C': 10, 'svc__cache_size': 1000, 'svc__class_weight': 'balanced', 'svc__coef0': 0.30000000000000004, 'svc__decision_function_shape': 'ovo', 'svc__degree': 4, 'svc__gamma': 'scale', 'svc__kernel': 'poly', 'svc__max_iter': 100, 'svc__random_state': 42}\n",
      "Best score :  0.7301688251618872\n",
      "Best parameters {'svc__C': 1, 'svc__cache_size': 1000, 'svc__class_weight': 'balanced', 'svc__coef0': 0.1, 'svc__decision_function_shape': 'ovo', 'svc__degree': 1, 'svc__gamma': 'scale', 'svc__kernel': 'sigmoid', 'svc__max_iter': 100, 'svc__random_state': 42}\n"
     ]
    }
   ],
   "source": [
    "resiult_n_lda = runExp1_1(df, 'lda')"
   ]
  },
  {
   "cell_type": "code",
   "execution_count": null,
   "id": "8c3ea50a",
   "metadata": {},
   "outputs": [],
   "source": []
  },
  {
   "cell_type": "markdown",
   "id": "fa6184f6",
   "metadata": {},
   "source": [
    "#### norm  + remove nulls"
   ]
  },
  {
   "cell_type": "code",
   "execution_count": 15,
   "id": "8d137cc0",
   "metadata": {},
   "outputs": [],
   "source": [
    "def runExp1_2(df,CA):\n",
    "    max_iter = 100\n",
    "    nonNull_df    = svm.removeNull(df)\n",
    "    norm_df        = svm.normalizedDF(nonNull_df)\n",
    "    pipe          = svm.pipe(CA)\n",
    "    kernels       = ['linear', 'poly','sigmoid']\n",
    "    clfs          = []\n",
    "    for k in kernels:\n",
    "        clfs.append(svm.search__best_param(df=norm_df, pipe=pipe, kernel=k, max_iter=max_iter, p=True))\n",
    "\n",
    "    return clfs"
   ]
  },
  {
   "cell_type": "code",
   "execution_count": 16,
   "id": "a069ffca",
   "metadata": {},
   "outputs": [
    {
     "name": "stdout",
     "output_type": "stream",
     "text": [
      "Best score :  0.9056429232192413\n",
      "Best parameters {'svc__C': 1000, 'svc__cache_size': 1000, 'svc__class_weight': None, 'svc__coef0': 0.1, 'svc__decision_function_shape': 'ovo', 'svc__degree': 1, 'svc__gamma': 'scale', 'svc__kernel': 'linear', 'svc__max_iter': 100, 'svc__random_state': 42}\n",
      "Best score :  0.9165703052728955\n",
      "Best parameters {'svc__C': 1000, 'svc__cache_size': 1000, 'svc__class_weight': 'balanced', 'svc__coef0': 0.2, 'svc__decision_function_shape': 'ovo', 'svc__degree': 2, 'svc__gamma': 'auto', 'svc__kernel': 'poly', 'svc__max_iter': 100, 'svc__random_state': 42}\n",
      "Best score :  0.9030411655874191\n",
      "Best parameters {'svc__C': 1000, 'svc__cache_size': 1000, 'svc__class_weight': 'balanced', 'svc__coef0': 0.1, 'svc__decision_function_shape': 'ovo', 'svc__degree': 1, 'svc__gamma': 'auto', 'svc__kernel': 'sigmoid', 'svc__max_iter': 100, 'svc__random_state': 42}\n"
     ]
    }
   ],
   "source": [
    "resiult_n_norm = runExp1_2(df, '')"
   ]
  },
  {
   "cell_type": "code",
   "execution_count": 17,
   "id": "9b48c4b1",
   "metadata": {},
   "outputs": [
    {
     "name": "stdout",
     "output_type": "stream",
     "text": [
      "Best score :  0.9084759481961147\n",
      "Best parameters {'svc__C': 1000, 'svc__cache_size': 1000, 'svc__class_weight': None, 'svc__coef0': 0.1, 'svc__decision_function_shape': 'ovo', 'svc__degree': 1, 'svc__gamma': 'scale', 'svc__kernel': 'linear', 'svc__max_iter': 100, 'svc__random_state': 42}\n",
      "Best score :  0.919345513413506\n",
      "Best parameters {'svc__C': 100, 'svc__cache_size': 1000, 'svc__class_weight': None, 'svc__coef0': 0.9, 'svc__decision_function_shape': 'ovo', 'svc__degree': 6, 'svc__gamma': 'auto', 'svc__kernel': 'poly', 'svc__max_iter': 100, 'svc__random_state': 42}\n",
      "Best score :  0.9137372802960222\n",
      "Best parameters {'svc__C': 1000, 'svc__cache_size': 1000, 'svc__class_weight': 'balanced', 'svc__coef0': 0.2, 'svc__decision_function_shape': 'ovo', 'svc__degree': 1, 'svc__gamma': 'auto', 'svc__kernel': 'sigmoid', 'svc__max_iter': 100, 'svc__random_state': 42}\n"
     ]
    }
   ],
   "source": [
    "resiult_pca_norm = runExp1_2(df, 'pca')"
   ]
  },
  {
   "cell_type": "code",
   "execution_count": 18,
   "id": "27e0312a",
   "metadata": {},
   "outputs": [
    {
     "name": "stdout",
     "output_type": "stream",
     "text": [
      "Best score :  0.9085337650323775\n",
      "Best parameters {'svc__C': 1, 'svc__cache_size': 1000, 'svc__class_weight': 'balanced', 'svc__coef0': 0.1, 'svc__decision_function_shape': 'ovo', 'svc__degree': 1, 'svc__gamma': 'scale', 'svc__kernel': 'linear', 'svc__max_iter': 100, 'svc__random_state': 42}\n",
      "Best score :  0.9273242368177613\n",
      "Best parameters {'svc__C': 10, 'svc__cache_size': 1000, 'svc__class_weight': 'balanced', 'svc__coef0': 0.30000000000000004, 'svc__decision_function_shape': 'ovo', 'svc__degree': 4, 'svc__gamma': 'scale', 'svc__kernel': 'poly', 'svc__max_iter': 100, 'svc__random_state': 42}\n",
      "Best score :  0.7301688251618872\n",
      "Best parameters {'svc__C': 1, 'svc__cache_size': 1000, 'svc__class_weight': 'balanced', 'svc__coef0': 0.1, 'svc__decision_function_shape': 'ovo', 'svc__degree': 1, 'svc__gamma': 'scale', 'svc__kernel': 'sigmoid', 'svc__max_iter': 100, 'svc__random_state': 42}\n"
     ]
    }
   ],
   "source": [
    "resiult_lda_norm = runExp1_2(df, 'lda')"
   ]
  },
  {
   "cell_type": "markdown",
   "id": "ca155b49",
   "metadata": {},
   "source": [
    "#### std  + remove nulls"
   ]
  },
  {
   "cell_type": "code",
   "execution_count": 19,
   "id": "51708ea4",
   "metadata": {},
   "outputs": [],
   "source": [
    "def runExp1_3(df,CA):\n",
    "    max_iter = 100\n",
    "    nonNull_df    = svm.removeNull(df)\n",
    "    std_df        = svm.standardDF(nonNull_df)\n",
    "    pipe          = svm.pipe(CA)\n",
    "    kernels       = ['linear', 'poly','sigmoid']\n",
    "    clfs          = []\n",
    "    for k in kernels:\n",
    "        clfs.append(svm.search__best_param(df=std_df, pipe=pipe, kernel=k, max_iter=max_iter, p=True))\n",
    "\n",
    "    return clfs"
   ]
  },
  {
   "cell_type": "code",
   "execution_count": 20,
   "id": "db0350fb",
   "metadata": {},
   "outputs": [
    {
     "name": "stdout",
     "output_type": "stream",
     "text": [
      "Best score :  0.9003237742830713\n",
      "Best parameters {'svc__C': 10, 'svc__cache_size': 1000, 'svc__class_weight': 'balanced', 'svc__coef0': 0.1, 'svc__decision_function_shape': 'ovo', 'svc__degree': 1, 'svc__gamma': 'scale', 'svc__kernel': 'linear', 'svc__max_iter': 100, 'svc__random_state': 42}\n",
      "Best score :  0.9165124884366327\n",
      "Best parameters {'svc__C': 100, 'svc__cache_size': 1000, 'svc__class_weight': None, 'svc__coef0': 1.0, 'svc__decision_function_shape': 'ovo', 'svc__degree': 1, 'svc__gamma': 'scale', 'svc__kernel': 'poly', 'svc__max_iter': 100, 'svc__random_state': 42}\n",
      "Best score :  0.7382053654024052\n",
      "Best parameters {'svc__C': 1, 'svc__cache_size': 1000, 'svc__class_weight': 'balanced', 'svc__coef0': 0.1, 'svc__decision_function_shape': 'ovo', 'svc__degree': 1, 'svc__gamma': 'scale', 'svc__kernel': 'sigmoid', 'svc__max_iter': 100, 'svc__random_state': 42}\n"
     ]
    }
   ],
   "source": [
    "resiult_n_std = runExp1_3(df, '')"
   ]
  },
  {
   "cell_type": "code",
   "execution_count": 21,
   "id": "b64e3681",
   "metadata": {},
   "outputs": [
    {
     "name": "stdout",
     "output_type": "stream",
     "text": [
      "Best score :  0.9003237742830713\n",
      "Best parameters {'svc__C': 10, 'svc__cache_size': 1000, 'svc__class_weight': None, 'svc__coef0': 0.1, 'svc__decision_function_shape': 'ovo', 'svc__degree': 1, 'svc__gamma': 'scale', 'svc__kernel': 'linear', 'svc__max_iter': 100, 'svc__random_state': 42}\n",
      "Best score :  0.919172062904718\n",
      "Best parameters {'svc__C': 100, 'svc__cache_size': 1000, 'svc__class_weight': 'balanced', 'svc__coef0': 0.9, 'svc__decision_function_shape': 'ovo', 'svc__degree': 1, 'svc__gamma': 'scale', 'svc__kernel': 'poly', 'svc__max_iter': 100, 'svc__random_state': 42}\n",
      "Best score :  0.7354301572617946\n",
      "Best parameters {'svc__C': 1, 'svc__cache_size': 1000, 'svc__class_weight': None, 'svc__coef0': 0.1, 'svc__decision_function_shape': 'ovo', 'svc__degree': 1, 'svc__gamma': 'scale', 'svc__kernel': 'sigmoid', 'svc__max_iter': 100, 'svc__random_state': 42}\n"
     ]
    }
   ],
   "source": [
    "resiult_pca_std = runExp1_3(df, 'pca')"
   ]
  },
  {
   "cell_type": "code",
   "execution_count": 22,
   "id": "4f47f795",
   "metadata": {},
   "outputs": [
    {
     "name": "stdout",
     "output_type": "stream",
     "text": [
      "Best score :  0.9085337650323775\n",
      "Best parameters {'svc__C': 1, 'svc__cache_size': 1000, 'svc__class_weight': 'balanced', 'svc__coef0': 0.1, 'svc__decision_function_shape': 'ovo', 'svc__degree': 1, 'svc__gamma': 'scale', 'svc__kernel': 'linear', 'svc__max_iter': 100, 'svc__random_state': 42}\n",
      "Best score :  0.9273242368177613\n",
      "Best parameters {'svc__C': 10, 'svc__cache_size': 1000, 'svc__class_weight': 'balanced', 'svc__coef0': 0.30000000000000004, 'svc__decision_function_shape': 'ovo', 'svc__degree': 4, 'svc__gamma': 'scale', 'svc__kernel': 'poly', 'svc__max_iter': 100, 'svc__random_state': 42}\n",
      "Best score :  0.7301688251618872\n",
      "Best parameters {'svc__C': 1, 'svc__cache_size': 1000, 'svc__class_weight': 'balanced', 'svc__coef0': 0.1, 'svc__decision_function_shape': 'ovo', 'svc__degree': 1, 'svc__gamma': 'scale', 'svc__kernel': 'sigmoid', 'svc__max_iter': 100, 'svc__random_state': 42}\n"
     ]
    }
   ],
   "source": [
    "resiult_lda_std = runExp1_3(df, 'lda')"
   ]
  },
  {
   "cell_type": "code",
   "execution_count": null,
   "id": "8defeb33",
   "metadata": {},
   "outputs": [],
   "source": []
  },
  {
   "cell_type": "markdown",
   "id": "d8a36605",
   "metadata": {},
   "source": [
    "### Control Experiment"
   ]
  },
  {
   "cell_type": "markdown",
   "id": "49642df8",
   "metadata": {},
   "source": [
    "#### replace nulls"
   ]
  },
  {
   "cell_type": "code",
   "execution_count": 23,
   "id": "7b904ba9",
   "metadata": {},
   "outputs": [],
   "source": [
    "def runExp2_1(df, strategy):\n",
    "    max_iter = 100\n",
    "    replaced_df   = svm.imputedDF(df, strategy)\n",
    "    pipe          = svm.pipe('')\n",
    "    kernels       = ['linear', 'poly','sigmoid']\n",
    "    clfs          = []\n",
    "    for k in kernels:\n",
    "        clfs.append(svm.search__best_param(df=replaced_df, pipe=pipe, kernel=k, max_iter=max_iter, p=True))\n",
    "\n",
    "    return clfs"
   ]
  },
  {
   "cell_type": "code",
   "execution_count": 24,
   "id": "9c1b372a",
   "metadata": {},
   "outputs": [
    {
     "name": "stdout",
     "output_type": "stream",
     "text": [
      "Best score :  0.5825\n",
      "Best parameters {'svc__C': 1, 'svc__cache_size': 1000, 'svc__class_weight': None, 'svc__coef0': 0.1, 'svc__decision_function_shape': 'ovo', 'svc__degree': 1, 'svc__gamma': 'scale', 'svc__kernel': 'linear', 'svc__max_iter': 100, 'svc__random_state': 42}\n",
      "Best score :  0.5950000000000001\n",
      "Best parameters {'svc__C': 100, 'svc__cache_size': 1000, 'svc__class_weight': None, 'svc__coef0': 0.1, 'svc__decision_function_shape': 'ovo', 'svc__degree': 1, 'svc__gamma': 'auto', 'svc__kernel': 'poly', 'svc__max_iter': 100, 'svc__random_state': 42}\n",
      "Best score :  0.105\n",
      "Best parameters {'svc__C': 10, 'svc__cache_size': 1000, 'svc__class_weight': None, 'svc__coef0': 1.0, 'svc__decision_function_shape': 'ovo', 'svc__degree': 1, 'svc__gamma': 'scale', 'svc__kernel': 'sigmoid', 'svc__max_iter': 100, 'svc__random_state': 42}\n"
     ]
    }
   ],
   "source": [
    "result_mean = runExp2_1(df,'mean')"
   ]
  },
  {
   "cell_type": "code",
   "execution_count": 25,
   "id": "fe5b1404",
   "metadata": {},
   "outputs": [
    {
     "name": "stdout",
     "output_type": "stream",
     "text": [
      "Best score :  0.5875\n",
      "Best parameters {'svc__C': 1, 'svc__cache_size': 1000, 'svc__class_weight': None, 'svc__coef0': 0.1, 'svc__decision_function_shape': 'ovo', 'svc__degree': 1, 'svc__gamma': 'scale', 'svc__kernel': 'linear', 'svc__max_iter': 100, 'svc__random_state': 42}\n",
      "Best score :  0.5775\n",
      "Best parameters {'svc__C': 1000, 'svc__cache_size': 1000, 'svc__class_weight': None, 'svc__coef0': 0.5, 'svc__decision_function_shape': 'ovo', 'svc__degree': 1, 'svc__gamma': 'auto', 'svc__kernel': 'poly', 'svc__max_iter': 100, 'svc__random_state': 42}\n",
      "Best score :  0.105\n",
      "Best parameters {'svc__C': 10, 'svc__cache_size': 1000, 'svc__class_weight': None, 'svc__coef0': 1.0, 'svc__decision_function_shape': 'ovo', 'svc__degree': 1, 'svc__gamma': 'scale', 'svc__kernel': 'sigmoid', 'svc__max_iter': 100, 'svc__random_state': 42}\n"
     ]
    }
   ],
   "source": [
    "result_median = runExp2_1(df,'median')"
   ]
  },
  {
   "cell_type": "code",
   "execution_count": 26,
   "id": "4fd1a4e5",
   "metadata": {},
   "outputs": [
    {
     "name": "stdout",
     "output_type": "stream",
     "text": [
      "Best score :  0.5625\n",
      "Best parameters {'svc__C': 1, 'svc__cache_size': 1000, 'svc__class_weight': None, 'svc__coef0': 0.1, 'svc__decision_function_shape': 'ovo', 'svc__degree': 1, 'svc__gamma': 'scale', 'svc__kernel': 'linear', 'svc__max_iter': 100, 'svc__random_state': 42}\n",
      "Best score :  0.575\n",
      "Best parameters {'svc__C': 1000, 'svc__cache_size': 1000, 'svc__class_weight': None, 'svc__coef0': 0.1, 'svc__decision_function_shape': 'ovo', 'svc__degree': 1, 'svc__gamma': 'auto', 'svc__kernel': 'poly', 'svc__max_iter': 100, 'svc__random_state': 42}\n",
      "Best score :  0.10500000000000001\n",
      "Best parameters {'svc__C': 10, 'svc__cache_size': 1000, 'svc__class_weight': None, 'svc__coef0': 1.0, 'svc__decision_function_shape': 'ovo', 'svc__degree': 1, 'svc__gamma': 'scale', 'svc__kernel': 'sigmoid', 'svc__max_iter': 100, 'svc__random_state': 42}\n"
     ]
    }
   ],
   "source": [
    "result_most = runExp2_1(df,'most_frequent')"
   ]
  },
  {
   "cell_type": "markdown",
   "id": "790d2c37",
   "metadata": {},
   "source": [
    "#### replace nulls + norm "
   ]
  },
  {
   "cell_type": "code",
   "execution_count": 27,
   "id": "e2b6f917",
   "metadata": {},
   "outputs": [],
   "source": [
    "def runExp2_2(df, strategy):\n",
    "    max_iter = 100\n",
    "    replaced_df   = svm.imputedDF(df, strategy)\n",
    "    norm_df       = svm.normalizedDF(replaced_df)\n",
    "    pipe          = svm.pipe('')\n",
    "    kernels       = ['linear', 'poly','sigmoid']\n",
    "    clfs          = []\n",
    "    for k in kernels:\n",
    "        clfs.append(svm.search__best_param(df=norm_df, pipe=pipe, kernel=k, max_iter=max_iter, p=True))\n",
    "\n",
    "    return clfs"
   ]
  },
  {
   "cell_type": "code",
   "execution_count": 28,
   "id": "8024e160",
   "metadata": {},
   "outputs": [
    {
     "name": "stdout",
     "output_type": "stream",
     "text": [
      "Best score :  0.8625\n",
      "Best parameters {'svc__C': 1000, 'svc__cache_size': 1000, 'svc__class_weight': None, 'svc__coef0': 0.1, 'svc__decision_function_shape': 'ovo', 'svc__degree': 1, 'svc__gamma': 'scale', 'svc__kernel': 'linear', 'svc__max_iter': 100, 'svc__random_state': 42}\n",
      "Best score :  0.8775\n",
      "Best parameters {'svc__C': 1000, 'svc__cache_size': 1000, 'svc__class_weight': None, 'svc__coef0': 0.5, 'svc__decision_function_shape': 'ovo', 'svc__degree': 2, 'svc__gamma': 'auto', 'svc__kernel': 'poly', 'svc__max_iter': 100, 'svc__random_state': 42}\n",
      "Best score :  0.8475\n",
      "Best parameters {'svc__C': 1000, 'svc__cache_size': 1000, 'svc__class_weight': None, 'svc__coef0': 0.1, 'svc__decision_function_shape': 'ovo', 'svc__degree': 1, 'svc__gamma': 'auto', 'svc__kernel': 'sigmoid', 'svc__max_iter': 100, 'svc__random_state': 42}\n"
     ]
    }
   ],
   "source": [
    "result_mean_norm = runExp2_2(df,'mean')"
   ]
  },
  {
   "cell_type": "code",
   "execution_count": 29,
   "id": "95edccaf",
   "metadata": {},
   "outputs": [
    {
     "name": "stdout",
     "output_type": "stream",
     "text": [
      "Best score :  0.8525\n",
      "Best parameters {'svc__C': 1000, 'svc__cache_size': 1000, 'svc__class_weight': None, 'svc__coef0': 0.1, 'svc__decision_function_shape': 'ovo', 'svc__degree': 1, 'svc__gamma': 'scale', 'svc__kernel': 'linear', 'svc__max_iter': 100, 'svc__random_state': 42}\n",
      "Best score :  0.87\n",
      "Best parameters {'svc__C': 1000, 'svc__cache_size': 1000, 'svc__class_weight': None, 'svc__coef0': 0.7000000000000001, 'svc__decision_function_shape': 'ovo', 'svc__degree': 2, 'svc__gamma': 'auto', 'svc__kernel': 'poly', 'svc__max_iter': 100, 'svc__random_state': 42}\n",
      "Best score :  0.8175\n",
      "Best parameters {'svc__C': 1000, 'svc__cache_size': 1000, 'svc__class_weight': None, 'svc__coef0': 0.1, 'svc__decision_function_shape': 'ovo', 'svc__degree': 1, 'svc__gamma': 'auto', 'svc__kernel': 'sigmoid', 'svc__max_iter': 100, 'svc__random_state': 42}\n"
     ]
    }
   ],
   "source": [
    "result_median_norm = runExp2_2(df,'median')"
   ]
  },
  {
   "cell_type": "code",
   "execution_count": 30,
   "id": "a702f020",
   "metadata": {},
   "outputs": [
    {
     "name": "stdout",
     "output_type": "stream",
     "text": [
      "Best score :  0.8250000000000001\n",
      "Best parameters {'svc__C': 100, 'svc__cache_size': 1000, 'svc__class_weight': None, 'svc__coef0': 0.1, 'svc__decision_function_shape': 'ovo', 'svc__degree': 1, 'svc__gamma': 'scale', 'svc__kernel': 'linear', 'svc__max_iter': 100, 'svc__random_state': 42}\n",
      "Best score :  0.8475\n",
      "Best parameters {'svc__C': 1000, 'svc__cache_size': 1000, 'svc__class_weight': None, 'svc__coef0': 0.2, 'svc__decision_function_shape': 'ovo', 'svc__degree': 2, 'svc__gamma': 'auto', 'svc__kernel': 'poly', 'svc__max_iter': 100, 'svc__random_state': 42}\n",
      "Best score :  0.8250000000000001\n",
      "Best parameters {'svc__C': 1000, 'svc__cache_size': 1000, 'svc__class_weight': None, 'svc__coef0': 0.1, 'svc__decision_function_shape': 'ovo', 'svc__degree': 1, 'svc__gamma': 'auto', 'svc__kernel': 'sigmoid', 'svc__max_iter': 100, 'svc__random_state': 42}\n"
     ]
    }
   ],
   "source": [
    "result_most_norm = runExp2_2(df,'most_frequent')"
   ]
  },
  {
   "cell_type": "markdown",
   "id": "1d4b0936",
   "metadata": {},
   "source": [
    "#### replace nulls + std"
   ]
  },
  {
   "cell_type": "code",
   "execution_count": 31,
   "id": "93e54422",
   "metadata": {},
   "outputs": [],
   "source": [
    "def runExp2_3(df, strategy):\n",
    "    max_iter = 100\n",
    "    replaced_df   = svm.imputedDF(df, strategy)\n",
    "    std_df        = svm.standardDF(replaced_df)\n",
    "    pipe          = svm.pipe('')\n",
    "    kernels       = ['linear', 'poly','sigmoid']\n",
    "    clfs          = []\n",
    "    for k in kernels:\n",
    "        clfs.append(svm.search__best_param(df=std_df, pipe=pipe, kernel=k, max_iter=max_iter, p=True))\n",
    "\n",
    "    return clfs"
   ]
  },
  {
   "cell_type": "code",
   "execution_count": 32,
   "id": "8c9fe111",
   "metadata": {},
   "outputs": [
    {
     "name": "stdout",
     "output_type": "stream",
     "text": [
      "Best score :  0.8625\n",
      "Best parameters {'svc__C': 10, 'svc__cache_size': 1000, 'svc__class_weight': None, 'svc__coef0': 0.1, 'svc__decision_function_shape': 'ovo', 'svc__degree': 1, 'svc__gamma': 'scale', 'svc__kernel': 'linear', 'svc__max_iter': 100, 'svc__random_state': 42}\n",
      "Best score :  0.8775\n",
      "Best parameters {'svc__C': 100, 'svc__cache_size': 1000, 'svc__class_weight': None, 'svc__coef0': 0.9, 'svc__decision_function_shape': 'ovo', 'svc__degree': 1, 'svc__gamma': 'scale', 'svc__kernel': 'poly', 'svc__max_iter': 100, 'svc__random_state': 42}\n",
      "Best score :  0.6849999999999999\n",
      "Best parameters {'svc__C': 1, 'svc__cache_size': 1000, 'svc__class_weight': None, 'svc__coef0': 0.1, 'svc__decision_function_shape': 'ovo', 'svc__degree': 1, 'svc__gamma': 'auto', 'svc__kernel': 'sigmoid', 'svc__max_iter': 100, 'svc__random_state': 42}\n"
     ]
    }
   ],
   "source": [
    "result_mean_std = runExp2_3(df,'mean')"
   ]
  },
  {
   "cell_type": "code",
   "execution_count": 33,
   "id": "7f166502",
   "metadata": {},
   "outputs": [
    {
     "name": "stdout",
     "output_type": "stream",
     "text": [
      "Best score :  0.8350000000000001\n",
      "Best parameters {'svc__C': 10, 'svc__cache_size': 1000, 'svc__class_weight': 'balanced', 'svc__coef0': 0.1, 'svc__decision_function_shape': 'ovo', 'svc__degree': 1, 'svc__gamma': 'scale', 'svc__kernel': 'linear', 'svc__max_iter': 100, 'svc__random_state': 42}\n",
      "Best score :  0.8575\n",
      "Best parameters {'svc__C': 100, 'svc__cache_size': 1000, 'svc__class_weight': None, 'svc__coef0': 0.8, 'svc__decision_function_shape': 'ovo', 'svc__degree': 1, 'svc__gamma': 'auto', 'svc__kernel': 'poly', 'svc__max_iter': 100, 'svc__random_state': 42}\n",
      "Best score :  0.6824999999999999\n",
      "Best parameters {'svc__C': 1, 'svc__cache_size': 1000, 'svc__class_weight': None, 'svc__coef0': 0.1, 'svc__decision_function_shape': 'ovo', 'svc__degree': 1, 'svc__gamma': 'auto', 'svc__kernel': 'sigmoid', 'svc__max_iter': 100, 'svc__random_state': 42}\n"
     ]
    }
   ],
   "source": [
    "result_median_std = runExp2_3(df,'median')"
   ]
  },
  {
   "cell_type": "code",
   "execution_count": 34,
   "id": "b892378b",
   "metadata": {},
   "outputs": [
    {
     "name": "stdout",
     "output_type": "stream",
     "text": [
      "Best score :  0.83\n",
      "Best parameters {'svc__C': 10, 'svc__cache_size': 1000, 'svc__class_weight': None, 'svc__coef0': 0.1, 'svc__decision_function_shape': 'ovo', 'svc__degree': 1, 'svc__gamma': 'scale', 'svc__kernel': 'linear', 'svc__max_iter': 100, 'svc__random_state': 42}\n",
      "Best score :  0.845\n",
      "Best parameters {'svc__C': 100, 'svc__cache_size': 1000, 'svc__class_weight': None, 'svc__coef0': 0.6000000000000001, 'svc__decision_function_shape': 'ovo', 'svc__degree': 1, 'svc__gamma': 'auto', 'svc__kernel': 'poly', 'svc__max_iter': 100, 'svc__random_state': 42}\n",
      "Best score :  0.685\n",
      "Best parameters {'svc__C': 1, 'svc__cache_size': 1000, 'svc__class_weight': None, 'svc__coef0': 0.1, 'svc__decision_function_shape': 'ovo', 'svc__degree': 1, 'svc__gamma': 'auto', 'svc__kernel': 'sigmoid', 'svc__max_iter': 100, 'svc__random_state': 42}\n"
     ]
    }
   ],
   "source": [
    "result_most_std = runExp2_3(df,'most_frequent')"
   ]
  },
  {
   "cell_type": "code",
   "execution_count": null,
   "id": "43da8cf1",
   "metadata": {},
   "outputs": [],
   "source": []
  },
  {
   "cell_type": "markdown",
   "id": "e3ece89a",
   "metadata": {},
   "source": [
    "#### replace nulls + norm + PCA / LDA"
   ]
  },
  {
   "cell_type": "code",
   "execution_count": 35,
   "id": "e2026e2f",
   "metadata": {},
   "outputs": [],
   "source": [
    "def runExp2_4(df, strategy, CA):\n",
    "    max_iter = 100\n",
    "    replaced_df   = svm.imputedDF(df, strategy)\n",
    "    norm_df       = svm.normalizedDF(replaced_df)\n",
    "    pipe          = svm.pipe(CA)\n",
    "    kernels       = ['linear', 'poly','sigmoid']\n",
    "    clfs          = []\n",
    "    for k in kernels:\n",
    "        clfs.append(svm.search__best_param(df=norm_df, pipe=pipe, kernel=k, max_iter=max_iter, p=True))\n",
    "\n",
    "    return clfs"
   ]
  },
  {
   "cell_type": "code",
   "execution_count": 36,
   "id": "29cdb275",
   "metadata": {},
   "outputs": [
    {
     "name": "stdout",
     "output_type": "stream",
     "text": [
      "Best score :  0.8574999999999999\n",
      "Best parameters {'svc__C': 100, 'svc__cache_size': 1000, 'svc__class_weight': None, 'svc__coef0': 0.1, 'svc__decision_function_shape': 'ovo', 'svc__degree': 1, 'svc__gamma': 'scale', 'svc__kernel': 'linear', 'svc__max_iter': 100, 'svc__random_state': 42}\n",
      "Best score :  0.8849999999999999\n",
      "Best parameters {'svc__C': 1000, 'svc__cache_size': 1000, 'svc__class_weight': None, 'svc__coef0': 0.8, 'svc__decision_function_shape': 'ovo', 'svc__degree': 4, 'svc__gamma': 'auto', 'svc__kernel': 'poly', 'svc__max_iter': 100, 'svc__random_state': 42}\n",
      "Best score :  0.865\n",
      "Best parameters {'svc__C': 1000, 'svc__cache_size': 1000, 'svc__class_weight': None, 'svc__coef0': 0.1, 'svc__decision_function_shape': 'ovo', 'svc__degree': 1, 'svc__gamma': 'auto', 'svc__kernel': 'sigmoid', 'svc__max_iter': 100, 'svc__random_state': 42}\n"
     ]
    }
   ],
   "source": [
    "result_mean_pca_std = runExp2_4(df,'mean','pca')"
   ]
  },
  {
   "cell_type": "code",
   "execution_count": 37,
   "id": "f616e8d4",
   "metadata": {},
   "outputs": [
    {
     "name": "stdout",
     "output_type": "stream",
     "text": [
      "Best score :  0.845\n",
      "Best parameters {'svc__C': 1000, 'svc__cache_size': 1000, 'svc__class_weight': None, 'svc__coef0': 0.1, 'svc__decision_function_shape': 'ovo', 'svc__degree': 1, 'svc__gamma': 'scale', 'svc__kernel': 'linear', 'svc__max_iter': 100, 'svc__random_state': 42}\n",
      "Best score :  0.8725\n",
      "Best parameters {'svc__C': 1000, 'svc__cache_size': 1000, 'svc__class_weight': None, 'svc__coef0': 1.0, 'svc__decision_function_shape': 'ovo', 'svc__degree': 2, 'svc__gamma': 'auto', 'svc__kernel': 'poly', 'svc__max_iter': 100, 'svc__random_state': 42}\n",
      "Best score :  0.8425\n",
      "Best parameters {'svc__C': 1000, 'svc__cache_size': 1000, 'svc__class_weight': None, 'svc__coef0': 0.2, 'svc__decision_function_shape': 'ovo', 'svc__degree': 1, 'svc__gamma': 'auto', 'svc__kernel': 'sigmoid', 'svc__max_iter': 100, 'svc__random_state': 42}\n"
     ]
    }
   ],
   "source": [
    "result_median_pca_std = runExp2_4(df,'median','pca')"
   ]
  },
  {
   "cell_type": "code",
   "execution_count": 38,
   "id": "f2494751",
   "metadata": {},
   "outputs": [
    {
     "name": "stdout",
     "output_type": "stream",
     "text": [
      "Best score :  0.8225\n",
      "Best parameters {'svc__C': 100, 'svc__cache_size': 1000, 'svc__class_weight': None, 'svc__coef0': 0.1, 'svc__decision_function_shape': 'ovo', 'svc__degree': 1, 'svc__gamma': 'scale', 'svc__kernel': 'linear', 'svc__max_iter': 100, 'svc__random_state': 42}\n",
      "Best score :  0.8550000000000001\n",
      "Best parameters {'svc__C': 1000, 'svc__cache_size': 1000, 'svc__class_weight': None, 'svc__coef0': 0.9, 'svc__decision_function_shape': 'ovo', 'svc__degree': 7, 'svc__gamma': 'auto', 'svc__kernel': 'poly', 'svc__max_iter': 100, 'svc__random_state': 42}\n",
      "Best score :  0.8325\n",
      "Best parameters {'svc__C': 1000, 'svc__cache_size': 1000, 'svc__class_weight': None, 'svc__coef0': 0.5, 'svc__decision_function_shape': 'ovo', 'svc__degree': 1, 'svc__gamma': 'auto', 'svc__kernel': 'sigmoid', 'svc__max_iter': 100, 'svc__random_state': 42}\n"
     ]
    }
   ],
   "source": [
    "result_most_pca_std = runExp2_4(df,'most_frequent','pca')"
   ]
  },
  {
   "cell_type": "code",
   "execution_count": 39,
   "id": "eaa79276",
   "metadata": {},
   "outputs": [
    {
     "name": "stdout",
     "output_type": "stream",
     "text": [
      "Best score :  0.8625\n",
      "Best parameters {'svc__C': 1, 'svc__cache_size': 1000, 'svc__class_weight': None, 'svc__coef0': 0.1, 'svc__decision_function_shape': 'ovo', 'svc__degree': 1, 'svc__gamma': 'scale', 'svc__kernel': 'linear', 'svc__max_iter': 100, 'svc__random_state': 42}\n",
      "Best score :  0.8825000000000001\n",
      "Best parameters {'svc__C': 10, 'svc__cache_size': 1000, 'svc__class_weight': None, 'svc__coef0': 0.30000000000000004, 'svc__decision_function_shape': 'ovo', 'svc__degree': 3, 'svc__gamma': 'scale', 'svc__kernel': 'poly', 'svc__max_iter': 100, 'svc__random_state': 42}\n",
      "Best score :  0.6499999999999999\n",
      "Best parameters {'svc__C': 1, 'svc__cache_size': 1000, 'svc__class_weight': None, 'svc__coef0': 0.1, 'svc__decision_function_shape': 'ovo', 'svc__degree': 1, 'svc__gamma': 'scale', 'svc__kernel': 'sigmoid', 'svc__max_iter': 100, 'svc__random_state': 42}\n"
     ]
    }
   ],
   "source": [
    "result_mean_lda_std = runExp2_4(df,'mean','lda')"
   ]
  },
  {
   "cell_type": "code",
   "execution_count": 40,
   "id": "726927fc",
   "metadata": {},
   "outputs": [
    {
     "name": "stdout",
     "output_type": "stream",
     "text": [
      "Best score :  0.8500000000000001\n",
      "Best parameters {'svc__C': 1, 'svc__cache_size': 1000, 'svc__class_weight': None, 'svc__coef0': 0.1, 'svc__decision_function_shape': 'ovo', 'svc__degree': 1, 'svc__gamma': 'scale', 'svc__kernel': 'linear', 'svc__max_iter': 100, 'svc__random_state': 42}\n",
      "Best score :  0.875\n",
      "Best parameters {'svc__C': 10, 'svc__cache_size': 1000, 'svc__class_weight': None, 'svc__coef0': 0.30000000000000004, 'svc__decision_function_shape': 'ovo', 'svc__degree': 3, 'svc__gamma': 'scale', 'svc__kernel': 'poly', 'svc__max_iter': 100, 'svc__random_state': 42}\n",
      "Best score :  0.6475\n",
      "Best parameters {'svc__C': 1, 'svc__cache_size': 1000, 'svc__class_weight': None, 'svc__coef0': 0.1, 'svc__decision_function_shape': 'ovo', 'svc__degree': 1, 'svc__gamma': 'scale', 'svc__kernel': 'sigmoid', 'svc__max_iter': 100, 'svc__random_state': 42}\n"
     ]
    }
   ],
   "source": [
    "result_median_lda_std = runExp2_4(df,'median','lda')"
   ]
  },
  {
   "cell_type": "code",
   "execution_count": 41,
   "id": "ff97325b",
   "metadata": {},
   "outputs": [
    {
     "name": "stdout",
     "output_type": "stream",
     "text": [
      "Best score :  0.8325\n",
      "Best parameters {'svc__C': 1, 'svc__cache_size': 1000, 'svc__class_weight': None, 'svc__coef0': 0.1, 'svc__decision_function_shape': 'ovo', 'svc__degree': 1, 'svc__gamma': 'scale', 'svc__kernel': 'linear', 'svc__max_iter': 100, 'svc__random_state': 42}\n",
      "Best score :  0.8675\n",
      "Best parameters {'svc__C': 10, 'svc__cache_size': 1000, 'svc__class_weight': None, 'svc__coef0': 0.30000000000000004, 'svc__decision_function_shape': 'ovo', 'svc__degree': 3, 'svc__gamma': 'scale', 'svc__kernel': 'poly', 'svc__max_iter': 100, 'svc__random_state': 42}\n",
      "Best score :  0.6525000000000001\n",
      "Best parameters {'svc__C': 1, 'svc__cache_size': 1000, 'svc__class_weight': None, 'svc__coef0': 0.1, 'svc__decision_function_shape': 'ovo', 'svc__degree': 1, 'svc__gamma': 'scale', 'svc__kernel': 'sigmoid', 'svc__max_iter': 100, 'svc__random_state': 42}\n"
     ]
    }
   ],
   "source": [
    "result_most_lda_std = runExp2_4(df,'most_frequent','lda')"
   ]
  },
  {
   "cell_type": "code",
   "execution_count": null,
   "id": "0f240ff0",
   "metadata": {},
   "outputs": [],
   "source": []
  },
  {
   "cell_type": "markdown",
   "id": "6b2bcbe2",
   "metadata": {},
   "source": [
    "### Runtime Experiment"
   ]
  },
  {
   "cell_type": "code",
   "execution_count": 42,
   "id": "125d9508",
   "metadata": {},
   "outputs": [],
   "source": [
    "def runExp3_1(df, scale):\n",
    "    max_iter = 100\n",
    "    nonNull_df    = svm.removeNull(df)\n",
    "    std_df        = svm.standardDF(nonNull_df)\n",
    "    norm_df       = svm.normalizedDF(nonNull_df)\n",
    "    pipe          = svm.pipe('lda')\n",
    "    \n",
    "    if scale == '':\n",
    "        search_df = nonNull_df\n",
    "    if scale == 'std':\n",
    "        search_df = std_df\n",
    "    if scale == 'norm':\n",
    "        search_df = norm_df\n",
    "    kernels       = ['linear', 'poly','sigmoid']\n",
    "    clfs          = []\n",
    "    _time         = []\n",
    "    \n",
    "    for k in kernels:\n",
    "        start_time = time.time()\n",
    "        clfs.append(svm.search__best_param(df=search_df, pipe=pipe, kernel=k, max_iter=max_iter, p=True))\n",
    "        end_time   = time.time()\n",
    "        _time.append(end_time-start_time)\n",
    "        \n",
    "    print(\"avge time is \", np.mean(_time))\n",
    "    \n",
    "    return clfs"
   ]
  },
  {
   "cell_type": "code",
   "execution_count": 43,
   "id": "dde382e8",
   "metadata": {},
   "outputs": [
    {
     "name": "stdout",
     "output_type": "stream",
     "text": [
      "Best score :  0.9085337650323775\n",
      "Best parameters {'svc__C': 1, 'svc__cache_size': 1000, 'svc__class_weight': 'balanced', 'svc__coef0': 0.1, 'svc__decision_function_shape': 'ovo', 'svc__degree': 1, 'svc__gamma': 'scale', 'svc__kernel': 'linear', 'svc__max_iter': 100, 'svc__random_state': 42}\n",
      "Best score :  0.9273242368177613\n",
      "Best parameters {'svc__C': 10, 'svc__cache_size': 1000, 'svc__class_weight': 'balanced', 'svc__coef0': 0.30000000000000004, 'svc__decision_function_shape': 'ovo', 'svc__degree': 4, 'svc__gamma': 'scale', 'svc__kernel': 'poly', 'svc__max_iter': 100, 'svc__random_state': 42}\n",
      "Best score :  0.7301688251618872\n",
      "Best parameters {'svc__C': 1, 'svc__cache_size': 1000, 'svc__class_weight': 'balanced', 'svc__coef0': 0.1, 'svc__decision_function_shape': 'ovo', 'svc__degree': 1, 'svc__gamma': 'scale', 'svc__kernel': 'sigmoid', 'svc__max_iter': 100, 'svc__random_state': 42}\n",
      "avge time is  50.47963190078735\n"
     ]
    }
   ],
   "source": [
    "time_nonnull = runExp3_1(df, '')"
   ]
  },
  {
   "cell_type": "code",
   "execution_count": 44,
   "id": "cc306a44",
   "metadata": {},
   "outputs": [
    {
     "name": "stdout",
     "output_type": "stream",
     "text": [
      "Best score :  0.9085337650323775\n",
      "Best parameters {'svc__C': 1, 'svc__cache_size': 1000, 'svc__class_weight': 'balanced', 'svc__coef0': 0.1, 'svc__decision_function_shape': 'ovo', 'svc__degree': 1, 'svc__gamma': 'scale', 'svc__kernel': 'linear', 'svc__max_iter': 100, 'svc__random_state': 42}\n",
      "Best score :  0.9273242368177613\n",
      "Best parameters {'svc__C': 10, 'svc__cache_size': 1000, 'svc__class_weight': 'balanced', 'svc__coef0': 0.30000000000000004, 'svc__decision_function_shape': 'ovo', 'svc__degree': 4, 'svc__gamma': 'scale', 'svc__kernel': 'poly', 'svc__max_iter': 100, 'svc__random_state': 42}\n",
      "Best score :  0.7301688251618872\n",
      "Best parameters {'svc__C': 1, 'svc__cache_size': 1000, 'svc__class_weight': 'balanced', 'svc__coef0': 0.1, 'svc__decision_function_shape': 'ovo', 'svc__degree': 1, 'svc__gamma': 'scale', 'svc__kernel': 'sigmoid', 'svc__max_iter': 100, 'svc__random_state': 42}\n",
      "avge time is  49.10741591453552\n"
     ]
    }
   ],
   "source": [
    "time_norm = runExp3_1(df, 'norm')"
   ]
  },
  {
   "cell_type": "code",
   "execution_count": 45,
   "id": "adb032e7",
   "metadata": {},
   "outputs": [
    {
     "name": "stdout",
     "output_type": "stream",
     "text": [
      "Best score :  0.9085337650323775\n",
      "Best parameters {'svc__C': 1, 'svc__cache_size': 1000, 'svc__class_weight': 'balanced', 'svc__coef0': 0.1, 'svc__decision_function_shape': 'ovo', 'svc__degree': 1, 'svc__gamma': 'scale', 'svc__kernel': 'linear', 'svc__max_iter': 100, 'svc__random_state': 42}\n",
      "Best score :  0.9273242368177613\n",
      "Best parameters {'svc__C': 10, 'svc__cache_size': 1000, 'svc__class_weight': 'balanced', 'svc__coef0': 0.30000000000000004, 'svc__decision_function_shape': 'ovo', 'svc__degree': 4, 'svc__gamma': 'scale', 'svc__kernel': 'poly', 'svc__max_iter': 100, 'svc__random_state': 42}\n",
      "Best score :  0.7301688251618872\n",
      "Best parameters {'svc__C': 1, 'svc__cache_size': 1000, 'svc__class_weight': 'balanced', 'svc__coef0': 0.1, 'svc__decision_function_shape': 'ovo', 'svc__degree': 1, 'svc__gamma': 'scale', 'svc__kernel': 'sigmoid', 'svc__max_iter': 100, 'svc__random_state': 42}\n",
      "avge time is  49.34351293245951\n"
     ]
    }
   ],
   "source": [
    "time_std = runExp3_1(df, 'std')"
   ]
  },
  {
   "cell_type": "markdown",
   "id": "8992d0ab",
   "metadata": {},
   "source": [
    "### Evaluation"
   ]
  },
  {
   "cell_type": "code",
   "execution_count": 46,
   "id": "4ba48f15",
   "metadata": {},
   "outputs": [
    {
     "data": {
      "text/plain": [
       "Pipeline(steps=[('lda', LinearDiscriminantAnalysis()),\n",
       "                ('svc',\n",
       "                 SVC(C=10, cache_size=1000, class_weight='balanced',\n",
       "                     coef0=0.30000000000000004, decision_function_shape='ovo',\n",
       "                     degree=4, kernel='poly', max_iter=100, random_state=42))])"
      ]
     },
     "execution_count": 46,
     "metadata": {},
     "output_type": "execute_result"
    }
   ],
   "source": [
    "clf = time_std[1]\n",
    "clf.best_estimator_"
   ]
  },
  {
   "cell_type": "code",
   "execution_count": 47,
   "id": "f70fe856",
   "metadata": {},
   "outputs": [],
   "source": [
    "attri, target = svm.trainAndTarg(svm.normalizedDF(svm.removeNull(df)))"
   ]
  },
  {
   "cell_type": "code",
   "execution_count": 48,
   "id": "ea6e1fd1",
   "metadata": {},
   "outputs": [
    {
     "name": "stdout",
     "output_type": "stream",
     "text": [
      "[0.85106383 0.89361702 0.97826087 0.97826087 0.80434783 0.97826087\n",
      " 0.95652174 0.97826087]\n",
      "mean score :  0.9273242368177613\n"
     ]
    }
   ],
   "source": [
    "scores = cross_val_score(clf.best_estimator_, attri, target, n_jobs=-1,cv=8, scoring='accuracy')\n",
    "print(scores)\n",
    "print('mean score : ', scores.mean())"
   ]
  },
  {
   "cell_type": "code",
   "execution_count": 49,
   "id": "615ac2cf",
   "metadata": {},
   "outputs": [
    {
     "data": {
      "image/png": "[encoded data removed]",
      "text/plain": [
       "<Figure size 720x720 with 2 Axes>"
      ]
     },
     "metadata": {
      "needs_background": "light"
     },
     "output_type": "display_data"
    },
    {
     "name": "stdout",
     "output_type": "stream",
     "text": [
      "              precision    recall  f1-score   support\n",
      "\n",
      "          A1       0.89      0.96      0.92        25\n",
      "          A2       0.97      0.97      0.97        29\n",
      "          B1       0.92      0.96      0.94        23\n",
      "          B2       1.00      0.92      0.96        26\n",
      "          C1       0.93      0.89      0.91        28\n",
      "          C2       0.95      0.90      0.92        20\n",
      "           D       0.93      0.93      0.93        30\n",
      "           E       0.93      0.89      0.91        28\n",
      "          F1       0.86      0.96      0.91        26\n",
      "          F2       0.95      0.83      0.89        24\n",
      "          F3       0.86      0.96      0.91        25\n",
      "           G       0.90      0.93      0.92        30\n",
      "           H       1.00      0.97      0.98        30\n",
      "           I       0.92      0.88      0.90        26\n",
      "\n",
      "    accuracy                           0.93       370\n",
      "   macro avg       0.93      0.93      0.93       370\n",
      "weighted avg       0.93      0.93      0.93       370\n",
      "\n"
     ]
    }
   ],
   "source": [
    "y_pred = cross_val_predict(clf.best_estimator_, attri, target, n_jobs=-1,cv=8)\n",
    "conf_mat = confusion_matrix(target, y_pred)\n",
    "disp = ConfusionMatrixDisplay(\n",
    "    confusion_matrix=conf_mat,\n",
    "    display_labels=clf.classes_\n",
    ")\n",
    "fig, ax = plt.subplots(figsize=(10,10))\n",
    "plt.grid(False)\n",
    "disp.plot(ax=ax)\n",
    "plt.show()\n",
    "print(classification_report(target, y_pred))"
   ]
  },
  {
   "cell_type": "code",
   "execution_count": 50,
   "id": "7092088e",
   "metadata": {},
   "outputs": [
    {
     "data": {
      "text/html": [
       "<div>\n",
       "<style scoped>\n",
       "    .dataframe tbody tr th:only-of-type {\n",
       "        vertical-align: middle;\n",
       "    }\n",
       "\n",
       "    .dataframe tbody tr th {\n",
       "        vertical-align: top;\n",
       "    }\n",
       "\n",
       "    .dataframe thead th {\n",
       "        text-align: right;\n",
       "    }\n",
       "</style>\n",
       "<table border=\"1\" class=\"dataframe\">\n",
       "  <thead>\n",
       "    <tr style=\"text-align: right;\">\n",
       "      <th></th>\n",
       "      <th>class</th>\n",
       "      <th>specificity</th>\n",
       "      <th>sensitivity</th>\n",
       "    </tr>\n",
       "  </thead>\n",
       "  <tbody>\n",
       "    <tr>\n",
       "      <th>0</th>\n",
       "      <td>A1</td>\n",
       "      <td>0.991304</td>\n",
       "      <td>0.960000</td>\n",
       "    </tr>\n",
       "    <tr>\n",
       "      <th>1</th>\n",
       "      <td>A2</td>\n",
       "      <td>0.997067</td>\n",
       "      <td>0.965517</td>\n",
       "    </tr>\n",
       "    <tr>\n",
       "      <th>2</th>\n",
       "      <td>B1</td>\n",
       "      <td>0.994236</td>\n",
       "      <td>0.956522</td>\n",
       "    </tr>\n",
       "    <tr>\n",
       "      <th>3</th>\n",
       "      <td>B2</td>\n",
       "      <td>1.000000</td>\n",
       "      <td>0.923077</td>\n",
       "    </tr>\n",
       "    <tr>\n",
       "      <th>4</th>\n",
       "      <td>C1</td>\n",
       "      <td>0.994152</td>\n",
       "      <td>0.892857</td>\n",
       "    </tr>\n",
       "    <tr>\n",
       "      <th>5</th>\n",
       "      <td>C2</td>\n",
       "      <td>0.997143</td>\n",
       "      <td>0.900000</td>\n",
       "    </tr>\n",
       "    <tr>\n",
       "      <th>6</th>\n",
       "      <td>D</td>\n",
       "      <td>0.994118</td>\n",
       "      <td>0.933333</td>\n",
       "    </tr>\n",
       "    <tr>\n",
       "      <th>7</th>\n",
       "      <td>E</td>\n",
       "      <td>0.994152</td>\n",
       "      <td>0.892857</td>\n",
       "    </tr>\n",
       "    <tr>\n",
       "      <th>8</th>\n",
       "      <td>F1</td>\n",
       "      <td>0.988372</td>\n",
       "      <td>0.961538</td>\n",
       "    </tr>\n",
       "    <tr>\n",
       "      <th>9</th>\n",
       "      <td>F2</td>\n",
       "      <td>0.997110</td>\n",
       "      <td>0.833333</td>\n",
       "    </tr>\n",
       "    <tr>\n",
       "      <th>10</th>\n",
       "      <td>F3</td>\n",
       "      <td>0.988406</td>\n",
       "      <td>0.960000</td>\n",
       "    </tr>\n",
       "    <tr>\n",
       "      <th>11</th>\n",
       "      <td>G</td>\n",
       "      <td>0.991176</td>\n",
       "      <td>0.933333</td>\n",
       "    </tr>\n",
       "    <tr>\n",
       "      <th>12</th>\n",
       "      <td>H</td>\n",
       "      <td>1.000000</td>\n",
       "      <td>0.966667</td>\n",
       "    </tr>\n",
       "    <tr>\n",
       "      <th>13</th>\n",
       "      <td>I</td>\n",
       "      <td>0.994186</td>\n",
       "      <td>0.884615</td>\n",
       "    </tr>\n",
       "  </tbody>\n",
       "</table>\n",
       "</div>"
      ],
      "text/plain": [
       "   class  specificity  sensitivity\n",
       "0     A1     0.991304     0.960000\n",
       "1     A2     0.997067     0.965517\n",
       "2     B1     0.994236     0.956522\n",
       "3     B2     1.000000     0.923077\n",
       "4     C1     0.994152     0.892857\n",
       "5     C2     0.997143     0.900000\n",
       "6      D     0.994118     0.933333\n",
       "7      E     0.994152     0.892857\n",
       "8     F1     0.988372     0.961538\n",
       "9     F2     0.997110     0.833333\n",
       "10    F3     0.988406     0.960000\n",
       "11     G     0.991176     0.933333\n",
       "12     H     1.000000     0.966667\n",
       "13     I     0.994186     0.884615"
      ]
     },
     "execution_count": 50,
     "metadata": {},
     "output_type": "execute_result"
    }
   ],
   "source": [
    "from sklearn.metrics import precision_recall_fscore_support\n",
    "res = []\n",
    "for l in clf.classes_:\n",
    "    prec,recall,_,_ = precision_recall_fscore_support(np.array(target)==l,\n",
    "                                                      np.array(y_pred)==l,\n",
    "                                                      pos_label=True,average=None)\n",
    "    res.append([l,recall[0],recall[1]])\n",
    "    \n",
    "sen_spe_df = pd.DataFrame(res,columns = ['class','specificity','sensitivity'])\n",
    "sen_spe_df"
   ]
  },
  {
   "cell_type": "code",
   "execution_count": 51,
   "id": "ed10eea9",
   "metadata": {},
   "outputs": [
    {
     "data": {
      "text/plain": [
       "0.9943873528091948"
      ]
     },
     "execution_count": 51,
     "metadata": {},
     "output_type": "execute_result"
    }
   ],
   "source": [
    "# specificity = tn/(tn+fp)\n",
    "sen_spe_df['specificity'].mean()"
   ]
  },
  {
   "cell_type": "code",
   "execution_count": 52,
   "id": "ce2ca35a",
   "metadata": {},
   "outputs": [
    {
     "data": {
      "text/plain": [
       "0.9259750501515336"
      ]
     },
     "execution_count": 52,
     "metadata": {},
     "output_type": "execute_result"
    }
   ],
   "source": [
    "# sensitivity TP/(TP+FN)\n",
    "sen_spe_df['sensitivity'].mean()"
   ]
  },
  {
   "cell_type": "code",
   "execution_count": null,
   "id": "96b85f2b",
   "metadata": {},
   "outputs": [],
   "source": []
  },
  {
   "cell_type": "code",
   "execution_count": null,
   "id": "c2666423",
   "metadata": {},
   "outputs": [],
   "source": []
  }
 ],
 "metadata": {
  "kernelspec": {
   "display_name": "Python 3 (ipykernel)",
   "language": "python",
   "name": "python3"
  },
  "language_info": {
   "codemirror_mode": {
    "name": "ipython",
    "version": 3
   },
   "file_extension": ".py",
   "mimetype": "text/x-python",
   "name": "python",
   "nbconvert_exporter": "python",
   "pygments_lexer": "ipython3",
   "version": "3.9.12"
  }
 },
 "nbformat": 4,
 "nbformat_minor": 5
}
